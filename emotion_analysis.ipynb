{
  "nbformat": 4,
  "nbformat_minor": 0,
  "metadata": {
    "colab": {
      "name": "emotion_analysis.ipynb",
      "provenance": [],
      "collapsed_sections": [],
      "authorship_tag": "ABX9TyO6dwmAS7gYpta40dUnsFjN",
      "include_colab_link": true
    },
    "kernelspec": {
      "name": "python3",
      "display_name": "Python 3"
    },
    "language_info": {
      "name": "python"
    }
  },
  "cells": [
    {
      "cell_type": "markdown",
      "metadata": {
        "id": "view-in-github",
        "colab_type": "text"
      },
      "source": [
        "<a href=\"https://colab.research.google.com/github/tsato-code/colab_notebooks/blob/master/emotion_analysis.ipynb\" target=\"_parent\"><img src=\"https://colab.research.google.com/assets/colab-badge.svg\" alt=\"Open In Colab\"/></a>"
      ]
    },
    {
      "cell_type": "markdown",
      "metadata": {
        "id": "Uquq7x2U5R6k"
      },
      "source": [
        "### 参考資料\n",
        "[Python で日本語文章の感情分析を簡単に試す (with google colab)](https://jupyterbook.hnishi.com/language-models/easy_try_sentiment_analysis.html)"
      ]
    },
    {
      "cell_type": "code",
      "metadata": {
        "id": "_j58I8Rmss6E"
      },
      "source": [
        "%%capture capt\n",
        "\n",
        "# MeCabのインストール\n",
        "!apt install mecab libmecab-dev mecab-ipadic-utf8\n",
        "!pip install mecab-python3\n",
        "\n",
        "# mecab-ipadic-NEologdのインストール\n",
        "!apt install git make curl xz-utils file\n",
        "!git clone --depth 1 https://github.com/neologd/mecab-ipadic-neologd.git\n",
        "!echo yes | mecab-ipadic-neologd/bin/install-mecab-ipadic-neologd -n -a\n",
        "\n",
        "# Ref: https://qiita.com/Fulltea/items/90f6ebe6dcceaf64eaef\n",
        "# Ref: https://qiita.com/SUZUKI_Masaya/items/685000d569452585210c\n",
        "\n",
        "!ln -s /etc/mecabrc /usr/local/etc/mecabrc\n",
        "# Ref: https://qiita.com/Naritoshi/items/8f55d7d5cce9ce414395"
      ],
      "execution_count": 1,
      "outputs": []
    },
    {
      "cell_type": "code",
      "metadata": {
        "colab": {
          "base_uri": "https://localhost:8080/"
        },
        "id": "b6GPcdlR1UPN",
        "outputId": "a37f1fab-ec57-4da3-8929-5e74ba617548"
      },
      "source": [
        "# 感情分析のためのライブラリ\n",
        "!pip install -q asari oseti pymlask\n",
        "# asari==0.0.4 requires Janome==0.3.7\n",
        "# see https://github.com/Hironsan/asari/issues/9#issuecomment-695706645\n",
        "!pip install Janome==0.3.7"
      ],
      "execution_count": 2,
      "outputs": [
        {
          "output_type": "stream",
          "text": [
            "\u001b[K     |████████████████████████████████| 10.4MB 3.9MB/s \n",
            "\u001b[K     |████████████████████████████████| 81kB 8.8MB/s \n",
            "\u001b[K     |████████████████████████████████| 71kB 7.6MB/s \n",
            "\u001b[K     |████████████████████████████████| 19.7MB 1.4MB/s \n",
            "\u001b[K     |████████████████████████████████| 61kB 7.7MB/s \n",
            "\u001b[K     |████████████████████████████████| 133kB 43.1MB/s \n",
            "\u001b[?25h  Building wheel for oseti (setup.py) ... \u001b[?25l\u001b[?25hdone\n",
            "  Building wheel for pymlask (setup.py) ... \u001b[?25l\u001b[?25hdone\n",
            "  Building wheel for sengiri (setup.py) ... \u001b[?25l\u001b[?25hdone\n",
            "  Building wheel for neologdn (setup.py) ... \u001b[?25l\u001b[?25hdone\n",
            "Collecting Janome==0.3.7\n",
            "\u001b[?25l  Downloading https://files.pythonhosted.org/packages/a0/af/a57956e98b26beebc4efe20c3f5b482f0b4e091f546bfd90a96678da2f1c/Janome-0.3.7-py27.py3-none-any.whl (20.7MB)\n",
            "\u001b[K     |████████████████████████████████| 20.7MB 53.1MB/s \n",
            "\u001b[?25hInstalling collected packages: Janome\n",
            "  Found existing installation: Janome 0.4.1\n",
            "    Uninstalling Janome-0.4.1:\n",
            "      Successfully uninstalled Janome-0.4.1\n",
            "Successfully installed Janome-0.3.7\n"
          ],
          "name": "stdout"
        }
      ]
    },
    {
      "cell_type": "code",
      "metadata": {
        "id": "ObXX-kSc1ZSI"
      },
      "source": [
        "list_text = [\n",
        "             'この人は、この世の中で、いちばんしあわせな人にちがいありません。',\n",
        "             '芝居小屋もすばらしいし、お客さんもすばらしい人たちでした。',\n",
        "             'もし中世の時代だったら、おそらく、火あぶりにされたでしょうよ。',\n",
        "             'みんなのうるさいことといったら、まるで、ハエがびんの中で、ブンブンいっているようでした。',\n",
        "             'われわれ人間が、こういうことを考えだすことができるとすれば、われわれは、地の中にうめられるまでに、もっと長生きできてもいいはずだが'\n",
        "]"
      ],
      "execution_count": 3,
      "outputs": []
    },
    {
      "cell_type": "markdown",
      "metadata": {
        "id": "NmCnyW-g3Lls"
      },
      "source": [
        "## asari"
      ]
    },
    {
      "cell_type": "code",
      "metadata": {
        "id": "g9Qi0Lyj15ez"
      },
      "source": [
        "%%capture capt\n",
        "\n",
        "# シンプルな動作確認\n",
        "from asari.api import Sonar\n",
        "sonar = Sonar()\n",
        "res = sonar.ping(text=\"広告多すぎる♡\")\n",
        "res "
      ],
      "execution_count": 4,
      "outputs": []
    },
    {
      "cell_type": "code",
      "metadata": {
        "colab": {
          "base_uri": "https://localhost:8080/"
        },
        "id": "Bk-ii__D17ve",
        "outputId": "4ea69dce-136d-4740-f115-17f02d6737b4"
      },
      "source": [
        "list(map(sonar.ping, list_text))"
      ],
      "execution_count": 5,
      "outputs": [
        {
          "output_type": "execute_result",
          "data": {
            "text/plain": [
              "[{'classes': [{'class_name': 'negative', 'confidence': 0.10382535749585702},\n",
              "   {'class_name': 'positive', 'confidence': 0.896174642504143}],\n",
              "  'text': 'この人は、この世の中で、いちばんしあわせな人にちがいありません。',\n",
              "  'top_class': 'positive'},\n",
              " {'classes': [{'class_name': 'negative', 'confidence': 0.035517582235360945},\n",
              "   {'class_name': 'positive', 'confidence': 0.964482417764639}],\n",
              "  'text': '芝居小屋もすばらしいし、お客さんもすばらしい人たちでした。',\n",
              "  'top_class': 'positive'},\n",
              " {'classes': [{'class_name': 'negative', 'confidence': 0.5815274190768989},\n",
              "   {'class_name': 'positive', 'confidence': 0.41847258092310113}],\n",
              "  'text': 'もし中世の時代だったら、おそらく、火あぶりにされたでしょうよ。',\n",
              "  'top_class': 'negative'},\n",
              " {'classes': [{'class_name': 'negative', 'confidence': 0.2692695045573754},\n",
              "   {'class_name': 'positive', 'confidence': 0.7307304954426246}],\n",
              "  'text': 'みんなのうるさいことといったら、まるで、ハエがびんの中で、ブンブンいっているようでした。',\n",
              "  'top_class': 'positive'},\n",
              " {'classes': [{'class_name': 'negative', 'confidence': 0.050528495655525495},\n",
              "   {'class_name': 'positive', 'confidence': 0.9494715043444746}],\n",
              "  'text': 'われわれ人間が、こういうことを考えだすことができるとすれば、われわれは、地の中にうめられるまでに、もっと長生きできてもいいはずだが',\n",
              "  'top_class': 'positive'}]"
            ]
          },
          "metadata": {
            "tags": []
          },
          "execution_count": 5
        }
      ]
    },
    {
      "cell_type": "markdown",
      "metadata": {
        "id": "F1-CDF3S3OlN"
      },
      "source": [
        "## oseti"
      ]
    },
    {
      "cell_type": "code",
      "metadata": {
        "colab": {
          "base_uri": "https://localhost:8080/"
        },
        "id": "i4FeaATe3PWi",
        "outputId": "d39e9c6d-4391-4cc4-a921-5ec3a1f8d42e"
      },
      "source": [
        "# シンプルな動作確認\n",
        "import oseti\n",
        "\n",
        "analyzer = oseti.Analyzer()\n",
        "analyzer.analyze('天国で待ってる。')"
      ],
      "execution_count": 6,
      "outputs": [
        {
          "output_type": "execute_result",
          "data": {
            "text/plain": [
              "[1.0]"
            ]
          },
          "metadata": {
            "tags": []
          },
          "execution_count": 6
        }
      ]
    },
    {
      "cell_type": "code",
      "metadata": {
        "colab": {
          "base_uri": "https://localhost:8080/"
        },
        "id": "hnqdDDIk3R56",
        "outputId": "9a6c284b-028d-47d4-d516-92b74484aace"
      },
      "source": [
        "list(map(analyzer.analyze, list_text))"
      ],
      "execution_count": 7,
      "outputs": [
        {
          "output_type": "execute_result",
          "data": {
            "text/plain": [
              "[[0.0], [1.0], [0], [0], [1.0]]"
            ]
          },
          "metadata": {
            "tags": []
          },
          "execution_count": 7
        }
      ]
    },
    {
      "cell_type": "markdown",
      "metadata": {
        "id": "ZPlibVJe3VjG"
      },
      "source": [
        "## pymlask"
      ]
    },
    {
      "cell_type": "code",
      "metadata": {
        "colab": {
          "base_uri": "https://localhost:8080/"
        },
        "id": "g6Rtx1gl3XSf",
        "outputId": "0da35b27-35c5-4527-f86c-21ec83658a24"
      },
      "source": [
        "# シンプルな動作確認\n",
        "import mlask\n",
        "emotion_analyzer = mlask.MLAsk()\n",
        "emotion_analyzer.analyze('彼のことは嫌いではない！(;´Д`)')\n",
        "# => {'text': '彼のことは嫌いではない！(;´Д`)',\n",
        "#     'emotion': defaultdict(<class 'list'>,{'yorokobi': ['嫌い*CVS'], 'suki': ['嫌い*CVS']}),\n",
        "#     'orientation': 'POSITIVE',\n",
        "#     'activation': 'NEUTRAL',\n",
        "#     'emoticon': ['(;´Д`)'],\n",
        "#     'intension': 2,\n",
        "#     'intensifier': {'exclamation': ['！'], 'emotikony': ['´Д`', 'Д`', '´Д', '(;´Д`)']},\n",
        "#     'representative': ('yorokobi', ['嫌い*CVS'])\n",
        "#     }"
      ],
      "execution_count": 8,
      "outputs": [
        {
          "output_type": "execute_result",
          "data": {
            "text/plain": [
              "{'activation': 'NEUTRAL',\n",
              " 'emoticon': ['(;´Д`)'],\n",
              " 'emotion': defaultdict(list, {'suki': ['嫌い*CVS'], 'yorokobi': ['嫌い*CVS']}),\n",
              " 'intensifier': {'emotikony': ['´Д`', 'Д`', '´Д', '(;´Д`)'],\n",
              "  'exclamation': ['！']},\n",
              " 'intension': 2,\n",
              " 'orientation': 'POSITIVE',\n",
              " 'representative': ('yorokobi', ['嫌い*CVS']),\n",
              " 'text': '彼のことは嫌いではない！(;´Д`)'}"
            ]
          },
          "metadata": {
            "tags": []
          },
          "execution_count": 8
        }
      ]
    },
    {
      "cell_type": "code",
      "metadata": {
        "colab": {
          "base_uri": "https://localhost:8080/"
        },
        "id": "XBN4PUeR3iWR",
        "outputId": "ec1a9dc6-900e-40b5-8d2d-7ab611d48478"
      },
      "source": [
        "# せっかくなので、neologd 辞書を使ってみる\n",
        "\n",
        "# mecab-ipadic-neologd のインストール先を調べる\n",
        "import subprocess\n",
        "\n",
        "cmd='echo `mecab-config --dicdir`\"/mecab-ipadic-neologd\"'\n",
        "path = (subprocess.Popen(cmd, stdout=subprocess.PIPE,\n",
        "                           shell=True).communicate()[0]).decode('utf-8')\n",
        "                           \n",
        "emotion_analyzer = mlask.MLAsk('-d {0}'.format(path))  # Use other dictionary\n",
        "\n",
        "list(map(emotion_analyzer.analyze, list_text))"
      ],
      "execution_count": 9,
      "outputs": [
        {
          "output_type": "execute_result",
          "data": {
            "text/plain": [
              "[{'activation': 'NEUTRAL',\n",
              "  'emoticon': None,\n",
              "  'emotion': defaultdict(list, {'yorokobi': ['しあわせ']}),\n",
              "  'intensifier': {},\n",
              "  'intension': 0,\n",
              "  'orientation': 'POSITIVE',\n",
              "  'representative': ('yorokobi', ['しあわせ']),\n",
              "  'text': 'この人は、この世の中で、いちばんしあわせな人にちがいありません。'},\n",
              " {'emotion': None, 'text': '芝居小屋もすばらしいし、お客さんもすばらしい人たちでした。'},\n",
              " {'emotion': None, 'text': 'もし中世の時代だったら、おそらく、火あぶりにされたでしょうよ。'},\n",
              " {'emotion': None, 'text': 'みんなのうるさいことといったら、まるで、ハエがびんの中で、ブンブンいっているようでした。'},\n",
              " {'emotion': None,\n",
              "  'text': 'われわれ人間が、こういうことを考えだすことができるとすれば、われわれは、地の中にうめられるまでに、もっと長生きできてもいいはずだが'}]"
            ]
          },
          "metadata": {
            "tags": []
          },
          "execution_count": 9
        }
      ]
    },
    {
      "cell_type": "markdown",
      "metadata": {
        "id": "d_O7ADpB3uFJ"
      },
      "source": [
        "## huggingface の bert-base-japanese-sentiment"
      ]
    },
    {
      "cell_type": "code",
      "metadata": {
        "colab": {
          "base_uri": "https://localhost:8080/"
        },
        "id": "Zt4g-lwA3uw5",
        "outputId": "423e5eb9-f791-4478-91e0-f5f815a779a6"
      },
      "source": [
        "# 必要なライブラリのインストール\n",
        "!pip install -q transformers"
      ],
      "execution_count": 10,
      "outputs": [
        {
          "output_type": "stream",
          "text": [
            "\u001b[K     |████████████████████████████████| 2.3MB 4.0MB/s \n",
            "\u001b[K     |████████████████████████████████| 3.3MB 17.2MB/s \n",
            "\u001b[K     |████████████████████████████████| 901kB 42.1MB/s \n",
            "\u001b[?25h"
          ],
          "name": "stdout"
        }
      ]
    },
    {
      "cell_type": "code",
      "metadata": {
        "id": "tPlNGx5Y3x4-"
      },
      "source": [
        "%%capture capt\n",
        "\n",
        "from transformers import BertTokenizer, BertForSequenceClassification, pipeline\n",
        "\n",
        "tokenizer = BertTokenizer.from_pretrained(\"daigo/bert-base-japanese-sentiment\")\n",
        "model = BertForSequenceClassification.from_pretrained(\"daigo/bert-base-japanese-sentiment\")"
      ],
      "execution_count": 11,
      "outputs": []
    },
    {
      "cell_type": "code",
      "metadata": {
        "colab": {
          "base_uri": "https://localhost:8080/"
        },
        "id": "jpRxr83E30Gm",
        "outputId": "529c8991-f412-49eb-c5f2-54fbd57912cc"
      },
      "source": [
        "# シンプルな動作確認\n",
        "\n",
        "print(pipeline(\"sentiment-analysis\",model=model, tokenizer=tokenizer)(\"私は幸福である。\"))"
      ],
      "execution_count": 12,
      "outputs": [
        {
          "output_type": "stream",
          "text": [
            "[{'label': 'ポジティブ', 'score': 0.9934489130973816}]\n"
          ],
          "name": "stdout"
        }
      ]
    },
    {
      "cell_type": "code",
      "metadata": {
        "colab": {
          "base_uri": "https://localhost:8080/"
        },
        "id": "pF4a1ti432V2",
        "outputId": "6e5ce557-ef29-4181-b09c-e23311ae10b8"
      },
      "source": [
        "sentiment_analyzer = pipeline(\"sentiment-analysis\",model=model, tokenizer=tokenizer)\n",
        "\n",
        "list(map(sentiment_analyzer, list_text))"
      ],
      "execution_count": 13,
      "outputs": [
        {
          "output_type": "execute_result",
          "data": {
            "text/plain": [
              "[[{'label': 'ポジティブ', 'score': 0.9596116542816162}],\n",
              " [{'label': 'ポジティブ', 'score': 0.6044701933860779}],\n",
              " [{'label': 'ポジティブ', 'score': 0.8851077556610107}],\n",
              " [{'label': 'ポジティブ', 'score': 0.6943467855453491}],\n",
              " [{'label': 'ポジティブ', 'score': 0.5758240222930908}]]"
            ]
          },
          "metadata": {
            "tags": []
          },
          "execution_count": 13
        }
      ]
    },
    {
      "cell_type": "code",
      "metadata": {
        "colab": {
          "base_uri": "https://localhost:8080/"
        },
        "id": "UD_uxrOY34Qy",
        "outputId": "d27f5949-0be2-4dd5-c2cb-15d4f2c55666"
      },
      "source": [
        "# 上記すべてポジティヴ判定になってしまったので、他の例でも試してみる\n",
        "\n",
        "list(map(sentiment_analyzer, ['最悪だ', '今日は暑い', 'こんにちは', 'ふつう']))"
      ],
      "execution_count": 14,
      "outputs": [
        {
          "output_type": "execute_result",
          "data": {
            "text/plain": [
              "[[{'label': 'ネガティブ', 'score': 0.9891454577445984}],\n",
              " [{'label': 'ネガティブ', 'score': 0.8046908974647522}],\n",
              " [{'label': 'ポジティブ', 'score': 0.9862995147705078}],\n",
              " [{'label': 'ポジティブ', 'score': 0.9928306937217712}]]"
            ]
          },
          "metadata": {
            "tags": []
          },
          "execution_count": 14
        }
      ]
    }
  ]
}