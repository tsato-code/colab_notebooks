{
 "cells": [
  {
   "cell_type": "markdown",
   "id": "4ad7c22a",
   "metadata": {
    "papermill": {
     "duration": 0.005506,
     "end_time": "2022-09-24T09:19:23.938908",
     "exception": false,
     "start_time": "2022-09-24T09:19:23.933402",
     "status": "completed"
    },
    "tags": []
   },
   "source": [
    "# このノートブックの概要\n",
    "\n",
    "- Table Playground Series 2022 の 9月。\n",
    "- ベースラインとなるモデルを、prophet で構築する。"
   ]
  },
  {
   "cell_type": "code",
   "execution_count": 1,
   "id": "8b954ed5",
   "metadata": {
    "_cell_guid": "b1076dfc-b9ad-4769-8c92-a6c4dae69d19",
    "_uuid": "8f2839f25d086af736a60e9eeb907d3b93b6e0e5",
    "execution": {
     "iopub.execute_input": "2022-09-24T09:19:23.949940Z",
     "iopub.status.busy": "2022-09-24T09:19:23.949478Z",
     "iopub.status.idle": "2022-09-24T09:19:23.962963Z",
     "shell.execute_reply": "2022-09-24T09:19:23.961462Z"
    },
    "papermill": {
     "duration": 0.02288,
     "end_time": "2022-09-24T09:19:23.966307",
     "exception": false,
     "start_time": "2022-09-24T09:19:23.943427",
     "status": "completed"
    },
    "tags": []
   },
   "outputs": [
    {
     "name": "stdout",
     "output_type": "stream",
     "text": [
      "/kaggle/input/tabular-playground-series-sep-2022/sample_submission.csv\n",
      "/kaggle/input/tabular-playground-series-sep-2022/train.csv\n",
      "/kaggle/input/tabular-playground-series-sep-2022/test.csv\n"
     ]
    }
   ],
   "source": [
    "import os\n",
    "for dirname, _, filenames in os.walk('/kaggle/input'):\n",
    "    for filename in filenames:\n",
    "        print(os.path.join(dirname, filename))"
   ]
  },
  {
   "cell_type": "code",
   "execution_count": 2,
   "id": "5343f32b",
   "metadata": {
    "execution": {
     "iopub.execute_input": "2022-09-24T09:19:23.977744Z",
     "iopub.status.busy": "2022-09-24T09:19:23.976926Z",
     "iopub.status.idle": "2022-09-24T09:19:25.486739Z",
     "shell.execute_reply": "2022-09-24T09:19:25.485722Z"
    },
    "papermill": {
     "duration": 1.518256,
     "end_time": "2022-09-24T09:19:25.489330",
     "exception": false,
     "start_time": "2022-09-24T09:19:23.971074",
     "status": "completed"
    },
    "tags": []
   },
   "outputs": [],
   "source": [
    "from prophet import Prophet\n",
    "from sklearn.metrics import mean_absolute_percentage_error as mape\n",
    "\n",
    "import matplotlib.pyplot as plt\n",
    "import numpy as np\n",
    "import pandas as pd\n",
    "import seaborn as sns\n",
    "\n",
    "%matplotlib inline"
   ]
  },
  {
   "cell_type": "code",
   "execution_count": 3,
   "id": "6e390450",
   "metadata": {
    "execution": {
     "iopub.execute_input": "2022-09-24T09:19:25.500415Z",
     "iopub.status.busy": "2022-09-24T09:19:25.499979Z",
     "iopub.status.idle": "2022-09-24T09:19:25.505359Z",
     "shell.execute_reply": "2022-09-24T09:19:25.504252Z"
    },
    "papermill": {
     "duration": 0.013977,
     "end_time": "2022-09-24T09:19:25.507916",
     "exception": false,
     "start_time": "2022-09-24T09:19:25.493939",
     "status": "completed"
    },
    "tags": []
   },
   "outputs": [],
   "source": [
    "TRAIN_PATH = '../input/tabular-playground-series-sep-2022/train.csv'\n",
    "TEST_PATH = '../input/tabular-playground-series-sep-2022/test.csv'\n",
    "SUBMISSION_PATH = '../input/tabular-playground-series-sep-2022/sample_submission.csv'"
   ]
  },
  {
   "cell_type": "code",
   "execution_count": 4,
   "id": "f08e53f8",
   "metadata": {
    "execution": {
     "iopub.execute_input": "2022-09-24T09:19:25.519472Z",
     "iopub.status.busy": "2022-09-24T09:19:25.518677Z",
     "iopub.status.idle": "2022-09-24T09:19:25.713531Z",
     "shell.execute_reply": "2022-09-24T09:19:25.712358Z"
    },
    "papermill": {
     "duration": 0.203708,
     "end_time": "2022-09-24T09:19:25.716579",
     "exception": false,
     "start_time": "2022-09-24T09:19:25.512871",
     "status": "completed"
    },
    "tags": []
   },
   "outputs": [],
   "source": [
    "train_df = pd.read_csv(TRAIN_PATH, parse_dates=['date'])\n",
    "test_df = pd.read_csv(TEST_PATH, parse_dates=['date'])"
   ]
  },
  {
   "cell_type": "code",
   "execution_count": 5,
   "id": "8a7e8ffd",
   "metadata": {
    "execution": {
     "iopub.execute_input": "2022-09-24T09:19:25.728525Z",
     "iopub.status.busy": "2022-09-24T09:19:25.727510Z",
     "iopub.status.idle": "2022-09-24T09:19:25.736315Z",
     "shell.execute_reply": "2022-09-24T09:19:25.735305Z"
    },
    "papermill": {
     "duration": 0.017213,
     "end_time": "2022-09-24T09:19:25.738624",
     "exception": false,
     "start_time": "2022-09-24T09:19:25.721411",
     "status": "completed"
    },
    "tags": []
   },
   "outputs": [],
   "source": [
    "def prophet_model(train_df, valid_df, valid_flag=True, ts_plot=True):\n",
    "    \n",
    "    forecaster = Prophet(\n",
    "        seasonality_mode='multiplicative',\n",
    "        # n_changepoints=int(len(y) / 12),\n",
    "        # add_country_holidays={'country_name': 'Germany'},\n",
    "        yearly_seasonality=True\n",
    "    )\n",
    "    forecaster.fit(train_df)\n",
    "    y_pred = forecaster.predict(valid_df)\n",
    "    \n",
    "    if valid_flag:\n",
    "        print(f\"mape = {mape(valid_df['y'], y_pred['yhat'])}\")\n",
    "    \n",
    "    if ts_plot:\n",
    "        plt.close()\n",
    "        fig = plt.figure(figsize=(15, 8), dpi=50)\n",
    "        ax1 = plt.axes()\n",
    "        ax1.plot(np.arange(1, len(train_df) + len(valid_df) + 1), train_df.append(valid_df)['y'])\n",
    "        ax1.plot(np.arange(len(train_df)+1, len(train_df) + len(valid_df)+1), y_pred['yhat'])\n",
    "        plt.show()\n",
    "    \n",
    "    return y_pred"
   ]
  },
  {
   "cell_type": "code",
   "execution_count": 6,
   "id": "e81fe8f9",
   "metadata": {
    "execution": {
     "iopub.execute_input": "2022-09-24T09:19:25.749235Z",
     "iopub.status.busy": "2022-09-24T09:19:25.748820Z",
     "iopub.status.idle": "2022-09-24T09:19:25.818432Z",
     "shell.execute_reply": "2022-09-24T09:19:25.817292Z"
    },
    "papermill": {
     "duration": 0.077524,
     "end_time": "2022-09-24T09:19:25.820742",
     "exception": false,
     "start_time": "2022-09-24T09:19:25.743218",
     "status": "completed"
    },
    "tags": []
   },
   "outputs": [
    {
     "data": {
      "text/html": [
       "<div>\n",
       "<style scoped>\n",
       "    .dataframe tbody tr th:only-of-type {\n",
       "        vertical-align: middle;\n",
       "    }\n",
       "\n",
       "    .dataframe tbody tr th {\n",
       "        vertical-align: top;\n",
       "    }\n",
       "\n",
       "    .dataframe thead th {\n",
       "        text-align: right;\n",
       "    }\n",
       "</style>\n",
       "<table border=\"1\" class=\"dataframe\">\n",
       "  <thead>\n",
       "    <tr style=\"text-align: right;\">\n",
       "      <th></th>\n",
       "      <th></th>\n",
       "      <th></th>\n",
       "      <th>ds</th>\n",
       "      <th>y</th>\n",
       "    </tr>\n",
       "    <tr>\n",
       "      <th>country</th>\n",
       "      <th>store</th>\n",
       "      <th>product</th>\n",
       "      <th></th>\n",
       "      <th></th>\n",
       "    </tr>\n",
       "  </thead>\n",
       "  <tbody>\n",
       "    <tr>\n",
       "      <th rowspan=\"5\" valign=\"top\">Belgium</th>\n",
       "      <th rowspan=\"5\" valign=\"top\">KaggleMart</th>\n",
       "      <th>Kaggle Advanced Techniques</th>\n",
       "      <td>2017-01-01</td>\n",
       "      <td>663</td>\n",
       "    </tr>\n",
       "    <tr>\n",
       "      <th>Kaggle Advanced Techniques</th>\n",
       "      <td>2017-01-02</td>\n",
       "      <td>514</td>\n",
       "    </tr>\n",
       "    <tr>\n",
       "      <th>Kaggle Advanced Techniques</th>\n",
       "      <td>2017-01-03</td>\n",
       "      <td>549</td>\n",
       "    </tr>\n",
       "    <tr>\n",
       "      <th>Kaggle Advanced Techniques</th>\n",
       "      <td>2017-01-04</td>\n",
       "      <td>477</td>\n",
       "    </tr>\n",
       "    <tr>\n",
       "      <th>Kaggle Advanced Techniques</th>\n",
       "      <td>2017-01-05</td>\n",
       "      <td>447</td>\n",
       "    </tr>\n",
       "    <tr>\n",
       "      <th>...</th>\n",
       "      <th>...</th>\n",
       "      <th>...</th>\n",
       "      <td>...</td>\n",
       "      <td>...</td>\n",
       "    </tr>\n",
       "    <tr>\n",
       "      <th rowspan=\"5\" valign=\"top\">Spain</th>\n",
       "      <th rowspan=\"5\" valign=\"top\">KaggleRama</th>\n",
       "      <th>Kaggle for Kids: One Smart Goose</th>\n",
       "      <td>2020-12-27</td>\n",
       "      <td>204</td>\n",
       "    </tr>\n",
       "    <tr>\n",
       "      <th>Kaggle for Kids: One Smart Goose</th>\n",
       "      <td>2020-12-28</td>\n",
       "      <td>212</td>\n",
       "    </tr>\n",
       "    <tr>\n",
       "      <th>Kaggle for Kids: One Smart Goose</th>\n",
       "      <td>2020-12-29</td>\n",
       "      <td>242</td>\n",
       "    </tr>\n",
       "    <tr>\n",
       "      <th>Kaggle for Kids: One Smart Goose</th>\n",
       "      <td>2020-12-30</td>\n",
       "      <td>239</td>\n",
       "    </tr>\n",
       "    <tr>\n",
       "      <th>Kaggle for Kids: One Smart Goose</th>\n",
       "      <td>2020-12-31</td>\n",
       "      <td>202</td>\n",
       "    </tr>\n",
       "  </tbody>\n",
       "</table>\n",
       "<p>70128 rows × 2 columns</p>\n",
       "</div>"
      ],
      "text/plain": [
       "                                                            ds    y\n",
       "country store      product                                         \n",
       "Belgium KaggleMart Kaggle Advanced Techniques       2017-01-01  663\n",
       "                   Kaggle Advanced Techniques       2017-01-02  514\n",
       "                   Kaggle Advanced Techniques       2017-01-03  549\n",
       "                   Kaggle Advanced Techniques       2017-01-04  477\n",
       "                   Kaggle Advanced Techniques       2017-01-05  447\n",
       "...                                                        ...  ...\n",
       "Spain   KaggleRama Kaggle for Kids: One Smart Goose 2020-12-27  204\n",
       "                   Kaggle for Kids: One Smart Goose 2020-12-28  212\n",
       "                   Kaggle for Kids: One Smart Goose 2020-12-29  242\n",
       "                   Kaggle for Kids: One Smart Goose 2020-12-30  239\n",
       "                   Kaggle for Kids: One Smart Goose 2020-12-31  202\n",
       "\n",
       "[70128 rows x 2 columns]"
      ]
     },
     "metadata": {},
     "output_type": "display_data"
    }
   ],
   "source": [
    "train_df_ts = train_df.set_index(['country', 'store', 'product']).drop('row_id', axis=1).sort_index()\n",
    "train_df_ts.columns = ['ds', 'y']\n",
    "display(train_df_ts)"
   ]
  },
  {
   "cell_type": "code",
   "execution_count": 7,
   "id": "18b7f3f0",
   "metadata": {
    "execution": {
     "iopub.execute_input": "2022-09-24T09:19:25.831850Z",
     "iopub.status.busy": "2022-09-24T09:19:25.831462Z",
     "iopub.status.idle": "2022-09-24T09:20:14.893599Z",
     "shell.execute_reply": "2022-09-24T09:20:14.892207Z"
    },
    "papermill": {
     "duration": 49.070496,
     "end_time": "2022-09-24T09:20:14.896124",
     "exception": false,
     "start_time": "2022-09-24T09:19:25.825628",
     "status": "completed"
    },
    "tags": []
   },
   "outputs": [
    {
     "name": "stdout",
     "output_type": "stream",
     "text": [
      "('Belgium', 'KaggleMart', 'Kaggle Advanced Techniques')\n"
     ]
    },
    {
     "name": "stderr",
     "output_type": "stream",
     "text": [
      "09:19:26 - cmdstanpy - INFO - Chain [1] start processing\n",
      "09:19:27 - cmdstanpy - INFO - Chain [1] done processing\n",
      "09:19:28 - cmdstanpy - INFO - Chain [1] start processing\n"
     ]
    },
    {
     "name": "stdout",
     "output_type": "stream",
     "text": [
      "mape = 0.13317986488669628\n",
      "('Belgium', 'KaggleMart', 'Kaggle Getting Started')\n"
     ]
    },
    {
     "name": "stderr",
     "output_type": "stream",
     "text": [
      "09:19:28 - cmdstanpy - INFO - Chain [1] done processing\n",
      "09:19:28 - cmdstanpy - INFO - Chain [1] start processing\n"
     ]
    },
    {
     "name": "stdout",
     "output_type": "stream",
     "text": [
      "mape = 0.1569163082112465\n",
      "('Belgium', 'KaggleMart', 'Kaggle Recipe Book')\n"
     ]
    },
    {
     "name": "stderr",
     "output_type": "stream",
     "text": [
      "09:19:29 - cmdstanpy - INFO - Chain [1] done processing\n",
      "09:19:30 - cmdstanpy - INFO - Chain [1] start processing\n"
     ]
    },
    {
     "name": "stdout",
     "output_type": "stream",
     "text": [
      "mape = 0.1559573216949642\n",
      "('Belgium', 'KaggleMart', 'Kaggle for Kids: One Smart Goose')\n"
     ]
    },
    {
     "name": "stderr",
     "output_type": "stream",
     "text": [
      "09:19:30 - cmdstanpy - INFO - Chain [1] done processing\n",
      "09:19:30 - cmdstanpy - INFO - Chain [1] start processing\n",
      "09:19:31 - cmdstanpy - INFO - Chain [1] done processing\n"
     ]
    },
    {
     "name": "stdout",
     "output_type": "stream",
     "text": [
      "mape = 0.1291120578436057\n",
      "('Belgium', 'KaggleRama', 'Kaggle Advanced Techniques')\n"
     ]
    },
    {
     "name": "stderr",
     "output_type": "stream",
     "text": [
      "09:19:31 - cmdstanpy - INFO - Chain [1] start processing\n"
     ]
    },
    {
     "name": "stdout",
     "output_type": "stream",
     "text": [
      "mape = 0.17350328335394408\n",
      "('Belgium', 'KaggleRama', 'Kaggle Getting Started')\n"
     ]
    },
    {
     "name": "stderr",
     "output_type": "stream",
     "text": [
      "09:19:32 - cmdstanpy - INFO - Chain [1] done processing\n",
      "09:19:32 - cmdstanpy - INFO - Chain [1] start processing\n"
     ]
    },
    {
     "name": "stdout",
     "output_type": "stream",
     "text": [
      "mape = 0.1295950713829954\n",
      "('Belgium', 'KaggleRama', 'Kaggle Recipe Book')\n"
     ]
    },
    {
     "name": "stderr",
     "output_type": "stream",
     "text": [
      "09:19:33 - cmdstanpy - INFO - Chain [1] done processing\n",
      "09:19:34 - cmdstanpy - INFO - Chain [1] start processing\n"
     ]
    },
    {
     "name": "stdout",
     "output_type": "stream",
     "text": [
      "mape = 0.14551750664892166\n",
      "('Belgium', 'KaggleRama', 'Kaggle for Kids: One Smart Goose')\n"
     ]
    },
    {
     "name": "stderr",
     "output_type": "stream",
     "text": [
      "09:19:34 - cmdstanpy - INFO - Chain [1] done processing\n",
      "09:19:35 - cmdstanpy - INFO - Chain [1] start processing\n"
     ]
    },
    {
     "name": "stdout",
     "output_type": "stream",
     "text": [
      "mape = 0.16136456250694114\n",
      "('France', 'KaggleMart', 'Kaggle Advanced Techniques')\n"
     ]
    },
    {
     "name": "stderr",
     "output_type": "stream",
     "text": [
      "09:19:35 - cmdstanpy - INFO - Chain [1] done processing\n",
      "09:19:36 - cmdstanpy - INFO - Chain [1] start processing\n"
     ]
    },
    {
     "name": "stdout",
     "output_type": "stream",
     "text": [
      "mape = 0.09803268964345123\n",
      "('France', 'KaggleMart', 'Kaggle Getting Started')\n"
     ]
    },
    {
     "name": "stderr",
     "output_type": "stream",
     "text": [
      "09:19:36 - cmdstanpy - INFO - Chain [1] done processing\n",
      "09:19:37 - cmdstanpy - INFO - Chain [1] start processing\n"
     ]
    },
    {
     "name": "stdout",
     "output_type": "stream",
     "text": [
      "mape = 0.08690185303580668\n",
      "('France', 'KaggleMart', 'Kaggle Recipe Book')\n"
     ]
    },
    {
     "name": "stderr",
     "output_type": "stream",
     "text": [
      "09:19:37 - cmdstanpy - INFO - Chain [1] done processing\n",
      "09:19:38 - cmdstanpy - INFO - Chain [1] start processing\n",
      "09:19:38 - cmdstanpy - INFO - Chain [1] done processing\n"
     ]
    },
    {
     "name": "stdout",
     "output_type": "stream",
     "text": [
      "mape = 0.0878186998577789\n",
      "('France', 'KaggleMart', 'Kaggle for Kids: One Smart Goose')\n"
     ]
    },
    {
     "name": "stderr",
     "output_type": "stream",
     "text": [
      "09:19:38 - cmdstanpy - INFO - Chain [1] start processing\n"
     ]
    },
    {
     "name": "stdout",
     "output_type": "stream",
     "text": [
      "mape = 0.08743862346756302\n",
      "('France', 'KaggleRama', 'Kaggle Advanced Techniques')\n"
     ]
    },
    {
     "name": "stderr",
     "output_type": "stream",
     "text": [
      "09:19:39 - cmdstanpy - INFO - Chain [1] done processing\n"
     ]
    },
    {
     "name": "stdout",
     "output_type": "stream",
     "text": [
      "mape = 0.09083966415548554\n",
      "('France', 'KaggleRama', 'Kaggle Getting Started')\n"
     ]
    },
    {
     "name": "stderr",
     "output_type": "stream",
     "text": [
      "09:19:40 - cmdstanpy - INFO - Chain [1] start processing\n",
      "09:19:40 - cmdstanpy - INFO - Chain [1] done processing\n",
      "09:19:40 - cmdstanpy - INFO - Chain [1] start processing\n"
     ]
    },
    {
     "name": "stdout",
     "output_type": "stream",
     "text": [
      "mape = 0.10296060783397695\n",
      "('France', 'KaggleRama', 'Kaggle Recipe Book')\n"
     ]
    },
    {
     "name": "stderr",
     "output_type": "stream",
     "text": [
      "09:19:41 - cmdstanpy - INFO - Chain [1] done processing\n",
      "09:19:42 - cmdstanpy - INFO - Chain [1] start processing\n"
     ]
    },
    {
     "name": "stdout",
     "output_type": "stream",
     "text": [
      "mape = 0.08780751084957758\n",
      "('France', 'KaggleRama', 'Kaggle for Kids: One Smart Goose')\n"
     ]
    },
    {
     "name": "stderr",
     "output_type": "stream",
     "text": [
      "09:19:42 - cmdstanpy - INFO - Chain [1] done processing\n",
      "09:19:42 - cmdstanpy - INFO - Chain [1] start processing\n"
     ]
    },
    {
     "name": "stdout",
     "output_type": "stream",
     "text": [
      "mape = 0.0871557083511487\n",
      "('Germany', 'KaggleMart', 'Kaggle Advanced Techniques')\n"
     ]
    },
    {
     "name": "stderr",
     "output_type": "stream",
     "text": [
      "09:19:43 - cmdstanpy - INFO - Chain [1] done processing\n",
      "09:19:44 - cmdstanpy - INFO - Chain [1] start processing\n"
     ]
    },
    {
     "name": "stdout",
     "output_type": "stream",
     "text": [
      "mape = 0.13529337054297078\n",
      "('Germany', 'KaggleMart', 'Kaggle Getting Started')\n"
     ]
    },
    {
     "name": "stderr",
     "output_type": "stream",
     "text": [
      "09:19:44 - cmdstanpy - INFO - Chain [1] done processing\n",
      "09:19:44 - cmdstanpy - INFO - Chain [1] start processing\n"
     ]
    },
    {
     "name": "stdout",
     "output_type": "stream",
     "text": [
      "mape = 0.1575934383160887\n",
      "('Germany', 'KaggleMart', 'Kaggle Recipe Book')\n"
     ]
    },
    {
     "name": "stderr",
     "output_type": "stream",
     "text": [
      "09:19:45 - cmdstanpy - INFO - Chain [1] done processing\n",
      "09:19:46 - cmdstanpy - INFO - Chain [1] start processing\n"
     ]
    },
    {
     "name": "stdout",
     "output_type": "stream",
     "text": [
      "mape = 0.17384838833656507\n",
      "('Germany', 'KaggleMart', 'Kaggle for Kids: One Smart Goose')\n"
     ]
    },
    {
     "name": "stderr",
     "output_type": "stream",
     "text": [
      "09:19:46 - cmdstanpy - INFO - Chain [1] done processing\n",
      "09:19:46 - cmdstanpy - INFO - Chain [1] start processing\n",
      "09:19:47 - cmdstanpy - INFO - Chain [1] done processing\n"
     ]
    },
    {
     "name": "stdout",
     "output_type": "stream",
     "text": [
      "mape = 0.1550826328645544\n",
      "('Germany', 'KaggleRama', 'Kaggle Advanced Techniques')\n"
     ]
    },
    {
     "name": "stderr",
     "output_type": "stream",
     "text": [
      "09:19:48 - cmdstanpy - INFO - Chain [1] start processing\n"
     ]
    },
    {
     "name": "stdout",
     "output_type": "stream",
     "text": [
      "mape = 0.1363998008651407\n",
      "('Germany', 'KaggleRama', 'Kaggle Getting Started')\n"
     ]
    },
    {
     "name": "stderr",
     "output_type": "stream",
     "text": [
      "09:19:48 - cmdstanpy - INFO - Chain [1] done processing\n",
      "09:19:48 - cmdstanpy - INFO - Chain [1] start processing\n"
     ]
    },
    {
     "name": "stdout",
     "output_type": "stream",
     "text": [
      "mape = 0.15101113096753016\n",
      "('Germany', 'KaggleRama', 'Kaggle Recipe Book')\n"
     ]
    },
    {
     "name": "stderr",
     "output_type": "stream",
     "text": [
      "09:19:49 - cmdstanpy - INFO - Chain [1] done processing\n",
      "09:19:49 - cmdstanpy - INFO - Chain [1] start processing\n"
     ]
    },
    {
     "name": "stdout",
     "output_type": "stream",
     "text": [
      "mape = 0.1501611781919632\n",
      "('Germany', 'KaggleRama', 'Kaggle for Kids: One Smart Goose')\n"
     ]
    },
    {
     "name": "stderr",
     "output_type": "stream",
     "text": [
      "09:19:50 - cmdstanpy - INFO - Chain [1] done processing\n",
      "09:19:50 - cmdstanpy - INFO - Chain [1] start processing\n"
     ]
    },
    {
     "name": "stdout",
     "output_type": "stream",
     "text": [
      "mape = 0.16567657861191853\n",
      "('Italy', 'KaggleMart', 'Kaggle Advanced Techniques')\n"
     ]
    },
    {
     "name": "stderr",
     "output_type": "stream",
     "text": [
      "09:19:51 - cmdstanpy - INFO - Chain [1] done processing\n",
      "09:19:51 - cmdstanpy - INFO - Chain [1] start processing\n"
     ]
    },
    {
     "name": "stdout",
     "output_type": "stream",
     "text": [
      "mape = 0.1945543592445141\n",
      "('Italy', 'KaggleMart', 'Kaggle Getting Started')\n"
     ]
    },
    {
     "name": "stderr",
     "output_type": "stream",
     "text": [
      "09:19:52 - cmdstanpy - INFO - Chain [1] done processing\n",
      "09:19:52 - cmdstanpy - INFO - Chain [1] start processing\n"
     ]
    },
    {
     "name": "stdout",
     "output_type": "stream",
     "text": [
      "mape = 0.17997678144262147\n",
      "('Italy', 'KaggleMart', 'Kaggle Recipe Book')\n"
     ]
    },
    {
     "name": "stderr",
     "output_type": "stream",
     "text": [
      "09:19:53 - cmdstanpy - INFO - Chain [1] done processing\n",
      "09:19:53 - cmdstanpy - INFO - Chain [1] start processing\n"
     ]
    },
    {
     "name": "stdout",
     "output_type": "stream",
     "text": [
      "mape = 0.18026042557018435\n",
      "('Italy', 'KaggleMart', 'Kaggle for Kids: One Smart Goose')\n"
     ]
    },
    {
     "name": "stderr",
     "output_type": "stream",
     "text": [
      "09:19:53 - cmdstanpy - INFO - Chain [1] done processing\n",
      "09:19:54 - cmdstanpy - INFO - Chain [1] start processing\n"
     ]
    },
    {
     "name": "stdout",
     "output_type": "stream",
     "text": [
      "mape = 0.17378553587292433\n",
      "('Italy', 'KaggleRama', 'Kaggle Advanced Techniques')\n"
     ]
    },
    {
     "name": "stderr",
     "output_type": "stream",
     "text": [
      "09:19:55 - cmdstanpy - INFO - Chain [1] done processing\n",
      "09:19:55 - cmdstanpy - INFO - Chain [1] start processing\n"
     ]
    },
    {
     "name": "stdout",
     "output_type": "stream",
     "text": [
      "mape = 0.196142931283203\n",
      "('Italy', 'KaggleRama', 'Kaggle Getting Started')\n"
     ]
    },
    {
     "name": "stderr",
     "output_type": "stream",
     "text": [
      "09:19:55 - cmdstanpy - INFO - Chain [1] done processing\n",
      "09:19:56 - cmdstanpy - INFO - Chain [1] start processing\n"
     ]
    },
    {
     "name": "stdout",
     "output_type": "stream",
     "text": [
      "mape = 0.18968959790437373\n",
      "('Italy', 'KaggleRama', 'Kaggle Recipe Book')\n"
     ]
    },
    {
     "name": "stderr",
     "output_type": "stream",
     "text": [
      "09:19:56 - cmdstanpy - INFO - Chain [1] done processing\n",
      "09:19:57 - cmdstanpy - INFO - Chain [1] start processing\n"
     ]
    },
    {
     "name": "stdout",
     "output_type": "stream",
     "text": [
      "mape = 0.20123833928991897\n",
      "('Italy', 'KaggleRama', 'Kaggle for Kids: One Smart Goose')\n"
     ]
    },
    {
     "name": "stderr",
     "output_type": "stream",
     "text": [
      "09:19:58 - cmdstanpy - INFO - Chain [1] done processing\n",
      "09:19:58 - cmdstanpy - INFO - Chain [1] start processing\n"
     ]
    },
    {
     "name": "stdout",
     "output_type": "stream",
     "text": [
      "mape = 0.17083004659566275\n",
      "('Poland', 'KaggleMart', 'Kaggle Advanced Techniques')\n"
     ]
    },
    {
     "name": "stderr",
     "output_type": "stream",
     "text": [
      "09:19:59 - cmdstanpy - INFO - Chain [1] done processing\n",
      "09:19:59 - cmdstanpy - INFO - Chain [1] start processing\n"
     ]
    },
    {
     "name": "stdout",
     "output_type": "stream",
     "text": [
      "mape = 0.6091569350404836\n",
      "('Poland', 'KaggleMart', 'Kaggle Getting Started')\n"
     ]
    },
    {
     "name": "stderr",
     "output_type": "stream",
     "text": [
      "09:20:00 - cmdstanpy - INFO - Chain [1] done processing\n",
      "09:20:00 - cmdstanpy - INFO - Chain [1] start processing\n"
     ]
    },
    {
     "name": "stdout",
     "output_type": "stream",
     "text": [
      "mape = 0.6046014862206986\n",
      "('Poland', 'KaggleMart', 'Kaggle Recipe Book')\n"
     ]
    },
    {
     "name": "stderr",
     "output_type": "stream",
     "text": [
      "09:20:01 - cmdstanpy - INFO - Chain [1] done processing\n",
      "09:20:01 - cmdstanpy - INFO - Chain [1] start processing\n"
     ]
    },
    {
     "name": "stdout",
     "output_type": "stream",
     "text": [
      "mape = 0.5937140809406226\n",
      "('Poland', 'KaggleMart', 'Kaggle for Kids: One Smart Goose')\n"
     ]
    },
    {
     "name": "stderr",
     "output_type": "stream",
     "text": [
      "09:20:01 - cmdstanpy - INFO - Chain [1] done processing\n",
      "09:20:02 - cmdstanpy - INFO - Chain [1] start processing\n"
     ]
    },
    {
     "name": "stdout",
     "output_type": "stream",
     "text": [
      "mape = 0.6098855821348463\n",
      "('Poland', 'KaggleRama', 'Kaggle Advanced Techniques')\n"
     ]
    },
    {
     "name": "stderr",
     "output_type": "stream",
     "text": [
      "09:20:03 - cmdstanpy - INFO - Chain [1] done processing\n",
      "09:20:03 - cmdstanpy - INFO - Chain [1] start processing\n",
      "09:20:04 - cmdstanpy - INFO - Chain [1] done processing\n"
     ]
    },
    {
     "name": "stdout",
     "output_type": "stream",
     "text": [
      "mape = 0.6103692962997979\n",
      "('Poland', 'KaggleRama', 'Kaggle Getting Started')\n"
     ]
    },
    {
     "name": "stderr",
     "output_type": "stream",
     "text": [
      "09:20:04 - cmdstanpy - INFO - Chain [1] start processing\n",
      "09:20:04 - cmdstanpy - INFO - Chain [1] done processing\n"
     ]
    },
    {
     "name": "stdout",
     "output_type": "stream",
     "text": [
      "mape = 0.6022032591292624\n",
      "('Poland', 'KaggleRama', 'Kaggle Recipe Book')\n"
     ]
    },
    {
     "name": "stderr",
     "output_type": "stream",
     "text": [
      "09:20:05 - cmdstanpy - INFO - Chain [1] start processing\n"
     ]
    },
    {
     "name": "stdout",
     "output_type": "stream",
     "text": [
      "mape = 0.5976203180931876\n",
      "('Poland', 'KaggleRama', 'Kaggle for Kids: One Smart Goose')\n"
     ]
    },
    {
     "name": "stderr",
     "output_type": "stream",
     "text": [
      "09:20:05 - cmdstanpy - INFO - Chain [1] done processing\n",
      "09:20:06 - cmdstanpy - INFO - Chain [1] start processing\n"
     ]
    },
    {
     "name": "stdout",
     "output_type": "stream",
     "text": [
      "mape = 0.5922036416070595\n",
      "('Spain', 'KaggleMart', 'Kaggle Advanced Techniques')\n"
     ]
    },
    {
     "name": "stderr",
     "output_type": "stream",
     "text": [
      "09:20:07 - cmdstanpy - INFO - Chain [1] done processing\n",
      "09:20:07 - cmdstanpy - INFO - Chain [1] start processing\n"
     ]
    },
    {
     "name": "stdout",
     "output_type": "stream",
     "text": [
      "mape = 0.2937726881198471\n",
      "('Spain', 'KaggleMart', 'Kaggle Getting Started')\n"
     ]
    },
    {
     "name": "stderr",
     "output_type": "stream",
     "text": [
      "09:20:07 - cmdstanpy - INFO - Chain [1] done processing\n",
      "09:20:08 - cmdstanpy - INFO - Chain [1] start processing\n"
     ]
    },
    {
     "name": "stdout",
     "output_type": "stream",
     "text": [
      "mape = 0.29789795195295987\n",
      "('Spain', 'KaggleMart', 'Kaggle Recipe Book')\n"
     ]
    },
    {
     "name": "stderr",
     "output_type": "stream",
     "text": [
      "09:20:09 - cmdstanpy - INFO - Chain [1] done processing\n",
      "09:20:09 - cmdstanpy - INFO - Chain [1] start processing\n"
     ]
    },
    {
     "name": "stdout",
     "output_type": "stream",
     "text": [
      "mape = 0.3073960284082845\n",
      "('Spain', 'KaggleMart', 'Kaggle for Kids: One Smart Goose')\n"
     ]
    },
    {
     "name": "stderr",
     "output_type": "stream",
     "text": [
      "09:20:10 - cmdstanpy - INFO - Chain [1] done processing\n",
      "09:20:10 - cmdstanpy - INFO - Chain [1] start processing\n"
     ]
    },
    {
     "name": "stdout",
     "output_type": "stream",
     "text": [
      "mape = 0.29962914218651326\n",
      "('Spain', 'KaggleRama', 'Kaggle Advanced Techniques')\n"
     ]
    },
    {
     "name": "stderr",
     "output_type": "stream",
     "text": [
      "09:20:11 - cmdstanpy - INFO - Chain [1] done processing\n",
      "09:20:11 - cmdstanpy - INFO - Chain [1] start processing\n",
      "09:20:11 - cmdstanpy - INFO - Chain [1] done processing\n"
     ]
    },
    {
     "name": "stdout",
     "output_type": "stream",
     "text": [
      "mape = 0.29744363844242383\n",
      "('Spain', 'KaggleRama', 'Kaggle Getting Started')\n"
     ]
    },
    {
     "name": "stderr",
     "output_type": "stream",
     "text": [
      "09:20:12 - cmdstanpy - INFO - Chain [1] start processing\n"
     ]
    },
    {
     "name": "stdout",
     "output_type": "stream",
     "text": [
      "mape = 0.27700623379859146\n",
      "('Spain', 'KaggleRama', 'Kaggle Recipe Book')\n"
     ]
    },
    {
     "name": "stderr",
     "output_type": "stream",
     "text": [
      "09:20:13 - cmdstanpy - INFO - Chain [1] done processing\n",
      "09:20:13 - cmdstanpy - INFO - Chain [1] start processing\n"
     ]
    },
    {
     "name": "stdout",
     "output_type": "stream",
     "text": [
      "mape = 0.2939731000407823\n",
      "('Spain', 'KaggleRama', 'Kaggle for Kids: One Smart Goose')\n"
     ]
    },
    {
     "name": "stderr",
     "output_type": "stream",
     "text": [
      "09:20:14 - cmdstanpy - INFO - Chain [1] done processing\n"
     ]
    },
    {
     "name": "stdout",
     "output_type": "stream",
     "text": [
      "mape = 0.25895955749448124\n"
     ]
    }
   ],
   "source": [
    "true_l = []\n",
    "yhat_l = []\n",
    "for c in train_df_ts.index.unique():\n",
    "    print(c)\n",
    "    _train_df = train_df_ts.loc[c][:-365]\n",
    "    _valid_df = train_df_ts.loc[c][-365:]\n",
    "    y_pred = prophet_model(_train_df, _valid_df, valid_flag=True, ts_plot=False)\n",
    "    \n",
    "    true_l.append(_valid_df['y'])\n",
    "    yhat_l.append(y_pred['yhat'])"
   ]
  },
  {
   "cell_type": "code",
   "execution_count": 8,
   "id": "6fdddb47",
   "metadata": {
    "execution": {
     "iopub.execute_input": "2022-09-24T09:20:14.924804Z",
     "iopub.status.busy": "2022-09-24T09:20:14.924335Z",
     "iopub.status.idle": "2022-09-24T09:20:14.944485Z",
     "shell.execute_reply": "2022-09-24T09:20:14.943452Z"
    },
    "papermill": {
     "duration": 0.037775,
     "end_time": "2022-09-24T09:20:14.947377",
     "exception": false,
     "start_time": "2022-09-24T09:20:14.909602",
     "status": "completed"
    },
    "tags": []
   },
   "outputs": [
    {
     "name": "stdout",
     "output_type": "stream",
     "text": [
      "Squared Mean Absolute Percentage Error (SMAPE): 29.68542152964046\n"
     ]
    }
   ],
   "source": [
    "def smape(A, F):\n",
    "    return 100/len(A) * np.sum(2 * np.abs(F - A) / (np.abs(A) + np.abs(F)))\n",
    "\n",
    "true_df = pd.concat(true_l)\n",
    "yhat_df = pd.concat(yhat_l)\n",
    "\n",
    "print(f'Squared Mean Absolute Percentage Error (SMAPE): {smape(true_df.values, yhat_df)}')"
   ]
  },
  {
   "cell_type": "markdown",
   "id": "a5a8b0b1",
   "metadata": {
    "papermill": {
     "duration": 0.012695,
     "end_time": "2022-09-24T09:20:14.974179",
     "exception": false,
     "start_time": "2022-09-24T09:20:14.961484",
     "status": "completed"
    },
    "tags": []
   },
   "source": [
    "## 推論"
   ]
  },
  {
   "cell_type": "code",
   "execution_count": 9,
   "id": "b259a799",
   "metadata": {
    "execution": {
     "iopub.execute_input": "2022-09-24T09:20:15.003120Z",
     "iopub.status.busy": "2022-09-24T09:20:15.002501Z",
     "iopub.status.idle": "2022-09-24T09:20:15.032073Z",
     "shell.execute_reply": "2022-09-24T09:20:15.031027Z"
    },
    "papermill": {
     "duration": 0.047265,
     "end_time": "2022-09-24T09:20:15.034673",
     "exception": false,
     "start_time": "2022-09-24T09:20:14.987408",
     "status": "completed"
    },
    "tags": []
   },
   "outputs": [
    {
     "data": {
      "text/html": [
       "<div>\n",
       "<style scoped>\n",
       "    .dataframe tbody tr th:only-of-type {\n",
       "        vertical-align: middle;\n",
       "    }\n",
       "\n",
       "    .dataframe tbody tr th {\n",
       "        vertical-align: top;\n",
       "    }\n",
       "\n",
       "    .dataframe thead th {\n",
       "        text-align: right;\n",
       "    }\n",
       "</style>\n",
       "<table border=\"1\" class=\"dataframe\">\n",
       "  <thead>\n",
       "    <tr style=\"text-align: right;\">\n",
       "      <th></th>\n",
       "      <th></th>\n",
       "      <th></th>\n",
       "      <th>ds</th>\n",
       "    </tr>\n",
       "    <tr>\n",
       "      <th>country</th>\n",
       "      <th>store</th>\n",
       "      <th>product</th>\n",
       "      <th></th>\n",
       "    </tr>\n",
       "  </thead>\n",
       "  <tbody>\n",
       "    <tr>\n",
       "      <th rowspan=\"5\" valign=\"top\">Belgium</th>\n",
       "      <th rowspan=\"5\" valign=\"top\">KaggleMart</th>\n",
       "      <th>Kaggle Advanced Techniques</th>\n",
       "      <td>2021-01-01</td>\n",
       "    </tr>\n",
       "    <tr>\n",
       "      <th>Kaggle Advanced Techniques</th>\n",
       "      <td>2021-01-02</td>\n",
       "    </tr>\n",
       "    <tr>\n",
       "      <th>Kaggle Advanced Techniques</th>\n",
       "      <td>2021-01-03</td>\n",
       "    </tr>\n",
       "    <tr>\n",
       "      <th>Kaggle Advanced Techniques</th>\n",
       "      <td>2021-01-04</td>\n",
       "    </tr>\n",
       "    <tr>\n",
       "      <th>Kaggle Advanced Techniques</th>\n",
       "      <td>2021-01-05</td>\n",
       "    </tr>\n",
       "    <tr>\n",
       "      <th>...</th>\n",
       "      <th>...</th>\n",
       "      <th>...</th>\n",
       "      <td>...</td>\n",
       "    </tr>\n",
       "    <tr>\n",
       "      <th rowspan=\"5\" valign=\"top\">Spain</th>\n",
       "      <th rowspan=\"5\" valign=\"top\">KaggleRama</th>\n",
       "      <th>Kaggle for Kids: One Smart Goose</th>\n",
       "      <td>2021-12-27</td>\n",
       "    </tr>\n",
       "    <tr>\n",
       "      <th>Kaggle for Kids: One Smart Goose</th>\n",
       "      <td>2021-12-28</td>\n",
       "    </tr>\n",
       "    <tr>\n",
       "      <th>Kaggle for Kids: One Smart Goose</th>\n",
       "      <td>2021-12-29</td>\n",
       "    </tr>\n",
       "    <tr>\n",
       "      <th>Kaggle for Kids: One Smart Goose</th>\n",
       "      <td>2021-12-30</td>\n",
       "    </tr>\n",
       "    <tr>\n",
       "      <th>Kaggle for Kids: One Smart Goose</th>\n",
       "      <td>2021-12-31</td>\n",
       "    </tr>\n",
       "  </tbody>\n",
       "</table>\n",
       "<p>17520 rows × 1 columns</p>\n",
       "</div>"
      ],
      "text/plain": [
       "                                                            ds\n",
       "country store      product                                    \n",
       "Belgium KaggleMart Kaggle Advanced Techniques       2021-01-01\n",
       "                   Kaggle Advanced Techniques       2021-01-02\n",
       "                   Kaggle Advanced Techniques       2021-01-03\n",
       "                   Kaggle Advanced Techniques       2021-01-04\n",
       "                   Kaggle Advanced Techniques       2021-01-05\n",
       "...                                                        ...\n",
       "Spain   KaggleRama Kaggle for Kids: One Smart Goose 2021-12-27\n",
       "                   Kaggle for Kids: One Smart Goose 2021-12-28\n",
       "                   Kaggle for Kids: One Smart Goose 2021-12-29\n",
       "                   Kaggle for Kids: One Smart Goose 2021-12-30\n",
       "                   Kaggle for Kids: One Smart Goose 2021-12-31\n",
       "\n",
       "[17520 rows x 1 columns]"
      ]
     },
     "metadata": {},
     "output_type": "display_data"
    }
   ],
   "source": [
    "test_df_ts = test_df.set_index(['country', 'store', 'product']).drop('row_id', axis=1).sort_index()\n",
    "test_df_ts.columns = ['ds']\n",
    "display(test_df_ts)"
   ]
  },
  {
   "cell_type": "code",
   "execution_count": 10,
   "id": "d5d49b43",
   "metadata": {
    "execution": {
     "iopub.execute_input": "2022-09-24T09:20:15.064210Z",
     "iopub.status.busy": "2022-09-24T09:20:15.063127Z",
     "iopub.status.idle": "2022-09-24T09:21:12.157946Z",
     "shell.execute_reply": "2022-09-24T09:21:12.157061Z"
    },
    "papermill": {
     "duration": 57.112565,
     "end_time": "2022-09-24T09:21:12.160694",
     "exception": false,
     "start_time": "2022-09-24T09:20:15.048129",
     "status": "completed"
    },
    "tags": []
   },
   "outputs": [
    {
     "name": "stdout",
     "output_type": "stream",
     "text": [
      "('Belgium', 'KaggleMart', 'Kaggle Advanced Techniques')\n"
     ]
    },
    {
     "name": "stderr",
     "output_type": "stream",
     "text": [
      "09:20:15 - cmdstanpy - INFO - Chain [1] start processing\n",
      "09:20:15 - cmdstanpy - INFO - Chain [1] done processing\n",
      "09:20:16 - cmdstanpy - INFO - Chain [1] start processing\n"
     ]
    },
    {
     "name": "stdout",
     "output_type": "stream",
     "text": [
      "('Belgium', 'KaggleMart', 'Kaggle Getting Started')\n"
     ]
    },
    {
     "name": "stderr",
     "output_type": "stream",
     "text": [
      "09:20:16 - cmdstanpy - INFO - Chain [1] done processing\n",
      "09:20:17 - cmdstanpy - INFO - Chain [1] start processing\n"
     ]
    },
    {
     "name": "stdout",
     "output_type": "stream",
     "text": [
      "('Belgium', 'KaggleMart', 'Kaggle Recipe Book')\n"
     ]
    },
    {
     "name": "stderr",
     "output_type": "stream",
     "text": [
      "09:20:17 - cmdstanpy - INFO - Chain [1] done processing\n",
      "09:20:18 - cmdstanpy - INFO - Chain [1] start processing\n"
     ]
    },
    {
     "name": "stdout",
     "output_type": "stream",
     "text": [
      "('Belgium', 'KaggleMart', 'Kaggle for Kids: One Smart Goose')\n"
     ]
    },
    {
     "name": "stderr",
     "output_type": "stream",
     "text": [
      "09:20:19 - cmdstanpy - INFO - Chain [1] done processing\n",
      "09:20:19 - cmdstanpy - INFO - Chain [1] start processing\n"
     ]
    },
    {
     "name": "stdout",
     "output_type": "stream",
     "text": [
      "('Belgium', 'KaggleRama', 'Kaggle Advanced Techniques')\n"
     ]
    },
    {
     "name": "stderr",
     "output_type": "stream",
     "text": [
      "09:20:20 - cmdstanpy - INFO - Chain [1] done processing\n",
      "09:20:21 - cmdstanpy - INFO - Chain [1] start processing\n"
     ]
    },
    {
     "name": "stdout",
     "output_type": "stream",
     "text": [
      "('Belgium', 'KaggleRama', 'Kaggle Getting Started')\n"
     ]
    },
    {
     "name": "stderr",
     "output_type": "stream",
     "text": [
      "09:20:21 - cmdstanpy - INFO - Chain [1] done processing\n",
      "09:20:22 - cmdstanpy - INFO - Chain [1] start processing\n"
     ]
    },
    {
     "name": "stdout",
     "output_type": "stream",
     "text": [
      "('Belgium', 'KaggleRama', 'Kaggle Recipe Book')\n"
     ]
    },
    {
     "name": "stderr",
     "output_type": "stream",
     "text": [
      "09:20:22 - cmdstanpy - INFO - Chain [1] done processing\n",
      "09:20:23 - cmdstanpy - INFO - Chain [1] start processing\n"
     ]
    },
    {
     "name": "stdout",
     "output_type": "stream",
     "text": [
      "('Belgium', 'KaggleRama', 'Kaggle for Kids: One Smart Goose')\n"
     ]
    },
    {
     "name": "stderr",
     "output_type": "stream",
     "text": [
      "09:20:23 - cmdstanpy - INFO - Chain [1] done processing\n",
      "09:20:24 - cmdstanpy - INFO - Chain [1] start processing\n"
     ]
    },
    {
     "name": "stdout",
     "output_type": "stream",
     "text": [
      "('France', 'KaggleMart', 'Kaggle Advanced Techniques')\n"
     ]
    },
    {
     "name": "stderr",
     "output_type": "stream",
     "text": [
      "09:20:24 - cmdstanpy - INFO - Chain [1] done processing\n",
      "09:20:25 - cmdstanpy - INFO - Chain [1] start processing\n"
     ]
    },
    {
     "name": "stdout",
     "output_type": "stream",
     "text": [
      "('France', 'KaggleMart', 'Kaggle Getting Started')\n"
     ]
    },
    {
     "name": "stderr",
     "output_type": "stream",
     "text": [
      "09:20:25 - cmdstanpy - INFO - Chain [1] done processing\n",
      "09:20:26 - cmdstanpy - INFO - Chain [1] start processing\n"
     ]
    },
    {
     "name": "stdout",
     "output_type": "stream",
     "text": [
      "('France', 'KaggleMart', 'Kaggle Recipe Book')\n"
     ]
    },
    {
     "name": "stderr",
     "output_type": "stream",
     "text": [
      "09:20:26 - cmdstanpy - INFO - Chain [1] done processing\n",
      "09:20:27 - cmdstanpy - INFO - Chain [1] start processing\n"
     ]
    },
    {
     "name": "stdout",
     "output_type": "stream",
     "text": [
      "('France', 'KaggleMart', 'Kaggle for Kids: One Smart Goose')\n"
     ]
    },
    {
     "name": "stderr",
     "output_type": "stream",
     "text": [
      "09:20:27 - cmdstanpy - INFO - Chain [1] done processing\n",
      "09:20:28 - cmdstanpy - INFO - Chain [1] start processing\n"
     ]
    },
    {
     "name": "stdout",
     "output_type": "stream",
     "text": [
      "('France', 'KaggleRama', 'Kaggle Advanced Techniques')\n"
     ]
    },
    {
     "name": "stderr",
     "output_type": "stream",
     "text": [
      "09:20:28 - cmdstanpy - INFO - Chain [1] done processing\n",
      "09:20:29 - cmdstanpy - INFO - Chain [1] start processing\n"
     ]
    },
    {
     "name": "stdout",
     "output_type": "stream",
     "text": [
      "('France', 'KaggleRama', 'Kaggle Getting Started')\n"
     ]
    },
    {
     "name": "stderr",
     "output_type": "stream",
     "text": [
      "09:20:29 - cmdstanpy - INFO - Chain [1] done processing\n",
      "09:20:30 - cmdstanpy - INFO - Chain [1] start processing\n",
      "09:20:30 - cmdstanpy - INFO - Chain [1] done processing\n"
     ]
    },
    {
     "name": "stdout",
     "output_type": "stream",
     "text": [
      "('France', 'KaggleRama', 'Kaggle Recipe Book')\n"
     ]
    },
    {
     "name": "stderr",
     "output_type": "stream",
     "text": [
      "09:20:31 - cmdstanpy - INFO - Chain [1] start processing\n"
     ]
    },
    {
     "name": "stdout",
     "output_type": "stream",
     "text": [
      "('France', 'KaggleRama', 'Kaggle for Kids: One Smart Goose')\n"
     ]
    },
    {
     "name": "stderr",
     "output_type": "stream",
     "text": [
      "09:20:32 - cmdstanpy - INFO - Chain [1] done processing\n",
      "09:20:32 - cmdstanpy - INFO - Chain [1] start processing\n"
     ]
    },
    {
     "name": "stdout",
     "output_type": "stream",
     "text": [
      "('Germany', 'KaggleMart', 'Kaggle Advanced Techniques')\n"
     ]
    },
    {
     "name": "stderr",
     "output_type": "stream",
     "text": [
      "09:20:33 - cmdstanpy - INFO - Chain [1] done processing\n",
      "09:20:33 - cmdstanpy - INFO - Chain [1] start processing\n"
     ]
    },
    {
     "name": "stdout",
     "output_type": "stream",
     "text": [
      "('Germany', 'KaggleMart', 'Kaggle Getting Started')\n"
     ]
    },
    {
     "name": "stderr",
     "output_type": "stream",
     "text": [
      "09:20:34 - cmdstanpy - INFO - Chain [1] done processing\n",
      "09:20:34 - cmdstanpy - INFO - Chain [1] start processing\n"
     ]
    },
    {
     "name": "stdout",
     "output_type": "stream",
     "text": [
      "('Germany', 'KaggleMart', 'Kaggle Recipe Book')\n"
     ]
    },
    {
     "name": "stderr",
     "output_type": "stream",
     "text": [
      "09:20:35 - cmdstanpy - INFO - Chain [1] done processing\n",
      "09:20:36 - cmdstanpy - INFO - Chain [1] start processing\n"
     ]
    },
    {
     "name": "stdout",
     "output_type": "stream",
     "text": [
      "('Germany', 'KaggleMart', 'Kaggle for Kids: One Smart Goose')\n"
     ]
    },
    {
     "name": "stderr",
     "output_type": "stream",
     "text": [
      "09:20:36 - cmdstanpy - INFO - Chain [1] done processing\n",
      "09:20:37 - cmdstanpy - INFO - Chain [1] start processing\n"
     ]
    },
    {
     "name": "stdout",
     "output_type": "stream",
     "text": [
      "('Germany', 'KaggleRama', 'Kaggle Advanced Techniques')\n"
     ]
    },
    {
     "name": "stderr",
     "output_type": "stream",
     "text": [
      "09:20:37 - cmdstanpy - INFO - Chain [1] done processing\n",
      "09:20:38 - cmdstanpy - INFO - Chain [1] start processing\n"
     ]
    },
    {
     "name": "stdout",
     "output_type": "stream",
     "text": [
      "('Germany', 'KaggleRama', 'Kaggle Getting Started')\n"
     ]
    },
    {
     "name": "stderr",
     "output_type": "stream",
     "text": [
      "09:20:38 - cmdstanpy - INFO - Chain [1] done processing\n",
      "09:20:39 - cmdstanpy - INFO - Chain [1] start processing\n"
     ]
    },
    {
     "name": "stdout",
     "output_type": "stream",
     "text": [
      "('Germany', 'KaggleRama', 'Kaggle Recipe Book')\n"
     ]
    },
    {
     "name": "stderr",
     "output_type": "stream",
     "text": [
      "09:20:39 - cmdstanpy - INFO - Chain [1] done processing\n",
      "09:20:40 - cmdstanpy - INFO - Chain [1] start processing\n"
     ]
    },
    {
     "name": "stdout",
     "output_type": "stream",
     "text": [
      "('Germany', 'KaggleRama', 'Kaggle for Kids: One Smart Goose')\n"
     ]
    },
    {
     "name": "stderr",
     "output_type": "stream",
     "text": [
      "09:20:40 - cmdstanpy - INFO - Chain [1] done processing\n",
      "09:20:41 - cmdstanpy - INFO - Chain [1] start processing\n"
     ]
    },
    {
     "name": "stdout",
     "output_type": "stream",
     "text": [
      "('Italy', 'KaggleMart', 'Kaggle Advanced Techniques')\n"
     ]
    },
    {
     "name": "stderr",
     "output_type": "stream",
     "text": [
      "09:20:42 - cmdstanpy - INFO - Chain [1] done processing\n",
      "09:20:43 - cmdstanpy - INFO - Chain [1] start processing\n"
     ]
    },
    {
     "name": "stdout",
     "output_type": "stream",
     "text": [
      "('Italy', 'KaggleMart', 'Kaggle Getting Started')\n"
     ]
    },
    {
     "name": "stderr",
     "output_type": "stream",
     "text": [
      "09:20:43 - cmdstanpy - INFO - Chain [1] done processing\n",
      "09:20:44 - cmdstanpy - INFO - Chain [1] start processing\n"
     ]
    },
    {
     "name": "stdout",
     "output_type": "stream",
     "text": [
      "('Italy', 'KaggleMart', 'Kaggle Recipe Book')\n"
     ]
    },
    {
     "name": "stderr",
     "output_type": "stream",
     "text": [
      "09:20:44 - cmdstanpy - INFO - Chain [1] done processing\n",
      "09:20:45 - cmdstanpy - INFO - Chain [1] start processing\n"
     ]
    },
    {
     "name": "stdout",
     "output_type": "stream",
     "text": [
      "('Italy', 'KaggleMart', 'Kaggle for Kids: One Smart Goose')\n"
     ]
    },
    {
     "name": "stderr",
     "output_type": "stream",
     "text": [
      "09:20:45 - cmdstanpy - INFO - Chain [1] done processing\n",
      "09:20:46 - cmdstanpy - INFO - Chain [1] start processing\n"
     ]
    },
    {
     "name": "stdout",
     "output_type": "stream",
     "text": [
      "('Italy', 'KaggleRama', 'Kaggle Advanced Techniques')\n"
     ]
    },
    {
     "name": "stderr",
     "output_type": "stream",
     "text": [
      "09:20:46 - cmdstanpy - INFO - Chain [1] done processing\n",
      "09:20:47 - cmdstanpy - INFO - Chain [1] start processing\n"
     ]
    },
    {
     "name": "stdout",
     "output_type": "stream",
     "text": [
      "('Italy', 'KaggleRama', 'Kaggle Getting Started')\n"
     ]
    },
    {
     "name": "stderr",
     "output_type": "stream",
     "text": [
      "09:20:48 - cmdstanpy - INFO - Chain [1] done processing\n",
      "09:20:48 - cmdstanpy - INFO - Chain [1] start processing\n"
     ]
    },
    {
     "name": "stdout",
     "output_type": "stream",
     "text": [
      "('Italy', 'KaggleRama', 'Kaggle Recipe Book')\n"
     ]
    },
    {
     "name": "stderr",
     "output_type": "stream",
     "text": [
      "09:20:49 - cmdstanpy - INFO - Chain [1] done processing\n",
      "09:20:50 - cmdstanpy - INFO - Chain [1] start processing\n"
     ]
    },
    {
     "name": "stdout",
     "output_type": "stream",
     "text": [
      "('Italy', 'KaggleRama', 'Kaggle for Kids: One Smart Goose')\n"
     ]
    },
    {
     "name": "stderr",
     "output_type": "stream",
     "text": [
      "09:20:50 - cmdstanpy - INFO - Chain [1] done processing\n",
      "09:20:51 - cmdstanpy - INFO - Chain [1] start processing\n"
     ]
    },
    {
     "name": "stdout",
     "output_type": "stream",
     "text": [
      "('Poland', 'KaggleMart', 'Kaggle Advanced Techniques')\n"
     ]
    },
    {
     "name": "stderr",
     "output_type": "stream",
     "text": [
      "09:20:52 - cmdstanpy - INFO - Chain [1] done processing\n",
      "09:20:53 - cmdstanpy - INFO - Chain [1] start processing\n"
     ]
    },
    {
     "name": "stdout",
     "output_type": "stream",
     "text": [
      "('Poland', 'KaggleMart', 'Kaggle Getting Started')\n"
     ]
    },
    {
     "name": "stderr",
     "output_type": "stream",
     "text": [
      "09:20:53 - cmdstanpy - INFO - Chain [1] done processing\n",
      "09:20:54 - cmdstanpy - INFO - Chain [1] start processing\n"
     ]
    },
    {
     "name": "stdout",
     "output_type": "stream",
     "text": [
      "('Poland', 'KaggleMart', 'Kaggle Recipe Book')\n"
     ]
    },
    {
     "name": "stderr",
     "output_type": "stream",
     "text": [
      "09:20:54 - cmdstanpy - INFO - Chain [1] done processing\n",
      "09:20:55 - cmdstanpy - INFO - Chain [1] start processing\n"
     ]
    },
    {
     "name": "stdout",
     "output_type": "stream",
     "text": [
      "('Poland', 'KaggleMart', 'Kaggle for Kids: One Smart Goose')\n"
     ]
    },
    {
     "name": "stderr",
     "output_type": "stream",
     "text": [
      "09:20:56 - cmdstanpy - INFO - Chain [1] done processing\n",
      "09:20:57 - cmdstanpy - INFO - Chain [1] start processing\n"
     ]
    },
    {
     "name": "stdout",
     "output_type": "stream",
     "text": [
      "('Poland', 'KaggleRama', 'Kaggle Advanced Techniques')\n"
     ]
    },
    {
     "name": "stderr",
     "output_type": "stream",
     "text": [
      "09:20:57 - cmdstanpy - INFO - Chain [1] done processing\n",
      "09:20:58 - cmdstanpy - INFO - Chain [1] start processing\n"
     ]
    },
    {
     "name": "stdout",
     "output_type": "stream",
     "text": [
      "('Poland', 'KaggleRama', 'Kaggle Getting Started')\n"
     ]
    },
    {
     "name": "stderr",
     "output_type": "stream",
     "text": [
      "09:20:59 - cmdstanpy - INFO - Chain [1] done processing\n",
      "09:20:59 - cmdstanpy - INFO - Chain [1] start processing\n"
     ]
    },
    {
     "name": "stdout",
     "output_type": "stream",
     "text": [
      "('Poland', 'KaggleRama', 'Kaggle Recipe Book')\n"
     ]
    },
    {
     "name": "stderr",
     "output_type": "stream",
     "text": [
      "09:21:00 - cmdstanpy - INFO - Chain [1] done processing\n",
      "09:21:01 - cmdstanpy - INFO - Chain [1] start processing\n"
     ]
    },
    {
     "name": "stdout",
     "output_type": "stream",
     "text": [
      "('Poland', 'KaggleRama', 'Kaggle for Kids: One Smart Goose')\n"
     ]
    },
    {
     "name": "stderr",
     "output_type": "stream",
     "text": [
      "09:21:01 - cmdstanpy - INFO - Chain [1] done processing\n",
      "09:21:02 - cmdstanpy - INFO - Chain [1] start processing\n"
     ]
    },
    {
     "name": "stdout",
     "output_type": "stream",
     "text": [
      "('Spain', 'KaggleMart', 'Kaggle Advanced Techniques')\n"
     ]
    },
    {
     "name": "stderr",
     "output_type": "stream",
     "text": [
      "09:21:03 - cmdstanpy - INFO - Chain [1] done processing\n",
      "09:21:03 - cmdstanpy - INFO - Chain [1] start processing\n"
     ]
    },
    {
     "name": "stdout",
     "output_type": "stream",
     "text": [
      "('Spain', 'KaggleMart', 'Kaggle Getting Started')\n"
     ]
    },
    {
     "name": "stderr",
     "output_type": "stream",
     "text": [
      "09:21:04 - cmdstanpy - INFO - Chain [1] done processing\n",
      "09:21:05 - cmdstanpy - INFO - Chain [1] start processing\n"
     ]
    },
    {
     "name": "stdout",
     "output_type": "stream",
     "text": [
      "('Spain', 'KaggleMart', 'Kaggle Recipe Book')\n"
     ]
    },
    {
     "name": "stderr",
     "output_type": "stream",
     "text": [
      "09:21:05 - cmdstanpy - INFO - Chain [1] done processing\n",
      "09:21:06 - cmdstanpy - INFO - Chain [1] start processing\n"
     ]
    },
    {
     "name": "stdout",
     "output_type": "stream",
     "text": [
      "('Spain', 'KaggleMart', 'Kaggle for Kids: One Smart Goose')\n"
     ]
    },
    {
     "name": "stderr",
     "output_type": "stream",
     "text": [
      "09:21:06 - cmdstanpy - INFO - Chain [1] done processing\n",
      "09:21:07 - cmdstanpy - INFO - Chain [1] start processing\n"
     ]
    },
    {
     "name": "stdout",
     "output_type": "stream",
     "text": [
      "('Spain', 'KaggleRama', 'Kaggle Advanced Techniques')\n"
     ]
    },
    {
     "name": "stderr",
     "output_type": "stream",
     "text": [
      "09:21:07 - cmdstanpy - INFO - Chain [1] done processing\n",
      "09:21:08 - cmdstanpy - INFO - Chain [1] start processing\n"
     ]
    },
    {
     "name": "stdout",
     "output_type": "stream",
     "text": [
      "('Spain', 'KaggleRama', 'Kaggle Getting Started')\n"
     ]
    },
    {
     "name": "stderr",
     "output_type": "stream",
     "text": [
      "09:21:09 - cmdstanpy - INFO - Chain [1] done processing\n",
      "09:21:09 - cmdstanpy - INFO - Chain [1] start processing\n"
     ]
    },
    {
     "name": "stdout",
     "output_type": "stream",
     "text": [
      "('Spain', 'KaggleRama', 'Kaggle Recipe Book')\n"
     ]
    },
    {
     "name": "stderr",
     "output_type": "stream",
     "text": [
      "09:21:10 - cmdstanpy - INFO - Chain [1] done processing\n",
      "09:21:10 - cmdstanpy - INFO - Chain [1] start processing\n"
     ]
    },
    {
     "name": "stdout",
     "output_type": "stream",
     "text": [
      "('Spain', 'KaggleRama', 'Kaggle for Kids: One Smart Goose')\n"
     ]
    },
    {
     "name": "stderr",
     "output_type": "stream",
     "text": [
      "09:21:11 - cmdstanpy - INFO - Chain [1] done processing\n"
     ]
    }
   ],
   "source": [
    "yhat_l = []\n",
    "for c in train_df_ts.index.unique():\n",
    "    print(c)\n",
    "        \n",
    "    _train_df = train_df_ts.loc[c]\n",
    "    _valid_df = test_df_ts.loc[c]\n",
    "    y_pred = prophet_model(_train_df, _valid_df, valid_flag=False, ts_plot=False)\n",
    "    \n",
    "    n_rows = _valid_df.shape[0]\n",
    "    index_df = pd.DataFrame({\n",
    "        'country': [c[0] for _ in range(n_rows)], \n",
    "        'store': [c[1] for _ in range(n_rows)],\n",
    "        'product': [c[2] for _ in range(n_rows)]\n",
    "    })\n",
    "    _df = pd.concat([index_df, y_pred], axis=1)\n",
    "    yhat_l.append(_df)"
   ]
  },
  {
   "cell_type": "code",
   "execution_count": 11,
   "id": "8a530a80",
   "metadata": {
    "execution": {
     "iopub.execute_input": "2022-09-24T09:21:12.206887Z",
     "iopub.status.busy": "2022-09-24T09:21:12.206243Z",
     "iopub.status.idle": "2022-09-24T09:21:12.250340Z",
     "shell.execute_reply": "2022-09-24T09:21:12.249172Z"
    },
    "papermill": {
     "duration": 0.069821,
     "end_time": "2022-09-24T09:21:12.252773",
     "exception": false,
     "start_time": "2022-09-24T09:21:12.182952",
     "status": "completed"
    },
    "tags": []
   },
   "outputs": [
    {
     "data": {
      "text/html": [
       "<div>\n",
       "<style scoped>\n",
       "    .dataframe tbody tr th:only-of-type {\n",
       "        vertical-align: middle;\n",
       "    }\n",
       "\n",
       "    .dataframe tbody tr th {\n",
       "        vertical-align: top;\n",
       "    }\n",
       "\n",
       "    .dataframe thead th {\n",
       "        text-align: right;\n",
       "    }\n",
       "</style>\n",
       "<table border=\"1\" class=\"dataframe\">\n",
       "  <thead>\n",
       "    <tr style=\"text-align: right;\">\n",
       "      <th></th>\n",
       "      <th>country</th>\n",
       "      <th>store</th>\n",
       "      <th>product</th>\n",
       "      <th>date</th>\n",
       "      <th>num_sold</th>\n",
       "    </tr>\n",
       "  </thead>\n",
       "  <tbody>\n",
       "    <tr>\n",
       "      <th>0</th>\n",
       "      <td>Belgium</td>\n",
       "      <td>KaggleMart</td>\n",
       "      <td>Kaggle Advanced Techniques</td>\n",
       "      <td>2021-01-01</td>\n",
       "      <td>484.995885</td>\n",
       "    </tr>\n",
       "    <tr>\n",
       "      <th>1</th>\n",
       "      <td>Belgium</td>\n",
       "      <td>KaggleMart</td>\n",
       "      <td>Kaggle Advanced Techniques</td>\n",
       "      <td>2021-01-02</td>\n",
       "      <td>523.072487</td>\n",
       "    </tr>\n",
       "    <tr>\n",
       "      <th>2</th>\n",
       "      <td>Belgium</td>\n",
       "      <td>KaggleMart</td>\n",
       "      <td>Kaggle Advanced Techniques</td>\n",
       "      <td>2021-01-03</td>\n",
       "      <td>536.409608</td>\n",
       "    </tr>\n",
       "    <tr>\n",
       "      <th>3</th>\n",
       "      <td>Belgium</td>\n",
       "      <td>KaggleMart</td>\n",
       "      <td>Kaggle Advanced Techniques</td>\n",
       "      <td>2021-01-04</td>\n",
       "      <td>463.882506</td>\n",
       "    </tr>\n",
       "    <tr>\n",
       "      <th>4</th>\n",
       "      <td>Belgium</td>\n",
       "      <td>KaggleMart</td>\n",
       "      <td>Kaggle Advanced Techniques</td>\n",
       "      <td>2021-01-05</td>\n",
       "      <td>459.676067</td>\n",
       "    </tr>\n",
       "    <tr>\n",
       "      <th>...</th>\n",
       "      <td>...</td>\n",
       "      <td>...</td>\n",
       "      <td>...</td>\n",
       "      <td>...</td>\n",
       "      <td>...</td>\n",
       "    </tr>\n",
       "    <tr>\n",
       "      <th>360</th>\n",
       "      <td>Spain</td>\n",
       "      <td>KaggleRama</td>\n",
       "      <td>Kaggle for Kids: One Smart Goose</td>\n",
       "      <td>2021-12-27</td>\n",
       "      <td>224.150989</td>\n",
       "    </tr>\n",
       "    <tr>\n",
       "      <th>361</th>\n",
       "      <td>Spain</td>\n",
       "      <td>KaggleRama</td>\n",
       "      <td>Kaggle for Kids: One Smart Goose</td>\n",
       "      <td>2021-12-28</td>\n",
       "      <td>228.711473</td>\n",
       "    </tr>\n",
       "    <tr>\n",
       "      <th>362</th>\n",
       "      <td>Spain</td>\n",
       "      <td>KaggleRama</td>\n",
       "      <td>Kaggle for Kids: One Smart Goose</td>\n",
       "      <td>2021-12-29</td>\n",
       "      <td>231.159167</td>\n",
       "    </tr>\n",
       "    <tr>\n",
       "      <th>363</th>\n",
       "      <td>Spain</td>\n",
       "      <td>KaggleRama</td>\n",
       "      <td>Kaggle for Kids: One Smart Goose</td>\n",
       "      <td>2021-12-30</td>\n",
       "      <td>233.138203</td>\n",
       "    </tr>\n",
       "    <tr>\n",
       "      <th>364</th>\n",
       "      <td>Spain</td>\n",
       "      <td>KaggleRama</td>\n",
       "      <td>Kaggle for Kids: One Smart Goose</td>\n",
       "      <td>2021-12-31</td>\n",
       "      <td>246.023710</td>\n",
       "    </tr>\n",
       "  </tbody>\n",
       "</table>\n",
       "<p>17520 rows × 5 columns</p>\n",
       "</div>"
      ],
      "text/plain": [
       "     country       store                           product       date  \\\n",
       "0    Belgium  KaggleMart        Kaggle Advanced Techniques 2021-01-01   \n",
       "1    Belgium  KaggleMart        Kaggle Advanced Techniques 2021-01-02   \n",
       "2    Belgium  KaggleMart        Kaggle Advanced Techniques 2021-01-03   \n",
       "3    Belgium  KaggleMart        Kaggle Advanced Techniques 2021-01-04   \n",
       "4    Belgium  KaggleMart        Kaggle Advanced Techniques 2021-01-05   \n",
       "..       ...         ...                               ...        ...   \n",
       "360    Spain  KaggleRama  Kaggle for Kids: One Smart Goose 2021-12-27   \n",
       "361    Spain  KaggleRama  Kaggle for Kids: One Smart Goose 2021-12-28   \n",
       "362    Spain  KaggleRama  Kaggle for Kids: One Smart Goose 2021-12-29   \n",
       "363    Spain  KaggleRama  Kaggle for Kids: One Smart Goose 2021-12-30   \n",
       "364    Spain  KaggleRama  Kaggle for Kids: One Smart Goose 2021-12-31   \n",
       "\n",
       "       num_sold  \n",
       "0    484.995885  \n",
       "1    523.072487  \n",
       "2    536.409608  \n",
       "3    463.882506  \n",
       "4    459.676067  \n",
       "..          ...  \n",
       "360  224.150989  \n",
       "361  228.711473  \n",
       "362  231.159167  \n",
       "363  233.138203  \n",
       "364  246.023710  \n",
       "\n",
       "[17520 rows x 5 columns]"
      ]
     },
     "execution_count": 11,
     "metadata": {},
     "output_type": "execute_result"
    }
   ],
   "source": [
    "yhat_df = pd.concat(yhat_l)\n",
    "yhat_df = yhat_df[['country', 'store', 'product', 'ds', 'yhat']]\n",
    "yhat_df.columns = ['country', 'store', 'product', 'date', 'num_sold']\n",
    "yhat_df"
   ]
  },
  {
   "cell_type": "code",
   "execution_count": 12,
   "id": "91918977",
   "metadata": {
    "execution": {
     "iopub.execute_input": "2022-09-24T09:21:12.300062Z",
     "iopub.status.busy": "2022-09-24T09:21:12.299665Z",
     "iopub.status.idle": "2022-09-24T09:21:12.333398Z",
     "shell.execute_reply": "2022-09-24T09:21:12.332190Z"
    },
    "papermill": {
     "duration": 0.060878,
     "end_time": "2022-09-24T09:21:12.335878",
     "exception": false,
     "start_time": "2022-09-24T09:21:12.275000",
     "status": "completed"
    },
    "tags": []
   },
   "outputs": [
    {
     "data": {
      "text/html": [
       "<div>\n",
       "<style scoped>\n",
       "    .dataframe tbody tr th:only-of-type {\n",
       "        vertical-align: middle;\n",
       "    }\n",
       "\n",
       "    .dataframe tbody tr th {\n",
       "        vertical-align: top;\n",
       "    }\n",
       "\n",
       "    .dataframe thead th {\n",
       "        text-align: right;\n",
       "    }\n",
       "</style>\n",
       "<table border=\"1\" class=\"dataframe\">\n",
       "  <thead>\n",
       "    <tr style=\"text-align: right;\">\n",
       "      <th></th>\n",
       "      <th>row_id</th>\n",
       "      <th>date</th>\n",
       "      <th>country</th>\n",
       "      <th>store</th>\n",
       "      <th>product</th>\n",
       "      <th>num_sold</th>\n",
       "    </tr>\n",
       "  </thead>\n",
       "  <tbody>\n",
       "    <tr>\n",
       "      <th>0</th>\n",
       "      <td>70128</td>\n",
       "      <td>2021-01-01</td>\n",
       "      <td>Belgium</td>\n",
       "      <td>KaggleMart</td>\n",
       "      <td>Kaggle Advanced Techniques</td>\n",
       "      <td>484.995885</td>\n",
       "    </tr>\n",
       "    <tr>\n",
       "      <th>1</th>\n",
       "      <td>70129</td>\n",
       "      <td>2021-01-01</td>\n",
       "      <td>Belgium</td>\n",
       "      <td>KaggleMart</td>\n",
       "      <td>Kaggle Getting Started</td>\n",
       "      <td>385.888912</td>\n",
       "    </tr>\n",
       "    <tr>\n",
       "      <th>2</th>\n",
       "      <td>70130</td>\n",
       "      <td>2021-01-01</td>\n",
       "      <td>Belgium</td>\n",
       "      <td>KaggleMart</td>\n",
       "      <td>Kaggle Recipe Book</td>\n",
       "      <td>323.502711</td>\n",
       "    </tr>\n",
       "    <tr>\n",
       "      <th>3</th>\n",
       "      <td>70131</td>\n",
       "      <td>2021-01-01</td>\n",
       "      <td>Belgium</td>\n",
       "      <td>KaggleMart</td>\n",
       "      <td>Kaggle for Kids: One Smart Goose</td>\n",
       "      <td>524.314735</td>\n",
       "    </tr>\n",
       "    <tr>\n",
       "      <th>4</th>\n",
       "      <td>70132</td>\n",
       "      <td>2021-01-01</td>\n",
       "      <td>Belgium</td>\n",
       "      <td>KaggleRama</td>\n",
       "      <td>Kaggle Advanced Techniques</td>\n",
       "      <td>171.406846</td>\n",
       "    </tr>\n",
       "    <tr>\n",
       "      <th>...</th>\n",
       "      <td>...</td>\n",
       "      <td>...</td>\n",
       "      <td>...</td>\n",
       "      <td>...</td>\n",
       "      <td>...</td>\n",
       "      <td>...</td>\n",
       "    </tr>\n",
       "    <tr>\n",
       "      <th>17515</th>\n",
       "      <td>87643</td>\n",
       "      <td>2021-12-31</td>\n",
       "      <td>Spain</td>\n",
       "      <td>KaggleMart</td>\n",
       "      <td>Kaggle for Kids: One Smart Goose</td>\n",
       "      <td>722.435091</td>\n",
       "    </tr>\n",
       "    <tr>\n",
       "      <th>17516</th>\n",
       "      <td>87644</td>\n",
       "      <td>2021-12-31</td>\n",
       "      <td>Spain</td>\n",
       "      <td>KaggleRama</td>\n",
       "      <td>Kaggle Advanced Techniques</td>\n",
       "      <td>227.911214</td>\n",
       "    </tr>\n",
       "    <tr>\n",
       "      <th>17517</th>\n",
       "      <td>87645</td>\n",
       "      <td>2021-12-31</td>\n",
       "      <td>Spain</td>\n",
       "      <td>KaggleRama</td>\n",
       "      <td>Kaggle Getting Started</td>\n",
       "      <td>180.806207</td>\n",
       "    </tr>\n",
       "    <tr>\n",
       "      <th>17518</th>\n",
       "      <td>87646</td>\n",
       "      <td>2021-12-31</td>\n",
       "      <td>Spain</td>\n",
       "      <td>KaggleRama</td>\n",
       "      <td>Kaggle Recipe Book</td>\n",
       "      <td>149.743773</td>\n",
       "    </tr>\n",
       "    <tr>\n",
       "      <th>17519</th>\n",
       "      <td>87647</td>\n",
       "      <td>2021-12-31</td>\n",
       "      <td>Spain</td>\n",
       "      <td>KaggleRama</td>\n",
       "      <td>Kaggle for Kids: One Smart Goose</td>\n",
       "      <td>246.023710</td>\n",
       "    </tr>\n",
       "  </tbody>\n",
       "</table>\n",
       "<p>17520 rows × 6 columns</p>\n",
       "</div>"
      ],
      "text/plain": [
       "       row_id       date  country       store  \\\n",
       "0       70128 2021-01-01  Belgium  KaggleMart   \n",
       "1       70129 2021-01-01  Belgium  KaggleMart   \n",
       "2       70130 2021-01-01  Belgium  KaggleMart   \n",
       "3       70131 2021-01-01  Belgium  KaggleMart   \n",
       "4       70132 2021-01-01  Belgium  KaggleRama   \n",
       "...       ...        ...      ...         ...   \n",
       "17515   87643 2021-12-31    Spain  KaggleMart   \n",
       "17516   87644 2021-12-31    Spain  KaggleRama   \n",
       "17517   87645 2021-12-31    Spain  KaggleRama   \n",
       "17518   87646 2021-12-31    Spain  KaggleRama   \n",
       "17519   87647 2021-12-31    Spain  KaggleRama   \n",
       "\n",
       "                                product    num_sold  \n",
       "0            Kaggle Advanced Techniques  484.995885  \n",
       "1                Kaggle Getting Started  385.888912  \n",
       "2                    Kaggle Recipe Book  323.502711  \n",
       "3      Kaggle for Kids: One Smart Goose  524.314735  \n",
       "4            Kaggle Advanced Techniques  171.406846  \n",
       "...                                 ...         ...  \n",
       "17515  Kaggle for Kids: One Smart Goose  722.435091  \n",
       "17516        Kaggle Advanced Techniques  227.911214  \n",
       "17517            Kaggle Getting Started  180.806207  \n",
       "17518                Kaggle Recipe Book  149.743773  \n",
       "17519  Kaggle for Kids: One Smart Goose  246.023710  \n",
       "\n",
       "[17520 rows x 6 columns]"
      ]
     },
     "execution_count": 12,
     "metadata": {},
     "output_type": "execute_result"
    }
   ],
   "source": [
    "sub = test_df.merge(yhat_df)\n",
    "sub"
   ]
  },
  {
   "cell_type": "code",
   "execution_count": 13,
   "id": "8737cae6",
   "metadata": {
    "execution": {
     "iopub.execute_input": "2022-09-24T09:21:12.382762Z",
     "iopub.status.busy": "2022-09-24T09:21:12.382323Z",
     "iopub.status.idle": "2022-09-24T09:21:12.465633Z",
     "shell.execute_reply": "2022-09-24T09:21:12.464367Z"
    },
    "papermill": {
     "duration": 0.109695,
     "end_time": "2022-09-24T09:21:12.468198",
     "exception": false,
     "start_time": "2022-09-24T09:21:12.358503",
     "status": "completed"
    },
    "tags": []
   },
   "outputs": [
    {
     "data": {
      "text/html": [
       "<div>\n",
       "<style scoped>\n",
       "    .dataframe tbody tr th:only-of-type {\n",
       "        vertical-align: middle;\n",
       "    }\n",
       "\n",
       "    .dataframe tbody tr th {\n",
       "        vertical-align: top;\n",
       "    }\n",
       "\n",
       "    .dataframe thead th {\n",
       "        text-align: right;\n",
       "    }\n",
       "</style>\n",
       "<table border=\"1\" class=\"dataframe\">\n",
       "  <thead>\n",
       "    <tr style=\"text-align: right;\">\n",
       "      <th></th>\n",
       "      <th>row_id</th>\n",
       "      <th>num_sold</th>\n",
       "    </tr>\n",
       "  </thead>\n",
       "  <tbody>\n",
       "    <tr>\n",
       "      <th>0</th>\n",
       "      <td>70128</td>\n",
       "      <td>484.995885</td>\n",
       "    </tr>\n",
       "    <tr>\n",
       "      <th>1</th>\n",
       "      <td>70129</td>\n",
       "      <td>385.888912</td>\n",
       "    </tr>\n",
       "    <tr>\n",
       "      <th>2</th>\n",
       "      <td>70130</td>\n",
       "      <td>323.502711</td>\n",
       "    </tr>\n",
       "    <tr>\n",
       "      <th>3</th>\n",
       "      <td>70131</td>\n",
       "      <td>524.314735</td>\n",
       "    </tr>\n",
       "    <tr>\n",
       "      <th>4</th>\n",
       "      <td>70132</td>\n",
       "      <td>171.406846</td>\n",
       "    </tr>\n",
       "    <tr>\n",
       "      <th>...</th>\n",
       "      <td>...</td>\n",
       "      <td>...</td>\n",
       "    </tr>\n",
       "    <tr>\n",
       "      <th>17515</th>\n",
       "      <td>87643</td>\n",
       "      <td>722.435091</td>\n",
       "    </tr>\n",
       "    <tr>\n",
       "      <th>17516</th>\n",
       "      <td>87644</td>\n",
       "      <td>227.911214</td>\n",
       "    </tr>\n",
       "    <tr>\n",
       "      <th>17517</th>\n",
       "      <td>87645</td>\n",
       "      <td>180.806207</td>\n",
       "    </tr>\n",
       "    <tr>\n",
       "      <th>17518</th>\n",
       "      <td>87646</td>\n",
       "      <td>149.743773</td>\n",
       "    </tr>\n",
       "    <tr>\n",
       "      <th>17519</th>\n",
       "      <td>87647</td>\n",
       "      <td>246.023710</td>\n",
       "    </tr>\n",
       "  </tbody>\n",
       "</table>\n",
       "<p>17520 rows × 2 columns</p>\n",
       "</div>"
      ],
      "text/plain": [
       "       row_id    num_sold\n",
       "0       70128  484.995885\n",
       "1       70129  385.888912\n",
       "2       70130  323.502711\n",
       "3       70131  524.314735\n",
       "4       70132  171.406846\n",
       "...       ...         ...\n",
       "17515   87643  722.435091\n",
       "17516   87644  227.911214\n",
       "17517   87645  180.806207\n",
       "17518   87646  149.743773\n",
       "17519   87647  246.023710\n",
       "\n",
       "[17520 rows x 2 columns]"
      ]
     },
     "execution_count": 13,
     "metadata": {},
     "output_type": "execute_result"
    }
   ],
   "source": [
    "submission_df = pd.read_csv(SUBMISSION_PATH)\n",
    "submission_df = submission_df[['row_id']].merge(sub, on='row_id')[['row_id', 'num_sold']]\n",
    "submission_df.to_csv('submission.csv', index=False)\n",
    "submission_df"
   ]
  },
  {
   "cell_type": "code",
   "execution_count": null,
   "id": "1d31a5f9",
   "metadata": {
    "papermill": {
     "duration": 0.023271,
     "end_time": "2022-09-24T09:21:12.514079",
     "exception": false,
     "start_time": "2022-09-24T09:21:12.490808",
     "status": "completed"
    },
    "tags": []
   },
   "outputs": [],
   "source": []
  }
 ],
 "metadata": {
  "kernelspec": {
   "display_name": "Python 3",
   "language": "python",
   "name": "python3"
  },
  "language_info": {
   "codemirror_mode": {
    "name": "ipython",
    "version": 3
   },
   "file_extension": ".py",
   "mimetype": "text/x-python",
   "name": "python",
   "nbconvert_exporter": "python",
   "pygments_lexer": "ipython3",
   "version": "3.7.12"
  },
  "papermill": {
   "default_parameters": {},
   "duration": 119.480162,
   "end_time": "2022-09-24T09:21:13.461401",
   "environment_variables": {},
   "exception": null,
   "input_path": "__notebook__.ipynb",
   "output_path": "__notebook__.ipynb",
   "parameters": {},
   "start_time": "2022-09-24T09:19:13.981239",
   "version": "2.3.4"
  }
 },
 "nbformat": 4,
 "nbformat_minor": 5
}
