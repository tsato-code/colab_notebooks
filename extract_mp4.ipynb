{
  "nbformat": 4,
  "nbformat_minor": 0,
  "metadata": {
    "colab": {
      "name": "extract_mp4.ipynb",
      "provenance": [],
      "collapsed_sections": [],
      "authorship_tag": "ABX9TyPusTICDomuTVnhOECclfAl",
      "include_colab_link": true
    },
    "kernelspec": {
      "name": "python3",
      "display_name": "Python 3"
    },
    "language_info": {
      "name": "python"
    }
  },
  "cells": [
    {
      "cell_type": "markdown",
      "metadata": {
        "id": "view-in-github",
        "colab_type": "text"
      },
      "source": [
        "<a href=\"https://colab.research.google.com/github/tsato-code/colab_notebooks/blob/main/extract_mp4.ipynb\" target=\"_parent\"><img src=\"https://colab.research.google.com/assets/colab-badge.svg\" alt=\"Open In Colab\"/></a>"
      ]
    },
    {
      "cell_type": "code",
      "metadata": {
        "colab": {
          "base_uri": "https://localhost:8080/"
        },
        "id": "tTnHWxl0ZyGJ",
        "outputId": "1d3d4073-2460-4a2d-909d-ceb0e02d7890"
      },
      "source": [
        "!pip install opencv-python\n",
        "!pip install opencv-contrib-python\n",
        "!pip install pytube"
      ],
      "execution_count": 1,
      "outputs": [
        {
          "output_type": "stream",
          "text": [
            "Requirement already satisfied: opencv-python in /usr/local/lib/python3.7/dist-packages (4.1.2.30)\n",
            "Requirement already satisfied: numpy>=1.14.5 in /usr/local/lib/python3.7/dist-packages (from opencv-python) (1.19.5)\n",
            "Requirement already satisfied: opencv-contrib-python in /usr/local/lib/python3.7/dist-packages (4.1.2.30)\n",
            "Requirement already satisfied: numpy>=1.14.5 in /usr/local/lib/python3.7/dist-packages (from opencv-contrib-python) (1.19.5)\n",
            "Requirement already satisfied: pytube in /usr/local/lib/python3.7/dist-packages (10.7.2)\n"
          ],
          "name": "stdout"
        }
      ]
    },
    {
      "cell_type": "code",
      "metadata": {
        "id": "mEYMRCYOZ0iN"
      },
      "source": [
        "import os\n",
        "import cv2\n",
        "import numpy as np\n",
        "from pytube import YouTube"
      ],
      "execution_count": 2,
      "outputs": []
    },
    {
      "cell_type": "code",
      "metadata": {
        "id": "ro6HEDacaLdH"
      },
      "source": [
        "data_dir = '/content/data/raw/'\n",
        "os.makedirs(data_dir, exist_ok=True)\n",
        "\n",
        "if True:\n",
        "    # hot pepper beauty\n",
        "    out = YouTube('https://www.youtube.com/watch?v=rwt3oS_mFVQ').streams.first().download()\n",
        "    os.rename(out, data_dir+'sample01.mp4')\n",
        "    # GREEN DAKARA\n",
        "    out = YouTube('https://www.youtube.com/watch?v=cShbQ2pQs94').streams.first().download()\n",
        "    os.rename(out, data_dir+'sample02.mp4')\n",
        "    # ポカリスウェット\n",
        "    out = YouTube('https://www.youtube.com/watch?v=cKM2HQLK8Pg').streams.first().download()\n",
        "    os.rename(out, data_dir+'sample03.mp4')"
      ],
      "execution_count": 3,
      "outputs": []
    },
    {
      "cell_type": "code",
      "metadata": {
        "colab": {
          "base_uri": "https://localhost:8080/"
        },
        "id": "7kXk4nljaUhU",
        "outputId": "edd3da97-77c8-4979-a1ec-ef43645211b9"
      },
      "source": [
        "for file_path in os.listdir('/content/data/raw'):\n",
        "    if '.ipynb_checkpoints' == file_path:\n",
        "        continue\n",
        "    video = cv2.VideoCapture(data_dir+file_path) # 引数がファイルパス\n",
        "    ret, frame = video.read() # 1フレーム読み込み\n",
        "    width = int(video.get(cv2.CAP_PROP_FRAME_WIDTH)) # 動画の画面横幅\n",
        "    height = int(video.get(cv2.CAP_PROP_FRAME_HEIGHT)) # 動画の画面縦幅\n",
        "    frame_count = int(video.get(cv2.CAP_PROP_FRAME_COUNT)) # 総フレーム数\n",
        "    frame_rate = int(video.get(cv2.CAP_PROP_FPS)) # フレームレート(fps)\n",
        "\n",
        "    print('='*20)\n",
        "    print('ファイル名', file_path)\n",
        "    print('読み込み', ret)\n",
        "    print('フレーム形状', frame.shape)\n",
        "    print('フレーム幅', width)\n",
        "    print('フレーム高さ', height)\n",
        "    print('総フレーム数', frame_count)\n",
        "    print('fps', frame_rate)\n",
        "    print('動画再生時間', frame_count / frame_rate)"
      ],
      "execution_count": 4,
      "outputs": [
        {
          "output_type": "stream",
          "text": [
            "====================\n",
            "ファイル名 sample01.mp4\n",
            "読み込み True\n",
            "フレーム形状 (360, 640, 3)\n",
            "フレーム幅 640\n",
            "フレーム高さ 360\n",
            "総フレーム数 720\n",
            "fps 23\n",
            "動画再生時間 31.304347826086957\n",
            "====================\n",
            "ファイル名 sample02.mp4\n",
            "読み込み True\n",
            "フレーム形状 (360, 640, 3)\n",
            "フレーム幅 640\n",
            "フレーム高さ 360\n",
            "総フレーム数 847\n",
            "fps 23\n",
            "動画再生時間 36.82608695652174\n",
            "====================\n",
            "ファイル名 sample03.mp4\n",
            "読み込み True\n",
            "フレーム形状 (360, 640, 3)\n",
            "フレーム幅 640\n",
            "フレーム高さ 360\n",
            "総フレーム数 900\n",
            "fps 29\n",
            "動画再生時間 31.03448275862069\n"
          ],
          "name": "stdout"
        }
      ]
    }
  ]
}