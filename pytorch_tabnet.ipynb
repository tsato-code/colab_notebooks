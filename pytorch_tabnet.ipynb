{
  "nbformat": 4,
  "nbformat_minor": 0,
  "metadata": {
    "colab": {
      "name": "pytorch_tabnet.ipynb",
      "provenance": [],
      "collapsed_sections": [],
      "mount_file_id": "1gH59SVny35ZBew56vWj-mo--oB39jLh8",
      "authorship_tag": "ABX9TyMv+X63R/wXO6Qdv4vaNd96",
      "include_colab_link": true
    },
    "kernelspec": {
      "name": "python3",
      "display_name": "Python 3"
    }
  },
  "cells": [
    {
      "cell_type": "markdown",
      "metadata": {
        "id": "view-in-github",
        "colab_type": "text"
      },
      "source": [
        "<a href=\"https://colab.research.google.com/github/tsato-code/colab_notebooks/blob/main/pytorch_tabnet.ipynb\" target=\"_parent\"><img src=\"https://colab.research.google.com/assets/colab-badge.svg\" alt=\"Open In Colab\"/></a>"
      ]
    },
    {
      "cell_type": "markdown",
      "metadata": {
        "id": "KCVYGie16tnA"
      },
      "source": [
        "# TabNetのチュートリアル\n",
        "\n",
        "参考にしたKaggleのNotebook [SelfSupervisedTabNet_Titanic_comparing_LGBM_NN](https://www.kaggle.com/sinchir0/selfsupervisedtabnet-titanic-comparing-lgbm-nn)"
      ]
    },
    {
      "cell_type": "markdown",
      "metadata": {
        "id": "k6FBY4LYR7Ij"
      },
      "source": [
        "## 00. 環境構築"
      ]
    },
    {
      "cell_type": "code",
      "metadata": {
        "colab": {
          "base_uri": "https://localhost:8080/"
        },
        "id": "xlOoMHWYNPje",
        "outputId": "b68a3ab1-57cb-4fe5-9e16-5f5c29ba5657"
      },
      "source": [
        "#mount your google drive\n",
        "from google.colab import drive\n",
        "drive.mount('/content/drive')"
      ],
      "execution_count": null,
      "outputs": [
        {
          "output_type": "stream",
          "text": [
            "Drive already mounted at /content/drive; to attempt to forcibly remount, call drive.mount(\"/content/drive\", force_remount=True).\n"
          ],
          "name": "stdout"
        }
      ]
    },
    {
      "cell_type": "code",
      "metadata": {
        "colab": {
          "base_uri": "https://localhost:8080/"
        },
        "id": "f5wAURIDMsei",
        "outputId": "39941ea2-1c86-4646-a923-9b3af6dcb083"
      },
      "source": [
        "%cd /content/drive/MyDrive/works/colab_notebooks/"
      ],
      "execution_count": null,
      "outputs": [
        {
          "output_type": "stream",
          "text": [
            "/content/drive/MyDrive/works/colab_notebooks\n"
          ],
          "name": "stdout"
        }
      ]
    },
    {
      "cell_type": "code",
      "metadata": {
        "colab": {
          "resources": {
            "http://localhost:8080/nbextensions/google.colab/files.js": {
              "data": "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",
              "ok": true,
              "headers": [
                [
                  "content-type",
                  "application/javascript"
                ]
              ],
              "status": 200,
              "status_text": ""
            }
          },
          "base_uri": "https://localhost:8080/",
          "height": 95
        },
        "id": "6UlDEpb4AwQc",
        "outputId": "bd611eb4-d633-45d1-fbc7-a250b89aaecd"
      },
      "source": [
        "from google.colab import files\n",
        "files.upload()"
      ],
      "execution_count": null,
      "outputs": [
        {
          "output_type": "display_data",
          "data": {
            "text/html": [
              "\n",
              "     <input type=\"file\" id=\"files-21754b63-acf3-4e9c-829a-a10fd8305d64\" name=\"files[]\" multiple disabled\n",
              "        style=\"border:none\" />\n",
              "     <output id=\"result-21754b63-acf3-4e9c-829a-a10fd8305d64\">\n",
              "      Upload widget is only available when the cell has been executed in the\n",
              "      current browser session. Please rerun this cell to enable.\n",
              "      </output>\n",
              "      <script src=\"/nbextensions/google.colab/files.js\"></script> "
            ],
            "text/plain": [
              "<IPython.core.display.HTML object>"
            ]
          },
          "metadata": {
            "tags": []
          }
        },
        {
          "output_type": "stream",
          "text": [
            "Saving kaggle.json to kaggle.json\n"
          ],
          "name": "stdout"
        },
        {
          "output_type": "execute_result",
          "data": {
            "text/plain": [
              "{'kaggle.json': b'{\"username\":\"suika1\",\"key\":\"0309058048cc063f0f33ba744a95dae2\"}'}"
            ]
          },
          "metadata": {
            "tags": []
          },
          "execution_count": 9
        }
      ]
    },
    {
      "cell_type": "code",
      "metadata": {
        "id": "IGQ4pAIWA3mL"
      },
      "source": [
        "!mkdir -p ~/.kaggle\n",
        "!cp kaggle.json ~/.kaggle"
      ],
      "execution_count": null,
      "outputs": []
    },
    {
      "cell_type": "code",
      "metadata": {
        "colab": {
          "base_uri": "https://localhost:8080/"
        },
        "id": "Zi86cw1wA62o",
        "outputId": "b228baed-e144-4e82-c879-ddcdb8e3fa89"
      },
      "source": [
        "!pip install kaggle"
      ],
      "execution_count": null,
      "outputs": [
        {
          "output_type": "stream",
          "text": [
            "Requirement already satisfied: kaggle in /usr/local/lib/python3.6/dist-packages (1.5.10)\n",
            "Requirement already satisfied: python-dateutil in /usr/local/lib/python3.6/dist-packages (from kaggle) (2.8.1)\n",
            "Requirement already satisfied: tqdm in /usr/local/lib/python3.6/dist-packages (from kaggle) (4.41.1)\n",
            "Requirement already satisfied: urllib3 in /usr/local/lib/python3.6/dist-packages (from kaggle) (1.24.3)\n",
            "Requirement already satisfied: python-slugify in /usr/local/lib/python3.6/dist-packages (from kaggle) (4.0.1)\n",
            "Requirement already satisfied: requests in /usr/local/lib/python3.6/dist-packages (from kaggle) (2.23.0)\n",
            "Requirement already satisfied: six>=1.10 in /usr/local/lib/python3.6/dist-packages (from kaggle) (1.15.0)\n",
            "Requirement already satisfied: certifi in /usr/local/lib/python3.6/dist-packages (from kaggle) (2020.12.5)\n",
            "Requirement already satisfied: text-unidecode>=1.3 in /usr/local/lib/python3.6/dist-packages (from python-slugify->kaggle) (1.3)\n",
            "Requirement already satisfied: idna<3,>=2.5 in /usr/local/lib/python3.6/dist-packages (from requests->kaggle) (2.10)\n",
            "Requirement already satisfied: chardet<4,>=3.0.2 in /usr/local/lib/python3.6/dist-packages (from requests->kaggle) (3.0.4)\n"
          ],
          "name": "stdout"
        }
      ]
    },
    {
      "cell_type": "code",
      "metadata": {
        "id": "Vn8P93t7BLD_"
      },
      "source": [
        "!chmod 600 /root/.kaggle/kaggle.json"
      ],
      "execution_count": null,
      "outputs": []
    },
    {
      "cell_type": "code",
      "metadata": {
        "colab": {
          "base_uri": "https://localhost:8080/"
        },
        "id": "T-aIKzUrDVo0",
        "outputId": "cf4bb9e5-b3c4-4419-f2a2-405fda58f20e"
      },
      "source": [
        "!mkdir -p ../data/titanic/raw\n",
        "%cd ../data/titanic/raw\n",
        "!kaggle competitions download -c titanic"
      ],
      "execution_count": null,
      "outputs": [
        {
          "output_type": "stream",
          "text": [
            "/content/drive/My Drive/works/data/titanic/raw\n",
            "Warning: Looks like you're using an outdated API Version, please consider updating (server 1.5.10 / client 1.5.4)\n",
            "Downloading test.csv to /content/drive/My Drive/works/data/titanic/raw\n",
            "  0% 0.00/28.0k [00:00<?, ?B/s]\n",
            "100% 28.0k/28.0k [00:00<00:00, 3.85MB/s]\n",
            "Downloading gender_submission.csv to /content/drive/My Drive/works/data/titanic/raw\n",
            "  0% 0.00/3.18k [00:00<?, ?B/s]\n",
            "100% 3.18k/3.18k [00:00<00:00, 443kB/s]\n",
            "Downloading train.csv to /content/drive/My Drive/works/data/titanic/raw\n",
            "  0% 0.00/59.8k [00:00<?, ?B/s]\n",
            "100% 59.8k/59.8k [00:00<00:00, 8.37MB/s]\n"
          ],
          "name": "stdout"
        }
      ]
    },
    {
      "cell_type": "code",
      "metadata": {
        "colab": {
          "base_uri": "https://localhost:8080/"
        },
        "id": "ibQhcK2yD-7M",
        "outputId": "36be0601-c17c-4a73-afe2-c091ab77e8ee"
      },
      "source": [
        "%cd ../../../colab_notebooks/"
      ],
      "execution_count": null,
      "outputs": [
        {
          "output_type": "stream",
          "text": [
            "/content/drive/My Drive/works/colab_notebooks\n"
          ],
          "name": "stdout"
        }
      ]
    },
    {
      "cell_type": "markdown",
      "metadata": {
        "id": "u4eiLhXwR6Vu"
      },
      "source": [
        "## 01. Install"
      ]
    },
    {
      "cell_type": "code",
      "metadata": {
        "colab": {
          "base_uri": "https://localhost:8080/"
        },
        "id": "6brAQ3HY6MwI",
        "outputId": "546ebbbb-8a05-4d1a-d402-50e6ff82a210"
      },
      "source": [
        "!pip install torch\n",
        "!pip install pytorch-tabnet"
      ],
      "execution_count": null,
      "outputs": [
        {
          "output_type": "stream",
          "text": [
            "Requirement already satisfied: torch in /usr/local/lib/python3.6/dist-packages (1.7.0+cu101)\n",
            "Requirement already satisfied: numpy in /usr/local/lib/python3.6/dist-packages (from torch) (1.19.4)\n",
            "Requirement already satisfied: future in /usr/local/lib/python3.6/dist-packages (from torch) (0.16.0)\n",
            "Requirement already satisfied: dataclasses in /usr/local/lib/python3.6/dist-packages (from torch) (0.8)\n",
            "Requirement already satisfied: typing-extensions in /usr/local/lib/python3.6/dist-packages (from torch) (3.7.4.3)\n",
            "Requirement already satisfied: pytorch-tabnet in /usr/local/lib/python3.6/dist-packages (3.0.0)\n",
            "Requirement already satisfied: numpy<2.0,>=1.17 in /usr/local/lib/python3.6/dist-packages (from pytorch-tabnet) (1.19.4)\n",
            "Requirement already satisfied: scikit_learn>0.21 in /usr/local/lib/python3.6/dist-packages (from pytorch-tabnet) (0.22.2.post1)\n",
            "Requirement already satisfied: torch<2.0,>=1.2 in /usr/local/lib/python3.6/dist-packages (from pytorch-tabnet) (1.7.0+cu101)\n",
            "Requirement already satisfied: tqdm<5.0,>=4.36 in /usr/local/lib/python3.6/dist-packages (from pytorch-tabnet) (4.41.1)\n",
            "Requirement already satisfied: scipy>1.4 in /usr/local/lib/python3.6/dist-packages (from pytorch-tabnet) (1.4.1)\n",
            "Requirement already satisfied: joblib>=0.11 in /usr/local/lib/python3.6/dist-packages (from scikit_learn>0.21->pytorch-tabnet) (1.0.0)\n",
            "Requirement already satisfied: dataclasses in /usr/local/lib/python3.6/dist-packages (from torch<2.0,>=1.2->pytorch-tabnet) (0.8)\n",
            "Requirement already satisfied: future in /usr/local/lib/python3.6/dist-packages (from torch<2.0,>=1.2->pytorch-tabnet) (0.16.0)\n",
            "Requirement already satisfied: typing-extensions in /usr/local/lib/python3.6/dist-packages (from torch<2.0,>=1.2->pytorch-tabnet) (3.7.4.3)\n"
          ],
          "name": "stdout"
        }
      ]
    },
    {
      "cell_type": "markdown",
      "metadata": {
        "id": "1WkHJlwvSHck"
      },
      "source": [
        "## 02. Setting"
      ]
    },
    {
      "cell_type": "code",
      "metadata": {
        "id": "ti8CRKjtxwPC"
      },
      "source": [
        "N_FOLDS = 5\n",
        "SEED = 33"
      ],
      "execution_count": null,
      "outputs": []
    },
    {
      "cell_type": "markdown",
      "metadata": {
        "id": "OKsdOgrxSKr7"
      },
      "source": [
        "## 03. Import"
      ]
    },
    {
      "cell_type": "code",
      "metadata": {
        "id": "3Wslby5J1VhS"
      },
      "source": [
        "import os, random\n",
        "\n",
        "import numpy as np\n",
        "import pandas as pd\n",
        "import matplotlib.pyplot as plt\n",
        "\n",
        "import torch\n",
        "from torch import nn\n",
        "from torch.utils.data import DataLoader, Dataset\n",
        "import torch.optim as optim\n",
        "import torch.nn.functional as F\n",
        "from torch.optim.lr_scheduler import ReduceLROnPlateau\n",
        "\n",
        "from sklearn.model_selection import StratifiedKFold\n",
        "from sklearn.metrics import roc_auc_score, accuracy_score\n",
        "\n",
        "from pytorch_tabnet.pretraining import TabNetPretrainer\n",
        "from pytorch_tabnet.tab_model import TabNetRegressor\n",
        "from pytorch_tabnet.tab_model import TabNetClassifier\n",
        "\n",
        "import lightgbm as lgb"
      ],
      "execution_count": null,
      "outputs": []
    },
    {
      "cell_type": "code",
      "metadata": {
        "id": "0UfS5rSz8Mb_"
      },
      "source": [
        "train = pd.read_csv('../data/titanic/raw/train.csv')\n",
        "test = pd.read_csv('../data/titanic/raw/test.csv')\n",
        "sub = pd.read_csv('../data/titanic/raw/gender_submission.csv')"
      ],
      "execution_count": null,
      "outputs": []
    },
    {
      "cell_type": "markdown",
      "metadata": {
        "id": "YsNsbi7BPdOq"
      },
      "source": [
        "## 04. Fix seed"
      ]
    },
    {
      "cell_type": "code",
      "metadata": {
        "id": "zFPfotu-PK-b"
      },
      "source": [
        "def seed_everything(seed_value):\n",
        "    random.seed(seed_value)\n",
        "    np.random.seed(seed_value)\n",
        "    torch.manual_seed(seed_value)\n",
        "    os.environ['PYTHONHASHSEED'] = str(seed_value)\n",
        "    \n",
        "    if torch.cuda.is_available(): \n",
        "        torch.cuda.manual_seed(seed_value)\n",
        "        torch.cuda.manual_seed_all(seed_value)\n",
        "        torch.backends.cudnn.deterministic = True\n",
        "        torch.backends.cudnn.benchmark = False\n",
        "        \n",
        "seed_everything(SEED)"
      ],
      "execution_count": null,
      "outputs": []
    },
    {
      "cell_type": "markdown",
      "metadata": {
        "id": "ohJrFYzYPgH-"
      },
      "source": [
        "## 05. Preprocess"
      ]
    },
    {
      "cell_type": "code",
      "metadata": {
        "id": "EyIscxkPPf3e"
      },
      "source": [
        "data = pd.concat([train, test], sort=False)\n",
        "\n",
        "data['Sex'] = data['Sex'].replace(['male','female'], [0, 1])\n",
        "data['Embarked'] = data['Embarked'].fillna(('S'))\n",
        "data['Embarked'] = data['Embarked'].map( {'S': 0, 'C': 1, 'Q': 2} ).astype(int)\n",
        "data['Fare'] = data['Fare'].fillna(np.mean(data['Fare']))\n",
        "data['Age'] = data['Age'].fillna(data['Age'].median())"
      ],
      "execution_count": null,
      "outputs": []
    },
    {
      "cell_type": "code",
      "metadata": {
        "id": "nrFw2bdVPPhG"
      },
      "source": [
        "del_col = ['Name', 'PassengerId','Ticket', 'Cabin']\n",
        "data.drop(del_col, axis=1, inplace=True)"
      ],
      "execution_count": null,
      "outputs": []
    },
    {
      "cell_type": "code",
      "metadata": {
        "id": "vsaTmZGyPlrh"
      },
      "source": [
        "train = data[:len(train)]\n",
        "test = data[len(train):]"
      ],
      "execution_count": null,
      "outputs": []
    },
    {
      "cell_type": "markdown",
      "metadata": {
        "id": "RxPHplNiPpPG"
      },
      "source": [
        "## 06. Freature cols"
      ]
    },
    {
      "cell_type": "code",
      "metadata": {
        "id": "12i-nvqoPnuT"
      },
      "source": [
        "feature_col = [col for col in train.columns.tolist() if col != 'Survived']"
      ],
      "execution_count": null,
      "outputs": []
    },
    {
      "cell_type": "markdown",
      "metadata": {
        "id": "YnHHesVXPxP1"
      },
      "source": [
        "## 07. Define categorical features for categorical embeddings"
      ]
    },
    {
      "cell_type": "code",
      "metadata": {
        "id": "N3KLhpoHPv_R"
      },
      "source": [
        "categorical_columns = ['Pclass','Sex','SibSp','Parch','Embarked']\n",
        "\n",
        "# class num\n",
        "categorical_dims = {}\n",
        "\n",
        "for col in categorical_columns:\n",
        "    categorical_dims[col] = train[col].nunique()"
      ],
      "execution_count": null,
      "outputs": []
    },
    {
      "cell_type": "code",
      "metadata": {
        "id": "rgH2DiORP3WI"
      },
      "source": [
        "cat_idxs = [ i for i, f in enumerate(feature_col) if f in categorical_columns]\n",
        "\n",
        "cat_dims = [ categorical_dims[f] for i, f in enumerate(feature_col) if f in categorical_columns]"
      ],
      "execution_count": null,
      "outputs": []
    },
    {
      "cell_type": "markdown",
      "metadata": {
        "id": "5XWjI0mpP6KY"
      },
      "source": [
        "## 08. TabNet pretraining"
      ]
    },
    {
      "cell_type": "code",
      "metadata": {
        "colab": {
          "base_uri": "https://localhost:8080/"
        },
        "id": "IJHefUozP5OU",
        "outputId": "239b998e-e7ff-439c-f2b8-f25525f9e315"
      },
      "source": [
        "# comment out when Unsupervised\n",
        "\n",
        "tabnet_params = dict(n_d=8, n_a=8, n_steps=3, gamma=1.3,\n",
        "                     n_independent=2, n_shared=2,\n",
        "                     seed=SEED, lambda_sparse=1e-3, \n",
        "                     optimizer_fn=torch.optim.Adam, \n",
        "                     optimizer_params=dict(lr=2e-2),\n",
        "                     mask_type=\"entmax\",\n",
        "                     scheduler_params=dict(mode=\"min\",\n",
        "                                           patience=5,\n",
        "                                           min_lr=1e-5,\n",
        "                                           factor=0.9,),\n",
        "                     scheduler_fn=torch.optim.lr_scheduler.ReduceLROnPlateau,\n",
        "                     verbose=10\n",
        "                    )\n",
        "\n",
        "pretrainer = TabNetPretrainer(**tabnet_params)\n",
        "\n",
        "pretrainer.fit(\n",
        "    X_train=train.drop('Survived',axis=1).values,\n",
        "    eval_set=[train.drop('Survived',axis=1).values],\n",
        "    max_epochs=200,\n",
        "    patience=20, batch_size=256, virtual_batch_size=128,\n",
        "    num_workers=1, drop_last=True)"
      ],
      "execution_count": null,
      "outputs": [
        {
          "output_type": "stream",
          "text": [
            "Device used : cpu\n",
            "epoch 0  | loss: 4.22323 | val_0_unsup_loss: 105.84037|  0:00:00s\n",
            "epoch 10 | loss: 1.50689 | val_0_unsup_loss: 1.75713 |  0:00:02s\n",
            "epoch 20 | loss: 0.96718 | val_0_unsup_loss: 1.23045 |  0:00:05s\n",
            "epoch 30 | loss: 0.95054 | val_0_unsup_loss: 1.13212 |  0:00:07s\n",
            "epoch 40 | loss: 0.90049 | val_0_unsup_loss: 1.11164 |  0:00:10s\n",
            "epoch 50 | loss: 0.94526 | val_0_unsup_loss: 0.97602 |  0:00:12s\n",
            "epoch 60 | loss: 0.84137 | val_0_unsup_loss: 0.98531 |  0:00:15s\n",
            "epoch 70 | loss: 0.90711 | val_0_unsup_loss: 1.02101 |  0:00:17s\n",
            "\n",
            "Early stopping occured at epoch 76 with best_epoch = 56 and best_val_0_unsup_loss = 0.95815\n",
            "Best weights from best epoch are automatically used!\n"
          ],
          "name": "stdout"
        }
      ]
    },
    {
      "cell_type": "markdown",
      "metadata": {
        "id": "j5kmRtv4QVTa"
      },
      "source": [
        "## 09. Make folds"
      ]
    },
    {
      "cell_type": "code",
      "metadata": {
        "colab": {
          "base_uri": "https://localhost:8080/"
        },
        "id": "5SPIX2NDP_1L",
        "outputId": "df4d417e-abf3-469e-86e9-4f67b08acda4"
      },
      "source": [
        "skf = StratifiedKFold(n_splits=N_FOLDS)\n",
        "for f, (t_idx, v_idx) in enumerate(skf.split(train.drop('Survived',axis=1), train['Survived'])):\n",
        "    train.loc[v_idx, 'fold'] = int(f)"
      ],
      "execution_count": null,
      "outputs": [
        {
          "output_type": "stream",
          "text": [
            "/usr/local/lib/python3.6/dist-packages/pandas/core/indexing.py:1596: SettingWithCopyWarning: \n",
            "A value is trying to be set on a copy of a slice from a DataFrame.\n",
            "Try using .loc[row_indexer,col_indexer] = value instead\n",
            "\n",
            "See the caveats in the documentation: https://pandas.pydata.org/pandas-docs/stable/user_guide/indexing.html#returning-a-view-versus-a-copy\n",
            "  self.obj[key] = _infer_fill_value(value)\n",
            "/usr/local/lib/python3.6/dist-packages/pandas/core/indexing.py:1763: SettingWithCopyWarning: \n",
            "A value is trying to be set on a copy of a slice from a DataFrame.\n",
            "Try using .loc[row_indexer,col_indexer] = value instead\n",
            "\n",
            "See the caveats in the documentation: https://pandas.pydata.org/pandas-docs/stable/user_guide/indexing.html#returning-a-view-versus-a-copy\n",
            "  isetter(loc, value)\n"
          ],
          "name": "stderr"
        }
      ]
    },
    {
      "cell_type": "markdown",
      "metadata": {
        "id": "ChXjBBGIQdl2"
      },
      "source": [
        "## 10. TabNet training"
      ]
    },
    {
      "cell_type": "code",
      "metadata": {
        "colab": {
          "base_uri": "https://localhost:8080/"
        },
        "id": "kX0xh87OQZO1",
        "outputId": "4014d5bd-6a5a-4018-9f03-8fde04eee571"
      },
      "source": [
        "%%time\n",
        "oof = np.zeros((len(train),))\n",
        "test_preds_all = np.zeros((len(test),))\n",
        "models = []\n",
        "\n",
        "for fold_num in range(N_FOLDS):\n",
        "    train_idx = train[train.fold != fold_num].index\n",
        "    valid_idx = train[train.fold == fold_num].index\n",
        "\n",
        "    print(\"FOLDS : \", fold_num)\n",
        "\n",
        "    ## model\n",
        "    X_train, y_train = train[feature_col].values[train_idx,], train['Survived'].values[train_idx,].astype(float)\n",
        "    X_valid, y_valid = train[feature_col].values[valid_idx,], train['Survived'].values[valid_idx,].astype(float)\n",
        "    \n",
        "    tabnet_params = dict(n_d=8, n_a=8, n_steps=3, gamma=1.3,\n",
        "                         n_independent=2, n_shared=2,\n",
        "                         seed=SEED, lambda_sparse=1e-3,\n",
        "                         optimizer_fn=torch.optim.Adam,\n",
        "                         optimizer_params=dict(lr=2e-2,\n",
        "                                               weight_decay=1e-5\n",
        "                                              ),\n",
        "                         mask_type=\"entmax\",\n",
        "                         scheduler_params=dict(max_lr=0.05,\n",
        "                                               steps_per_epoch=int(X_train.shape[0] / 256),\n",
        "                                               epochs=200,\n",
        "                                               is_batch_level=True\n",
        "                                              ),\n",
        "                         scheduler_fn=torch.optim.lr_scheduler.OneCycleLR,\n",
        "                         verbose=10,\n",
        "                         cat_idxs=cat_idxs, # comment out when Unsupervised\n",
        "                         cat_dims=cat_dims, # comment out when Unsupervised\n",
        "                         cat_emb_dim=1 # comment out when Unsupervised\n",
        "                        )\n",
        "\n",
        "    model = TabNetClassifier(**tabnet_params)\n",
        "\n",
        "    model.fit(X_train=X_train,\n",
        "              y_train=y_train,\n",
        "              eval_set=[(X_valid, y_valid)],\n",
        "              eval_name = [\"valid\"],\n",
        "              eval_metric = [\"auc\"],\n",
        "              max_epochs=200,\n",
        "              patience=20, batch_size=256, virtual_batch_size=128,\n",
        "              num_workers=0, drop_last=False,\n",
        "              from_unsupervised=pretrainer # comment out when Unsupervised\n",
        "             )\n",
        "    \n",
        "    # Make Oof\n",
        "    oof[valid_idx] = model.predict(X_valid)\n",
        "    # Model\n",
        "    models.append(model)\n",
        "\n",
        "    # for save weight\n",
        "    # name = f\"fold{fold_num}\"\n",
        "    # model.save_model(name)    \n",
        "\n",
        "    # preds on test\n",
        "    preds_test = model.predict(test[feature_col].values)\n",
        "    test_preds_all += preds_test / N_FOLDS"
      ],
      "execution_count": null,
      "outputs": [
        {
          "output_type": "stream",
          "text": [
            "FOLDS :  0\n",
            "Device used : cpu\n",
            "Loading weights from unsupervised pretraining\n"
          ],
          "name": "stdout"
        },
        {
          "output_type": "stream",
          "text": [
            "/usr/local/lib/python3.6/dist-packages/pytorch_tabnet/abstract_model.py:96: UserWarning: Pretraining: cat_dims changed from [3, 2, 7, 7, 3] to []\n",
            "  warnings.warn(wrn_msg)\n",
            "/usr/local/lib/python3.6/dist-packages/pytorch_tabnet/abstract_model.py:96: UserWarning: Pretraining: cat_idxs changed from [0, 1, 3, 4, 6] to []\n",
            "  warnings.warn(wrn_msg)\n"
          ],
          "name": "stderr"
        },
        {
          "output_type": "stream",
          "text": [
            "epoch 0  | loss: 1.09317 | valid_auc: 0.62754 |  0:00:00s\n",
            "epoch 10 | loss: 0.49472 | valid_auc: 0.69038 |  0:00:01s\n",
            "epoch 20 | loss: 0.41572 | valid_auc: 0.83162 |  0:00:02s\n",
            "epoch 30 | loss: 0.39798 | valid_auc: 0.85125 |  0:00:03s\n",
            "epoch 40 | loss: 0.39328 | valid_auc: 0.84223 |  0:00:04s\n",
            "\n",
            "Early stopping occured at epoch 42 with best_epoch = 22 and best_valid_auc = 0.85448\n",
            "Best weights from best epoch are automatically used!\n",
            "FOLDS :  1\n",
            "Device used : cpu\n",
            "Loading weights from unsupervised pretraining\n"
          ],
          "name": "stdout"
        },
        {
          "output_type": "stream",
          "text": [
            "/usr/local/lib/python3.6/dist-packages/pytorch_tabnet/abstract_model.py:96: UserWarning: Pretraining: cat_dims changed from [3, 2, 7, 7, 3] to []\n",
            "  warnings.warn(wrn_msg)\n",
            "/usr/local/lib/python3.6/dist-packages/pytorch_tabnet/abstract_model.py:96: UserWarning: Pretraining: cat_idxs changed from [0, 1, 3, 4, 6] to []\n",
            "  warnings.warn(wrn_msg)\n"
          ],
          "name": "stderr"
        },
        {
          "output_type": "stream",
          "text": [
            "epoch 0  | loss: 1.10349 | valid_auc: 0.51898 |  0:00:00s\n",
            "epoch 10 | loss: 0.50756 | valid_auc: 0.70053 |  0:00:01s\n",
            "epoch 20 | loss: 0.413   | valid_auc: 0.85548 |  0:00:02s\n",
            "epoch 30 | loss: 0.39831 | valid_auc: 0.82066 |  0:00:03s\n",
            "epoch 40 | loss: 0.39705 | valid_auc: 0.8389  |  0:00:04s\n",
            "epoch 50 | loss: 0.37315 | valid_auc: 0.8119  |  0:00:06s\n",
            "\n",
            "Early stopping occured at epoch 59 with best_epoch = 39 and best_valid_auc = 0.85588\n",
            "Best weights from best epoch are automatically used!\n",
            "FOLDS :  2\n",
            "Device used : cpu\n",
            "Loading weights from unsupervised pretraining\n"
          ],
          "name": "stdout"
        },
        {
          "output_type": "stream",
          "text": [
            "/usr/local/lib/python3.6/dist-packages/pytorch_tabnet/abstract_model.py:96: UserWarning: Pretraining: cat_dims changed from [3, 2, 7, 7, 3] to []\n",
            "  warnings.warn(wrn_msg)\n",
            "/usr/local/lib/python3.6/dist-packages/pytorch_tabnet/abstract_model.py:96: UserWarning: Pretraining: cat_idxs changed from [0, 1, 3, 4, 6] to []\n",
            "  warnings.warn(wrn_msg)\n"
          ],
          "name": "stderr"
        },
        {
          "output_type": "stream",
          "text": [
            "epoch 0  | loss: 1.09271 | valid_auc: 0.56344 |  0:00:00s\n",
            "epoch 10 | loss: 0.50488 | valid_auc: 0.77092 |  0:00:01s\n",
            "epoch 20 | loss: 0.42529 | valid_auc: 0.77674 |  0:00:02s\n",
            "epoch 30 | loss: 0.41979 | valid_auc: 0.8002  |  0:00:03s\n",
            "epoch 40 | loss: 0.39202 | valid_auc: 0.82948 |  0:00:04s\n",
            "epoch 50 | loss: 0.39025 | valid_auc: 0.84693 |  0:00:05s\n",
            "epoch 60 | loss: 0.38404 | valid_auc: 0.79011 |  0:00:07s\n",
            "epoch 70 | loss: 0.36552 | valid_auc: 0.81731 |  0:00:08s\n",
            "\n",
            "Early stopping occured at epoch 71 with best_epoch = 51 and best_valid_auc = 0.85027\n",
            "Best weights from best epoch are automatically used!\n",
            "FOLDS :  3\n",
            "Device used : cpu\n",
            "Loading weights from unsupervised pretraining\n"
          ],
          "name": "stdout"
        },
        {
          "output_type": "stream",
          "text": [
            "/usr/local/lib/python3.6/dist-packages/pytorch_tabnet/abstract_model.py:96: UserWarning: Pretraining: cat_dims changed from [3, 2, 7, 7, 3] to []\n",
            "  warnings.warn(wrn_msg)\n",
            "/usr/local/lib/python3.6/dist-packages/pytorch_tabnet/abstract_model.py:96: UserWarning: Pretraining: cat_idxs changed from [0, 1, 3, 4, 6] to []\n",
            "  warnings.warn(wrn_msg)\n"
          ],
          "name": "stderr"
        },
        {
          "output_type": "stream",
          "text": [
            "epoch 0  | loss: 1.11209 | valid_auc: 0.61611 |  0:00:00s\n",
            "epoch 10 | loss: 0.51187 | valid_auc: 0.799   |  0:00:01s\n",
            "epoch 20 | loss: 0.41687 | valid_auc: 0.80074 |  0:00:02s\n",
            "epoch 30 | loss: 0.40383 | valid_auc: 0.80214 |  0:00:03s\n",
            "\n",
            "Early stopping occured at epoch 31 with best_epoch = 11 and best_valid_auc = 0.83496\n",
            "Best weights from best epoch are automatically used!\n",
            "FOLDS :  4\n",
            "Device used : cpu\n",
            "Loading weights from unsupervised pretraining\n"
          ],
          "name": "stdout"
        },
        {
          "output_type": "stream",
          "text": [
            "/usr/local/lib/python3.6/dist-packages/pytorch_tabnet/abstract_model.py:96: UserWarning: Pretraining: cat_dims changed from [3, 2, 7, 7, 3] to []\n",
            "  warnings.warn(wrn_msg)\n",
            "/usr/local/lib/python3.6/dist-packages/pytorch_tabnet/abstract_model.py:96: UserWarning: Pretraining: cat_idxs changed from [0, 1, 3, 4, 6] to []\n",
            "  warnings.warn(wrn_msg)\n"
          ],
          "name": "stderr"
        },
        {
          "output_type": "stream",
          "text": [
            "epoch 0  | loss: 1.06205 | valid_auc: 0.58277 |  0:00:00s\n",
            "epoch 10 | loss: 0.52079 | valid_auc: 0.82688 |  0:00:01s\n",
            "epoch 20 | loss: 0.42273 | valid_auc: 0.82316 |  0:00:02s\n",
            "epoch 30 | loss: 0.40565 | valid_auc: 0.85866 |  0:00:03s\n",
            "epoch 40 | loss: 0.39864 | valid_auc: 0.85747 |  0:00:04s\n",
            "epoch 50 | loss: 0.40665 | valid_auc: 0.85906 |  0:00:05s\n",
            "\n",
            "Early stopping occured at epoch 57 with best_epoch = 37 and best_valid_auc = 0.89363\n",
            "Best weights from best epoch are automatically used!\n",
            "CPU times: user 31.8 s, sys: 182 ms, total: 32 s\n",
            "Wall time: 32 s\n"
          ],
          "name": "stdout"
        }
      ]
    },
    {
      "cell_type": "code",
      "metadata": {
        "colab": {
          "base_uri": "https://localhost:8080/"
        },
        "id": "gZX82otoQkRD",
        "outputId": "c2405959-de4d-41a8-d4ea-c041d6829c41"
      },
      "source": [
        "print('ROC-AUC')\n",
        "print(roc_auc_score(train['Survived'].ravel(), oof.ravel()))\n",
        "print('Accuracy')\n",
        "print(accuracy_score(train['Survived'].ravel(), (oof > 0.5).astype('int').ravel()))"
      ],
      "execution_count": null,
      "outputs": [
        {
          "output_type": "stream",
          "text": [
            "ROC-AUC\n",
            "0.790072859744991\n",
            "Accuracy\n",
            "0.8058361391694725\n"
          ],
          "name": "stdout"
        }
      ]
    },
    {
      "cell_type": "markdown",
      "metadata": {
        "id": "8BzVYKIeQvFe"
      },
      "source": [
        "## 11. Global explainability: Feature importance"
      ]
    },
    {
      "cell_type": "code",
      "metadata": {
        "colab": {
          "base_uri": "https://localhost:8080/",
          "height": 293
        },
        "id": "4SYFJjRfQpsF",
        "outputId": "0d808a23-17b5-4a8f-98d8-e11e0fec7c43"
      },
      "source": [
        "for fold_num, model in enumerate(models):\n",
        "    # Feature Importance\n",
        "    feat_imp_fold = pd.DataFrame(model.feature_importances_,index=feature_col, columns= [f'imp_{fold_num}'])\n",
        "    if fold_num == 0:\n",
        "        feature_importance = feat_imp_fold.copy()\n",
        "    else:\n",
        "        feature_importance = pd.concat([feature_importance, feat_imp_fold], axis=1)\n",
        "        \n",
        "feature_importance['imp_mean'] = feature_importance.mean(axis=1)\n",
        "feature_importance = feature_importance.sort_values('imp_mean')\n",
        "\n",
        "plt.tick_params(labelsize=18)\n",
        "plt.barh(feature_importance.index.values,feature_importance['imp_mean']);\n",
        "plt.title('feature_importance',fontsize=18);"
      ],
      "execution_count": null,
      "outputs": [
        {
          "output_type": "display_data",
          "data": {
            "image/png": "[encoded data removed]",
            "text/plain": [
              "<Figure size 432x288 with 1 Axes>"
            ]
          },
          "metadata": {
            "tags": [],
            "needs_background": "light"
          }
        }
      ]
    },
    {
      "cell_type": "markdown",
      "metadata": {
        "id": "ZPcCBivvQ5Rq"
      },
      "source": [
        "## 12. Local explainability and masks"
      ]
    },
    {
      "cell_type": "code",
      "metadata": {
        "id": "f5dK-GJLQ4Ei"
      },
      "source": [
        "explain_matrix, masks = model.explain(test[feature_col].values)"
      ],
      "execution_count": null,
      "outputs": []
    },
    {
      "cell_type": "code",
      "metadata": {
        "colab": {
          "base_uri": "https://localhost:8080/",
          "height": 444
        },
        "id": "DeEhF170Q9vv",
        "outputId": "618291f7-9636-4349-98fa-fa416cc1a410"
      },
      "source": [
        "fig, axs = plt.subplots(1, 3, figsize=(10,7))\n",
        "\n",
        "for i in range(3):\n",
        "    axs[i].imshow(masks[i][:25])\n",
        "    axs[i].set_title(f\"mask {i}\")"
      ],
      "execution_count": null,
      "outputs": [
        {
          "output_type": "display_data",
          "data": {
            "image/png": "[encoded data removed]",
            "text/plain": [
              "<Figure size 720x504 with 3 Axes>"
            ]
          },
          "metadata": {
            "tags": [],
            "needs_background": "light"
          }
        }
      ]
    },
    {
      "cell_type": "code",
      "metadata": {
        "id": "bvdffjEsQ_sp"
      },
      "source": [
        "# 0 = 'Pclass', 1 = 'Sex', 2 = 'Age',3 =  'SibSp', 4 = 'Parch', 5 = 'Fare', 6 = 'Embarked'"
      ],
      "execution_count": null,
      "outputs": []
    },
    {
      "cell_type": "code",
      "metadata": {
        "colab": {
          "base_uri": "https://localhost:8080/",
          "height": 281
        },
        "id": "ml6Ba5GzRCdI",
        "outputId": "b9f4a41e-ed95-49b4-e3d5-48699c774f92"
      },
      "source": [
        "plt.hist(test_preds_all);\n",
        "plt.xlim(0.0,1.0)\n",
        "plt.title('Output proba hist');"
      ],
      "execution_count": null,
      "outputs": [
        {
          "output_type": "display_data",
          "data": {
            "image/png": "[encoded data removed]",
            "text/plain": [
              "<Figure size 432x288 with 1 Axes>"
            ]
          },
          "metadata": {
            "tags": [],
            "needs_background": "light"
          }
        }
      ]
    },
    {
      "cell_type": "code",
      "metadata": {
        "id": "Fr7Q0bsURD5Q"
      },
      "source": [
        "sub['Survived'] = (test_preds_all > 0.5).astype('int')\n",
        "sub.to_csv(\"submission.csv\", index=False)"
      ],
      "execution_count": null,
      "outputs": []
    },
    {
      "cell_type": "markdown",
      "metadata": {
        "id": "uSmqwgoxRLNa"
      },
      "source": [
        "## 13. LightGBM"
      ]
    },
    {
      "cell_type": "code",
      "metadata": {
        "colab": {
          "base_uri": "https://localhost:8080/"
        },
        "id": "6O3fc0uqRF3V",
        "outputId": "2cc56c93-5c2f-4905-c36e-5b5fed5bf060"
      },
      "source": [
        "# change to category\n",
        "for col in categorical_columns:\n",
        "    train[col] = train[col].astype('category')\n",
        "    test[col] = test[col].astype('category')"
      ],
      "execution_count": null,
      "outputs": [
        {
          "output_type": "stream",
          "text": [
            "/usr/local/lib/python3.6/dist-packages/ipykernel_launcher.py:3: SettingWithCopyWarning: \n",
            "A value is trying to be set on a copy of a slice from a DataFrame.\n",
            "Try using .loc[row_indexer,col_indexer] = value instead\n",
            "\n",
            "See the caveats in the documentation: https://pandas.pydata.org/pandas-docs/stable/user_guide/indexing.html#returning-a-view-versus-a-copy\n",
            "  This is separate from the ipykernel package so we can avoid doing imports until\n",
            "/usr/local/lib/python3.6/dist-packages/ipykernel_launcher.py:4: SettingWithCopyWarning: \n",
            "A value is trying to be set on a copy of a slice from a DataFrame.\n",
            "Try using .loc[row_indexer,col_indexer] = value instead\n",
            "\n",
            "See the caveats in the documentation: https://pandas.pydata.org/pandas-docs/stable/user_guide/indexing.html#returning-a-view-versus-a-copy\n",
            "  after removing the cwd from sys.path.\n"
          ],
          "name": "stderr"
        }
      ]
    },
    {
      "cell_type": "code",
      "metadata": {
        "colab": {
          "base_uri": "https://localhost:8080/"
        },
        "id": "CmL5b43NRPHn",
        "outputId": "68328643-b02e-4555-e4ae-f60b5ff67620"
      },
      "source": [
        "%%time\n",
        "oof = np.zeros((len(train),))\n",
        "test_preds_all = np.zeros((len(test),))\n",
        "models = []\n",
        "\n",
        "for fold_num in range(N_FOLDS):\n",
        "    train_idx = train[train.fold != fold_num].index\n",
        "    valid_idx = train[train.fold == fold_num].index\n",
        "\n",
        "    print(\"FOLDS : \", fold_num)\n",
        "\n",
        "    ## model\n",
        "    X_train, y_train = train[feature_col].values[train_idx,], train['Survived'].values[train_idx,].astype(float)\n",
        "    X_valid, y_valid = train[feature_col].values[valid_idx,], train['Survived'].values[valid_idx,].astype(float)\n",
        "    \n",
        "    lgb_train = lgb.Dataset(X_train, y_train)\n",
        "    lgb_eval = lgb.Dataset(X_valid, y_valid, reference=lgb_train)\n",
        "\n",
        "    params = {\n",
        "        'objective': 'binary'\n",
        "    }\n",
        "\n",
        "    model = lgb.train(\n",
        "        params, lgb_train,\n",
        "        valid_sets=[lgb_train, lgb_eval],\n",
        "        verbose_eval=10,\n",
        "        num_boost_round=1000,\n",
        "        early_stopping_rounds=10\n",
        "    )\n",
        "    \n",
        "    # Calc Oof\n",
        "    oof[valid_idx] = model.predict(X_valid, num_iteration=model.best_iteration)\n",
        "    # Model\n",
        "    models.append(model)\n",
        "\n",
        "    # for save weight\n",
        "    # name = f\"fold{fold_num}\"\n",
        "    # model.save_model(name)    \n",
        "\n",
        "    # preds on test\n",
        "    test_preds_all += model.predict(test[feature_col], num_iteration=model.best_iteration) / N_FOLDS"
      ],
      "execution_count": null,
      "outputs": [
        {
          "output_type": "stream",
          "text": [
            "FOLDS :  0\n",
            "Training until validation scores don't improve for 10 rounds.\n",
            "[10]\ttraining's binary_logloss: 0.413407\tvalid_1's binary_logloss: 0.499251\n",
            "[20]\ttraining's binary_logloss: 0.342789\tvalid_1's binary_logloss: 0.466943\n",
            "[30]\ttraining's binary_logloss: 0.302868\tvalid_1's binary_logloss: 0.452358\n",
            "[40]\ttraining's binary_logloss: 0.272529\tvalid_1's binary_logloss: 0.452941\n",
            "Early stopping, best iteration is:\n",
            "[38]\ttraining's binary_logloss: 0.27758\tvalid_1's binary_logloss: 0.450995\n",
            "FOLDS :  1\n",
            "Training until validation scores don't improve for 10 rounds.\n",
            "[10]\ttraining's binary_logloss: 0.411839\tvalid_1's binary_logloss: 0.479499\n",
            "[20]\ttraining's binary_logloss: 0.333245\tvalid_1's binary_logloss: 0.464874\n",
            "Early stopping, best iteration is:\n",
            "[17]\ttraining's binary_logloss: 0.350684\tvalid_1's binary_logloss: 0.463001\n",
            "FOLDS :  2\n",
            "Training until validation scores don't improve for 10 rounds.\n",
            "[10]\ttraining's binary_logloss: 0.431464\tvalid_1's binary_logloss: 0.448133\n",
            "[20]\ttraining's binary_logloss: 0.359476\tvalid_1's binary_logloss: 0.39648\n",
            "[30]\ttraining's binary_logloss: 0.318306\tvalid_1's binary_logloss: 0.383444\n",
            "[40]\ttraining's binary_logloss: 0.28663\tvalid_1's binary_logloss: 0.377857\n",
            "Early stopping, best iteration is:\n",
            "[39]\ttraining's binary_logloss: 0.289051\tvalid_1's binary_logloss: 0.377091\n",
            "FOLDS :  3\n",
            "Training until validation scores don't improve for 10 rounds.\n",
            "[10]\ttraining's binary_logloss: 0.423574\tvalid_1's binary_logloss: 0.459058\n",
            "[20]\ttraining's binary_logloss: 0.342243\tvalid_1's binary_logloss: 0.415156\n",
            "[30]\ttraining's binary_logloss: 0.299542\tvalid_1's binary_logloss: 0.420501\n",
            "Early stopping, best iteration is:\n",
            "[23]\ttraining's binary_logloss: 0.328481\tvalid_1's binary_logloss: 0.414243\n",
            "FOLDS :  4\n",
            "Training until validation scores don't improve for 10 rounds.\n",
            "[10]\ttraining's binary_logloss: 0.432207\tvalid_1's binary_logloss: 0.431482\n",
            "[20]\ttraining's binary_logloss: 0.362329\tvalid_1's binary_logloss: 0.365437\n",
            "[30]\ttraining's binary_logloss: 0.320362\tvalid_1's binary_logloss: 0.340595\n",
            "[40]\ttraining's binary_logloss: 0.287663\tvalid_1's binary_logloss: 0.34304\n",
            "Early stopping, best iteration is:\n",
            "[32]\ttraining's binary_logloss: 0.313553\tvalid_1's binary_logloss: 0.340248\n",
            "CPU times: user 253 ms, sys: 21 ms, total: 274 ms\n",
            "Wall time: 298 ms\n"
          ],
          "name": "stdout"
        }
      ]
    },
    {
      "cell_type": "code",
      "metadata": {
        "colab": {
          "base_uri": "https://localhost:8080/"
        },
        "id": "nzJCoy_uRSq8",
        "outputId": "7eb1aed1-0a6f-4adc-d5ee-59f4ed80fcf9"
      },
      "source": [
        "print('ROC-AUC')\n",
        "print(roc_auc_score(train['Survived'].ravel(), oof.ravel()))\n",
        "print('Accuracy')\n",
        "print(accuracy_score(train['Survived'].ravel(), (oof > 0.5).astype('int').ravel()))"
      ],
      "execution_count": null,
      "outputs": [
        {
          "output_type": "stream",
          "text": [
            "ROC-AUC\n",
            "0.8750306245273171\n",
            "Accuracy\n",
            "0.8260381593714927\n"
          ],
          "name": "stdout"
        }
      ]
    },
    {
      "cell_type": "code",
      "metadata": {
        "colab": {
          "base_uri": "https://localhost:8080/",
          "height": 293
        },
        "id": "f65lxYWqRU62",
        "outputId": "115f3db8-2051-4a29-80a2-8380f23bfa60"
      },
      "source": [
        "# Feature Importance\n",
        "\n",
        "for fold_num, model in enumerate(models):\n",
        "    # Feature Importance\n",
        "    feat_imp_fold = pd.DataFrame(model.feature_importance(), index=feature_col, columns= [f'imp_{fold_num}'])\n",
        "    if fold_num == 0:\n",
        "        feature_importance = feat_imp_fold.copy()\n",
        "    else:\n",
        "        feature_importance = pd.concat([feature_importance, feat_imp_fold], axis=1)\n",
        "        \n",
        "feature_importance['imp_mean'] = feature_importance.mean(axis=1)\n",
        "feature_importance = feature_importance.sort_values('imp_mean')\n",
        "\n",
        "plt.tick_params(labelsize=18)\n",
        "plt.barh(feature_importance.index.values,feature_importance['imp_mean']);\n",
        "plt.title('feature_importance',fontsize=18);"
      ],
      "execution_count": null,
      "outputs": [
        {
          "output_type": "display_data",
          "data": {
            "image/png": "[encoded data removed]",
            "text/plain": [
              "<Figure size 432x288 with 1 Axes>"
            ]
          },
          "metadata": {
            "tags": [],
            "needs_background": "light"
          }
        }
      ]
    },
    {
      "cell_type": "code",
      "metadata": {
        "colab": {
          "base_uri": "https://localhost:8080/",
          "height": 281
        },
        "id": "_zO3LY9-RWzI",
        "outputId": "98d41365-3f28-4d2b-a9c0-4b72072cf51f"
      },
      "source": [
        "plt.hist(test_preds_all);\n",
        "plt.xlim(0.0,1.0)\n",
        "plt.title('Output proba hist');"
      ],
      "execution_count": null,
      "outputs": [
        {
          "output_type": "display_data",
          "data": {
            "image/png": "[encoded data removed]",
            "text/plain": [
              "<Figure size 432x288 with 1 Axes>"
            ]
          },
          "metadata": {
            "tags": [],
            "needs_background": "light"
          }
        }
      ]
    },
    {
      "cell_type": "code",
      "metadata": {
        "id": "J-iPKC-qRY3g"
      },
      "source": [
        "# sub['Survived'] = (test_preds_all > 0.5).astype('int')\n",
        "# sub.to_csv(\"submission.csv\", index=False)"
      ],
      "execution_count": null,
      "outputs": []
    },
    {
      "cell_type": "markdown",
      "metadata": {
        "id": "8kUV46c_RbHf"
      },
      "source": [
        "## 14. NN"
      ]
    },
    {
      "cell_type": "code",
      "metadata": {
        "id": "KNXGFdolRaXm"
      },
      "source": [
        "target_cols = ['Survived']"
      ],
      "execution_count": null,
      "outputs": []
    },
    {
      "cell_type": "code",
      "metadata": {
        "id": "P2QSMhqCRe4H"
      },
      "source": [
        "class TitanicDataset:\n",
        "    def __init__(self, features, targets):\n",
        "        self.features = features\n",
        "        self.targets = targets\n",
        "        \n",
        "    def __len__(self):\n",
        "        return (self.features.shape[0])\n",
        "    \n",
        "    def __getitem__(self, idx):\n",
        "        dct = {\n",
        "            'x' : torch.tensor(self.features[idx, :], dtype=torch.float),\n",
        "            'y' : torch.tensor(self.targets[idx], dtype=torch.float)            \n",
        "        }\n",
        "        return dct\n",
        "    \n",
        "class TestDataset:\n",
        "    def __init__(self, features):\n",
        "        self.features = features\n",
        "        \n",
        "    def __len__(self):\n",
        "        return (self.features.shape[0])\n",
        "    \n",
        "    def __getitem__(self, idx):\n",
        "        dct = {\n",
        "            'x' : torch.tensor(self.features[idx, :], dtype=torch.float)\n",
        "        }\n",
        "        return dct"
      ],
      "execution_count": null,
      "outputs": []
    },
    {
      "cell_type": "code",
      "metadata": {
        "id": "oZ6svzrbRhXs"
      },
      "source": [
        "def train_fn(model, optimizer, scheduler, loss_fn, dataloader, device):\n",
        "    model.train()\n",
        "    final_loss = 0\n",
        "    \n",
        "    for data in dataloader:\n",
        "        optimizer.zero_grad()\n",
        "        inputs, targets = data['x'].to(device), data['y'].to(device)\n",
        "        outputs = model(inputs)\n",
        "        loss = loss_fn(outputs, targets)\n",
        "        loss.backward()\n",
        "        optimizer.step()\n",
        "        scheduler.step()\n",
        "        \n",
        "        final_loss += loss.item()\n",
        "        \n",
        "    final_loss /= len(dataloader)\n",
        "    \n",
        "    return final_loss\n",
        "\n",
        "\n",
        "def valid_fn(model, loss_fn, dataloader, device):\n",
        "    model.eval()\n",
        "    final_loss = 0\n",
        "    valid_preds = []\n",
        "    \n",
        "    for data in dataloader:\n",
        "        inputs, targets = data['x'].to(device), data['y'].to(device)\n",
        "        outputs = model(inputs)\n",
        "        loss = loss_fn(outputs, targets)\n",
        "        \n",
        "        final_loss += loss.item()\n",
        "        valid_preds.append(outputs.sigmoid().detach().cpu().numpy())\n",
        "        \n",
        "    final_loss /= len(dataloader)\n",
        "    valid_preds = np.concatenate(valid_preds)\n",
        "    \n",
        "    return final_loss, valid_preds\n",
        "\n",
        "def inference_fn(model, dataloader, device):\n",
        "    model.eval()\n",
        "    preds = []\n",
        "    \n",
        "    for data in dataloader:\n",
        "        inputs = data['x'].to(device)\n",
        "\n",
        "        with torch.no_grad():\n",
        "            outputs = model(inputs)\n",
        "        \n",
        "        preds.append(outputs.sigmoid().detach().cpu().numpy())\n",
        "        \n",
        "    preds = np.concatenate(preds)\n",
        "    \n",
        "    return preds"
      ],
      "execution_count": null,
      "outputs": []
    },
    {
      "cell_type": "code",
      "metadata": {
        "id": "lClpTMaBRkC3"
      },
      "source": [
        "DEVICE = ('cuda' if torch.cuda.is_available() else 'cpu')\n",
        "EPOCHS = 25\n",
        "NFOLDS = 5\n",
        "\n",
        "BATCH_SIZE = 128\n",
        "LEARNING_RATE = 1e-3\n",
        "WEIGHT_DECAY = 1e-5\n",
        "EARLY_STOPPING_STEPS = 10\n",
        "EARLY_STOP = True\n",
        "\n",
        "num_features=len(feature_col)\n",
        "num_targets=1\n",
        "hidden_size =150"
      ],
      "execution_count": null,
      "outputs": []
    },
    {
      "cell_type": "code",
      "metadata": {
        "id": "xbvVo2-GRl2m"
      },
      "source": [
        "class Model(nn.Module):\n",
        "    def __init__(self, num_features, num_targets, hidden_size):\n",
        "        super(Model, self).__init__()\n",
        "        self.batch_norm1 = nn.BatchNorm1d(num_features)\n",
        "        self.dropout1 = nn.Dropout(0.25)\n",
        "        self.dense1 = nn.utils.weight_norm(nn.Linear(num_features, hidden_size))\n",
        "        \n",
        "        self.batch_norm2 = nn.BatchNorm1d(hidden_size)\n",
        "        self.dropout2 = nn.Dropout(0.25)\n",
        "        self.dense2 = nn.utils.weight_norm(nn.Linear(hidden_size, hidden_size))\n",
        "        \n",
        "        self.batch_norm3 = nn.BatchNorm1d(hidden_size)\n",
        "        self.dropout3 = nn.Dropout(0.25)\n",
        "        self.dense3 = nn.utils.weight_norm(nn.Linear(hidden_size, num_targets))\n",
        "    \n",
        "    def forward(self, x):\n",
        "        x = self.batch_norm1(x)\n",
        "        x = self.dropout1(x)\n",
        "        x = F.relu(self.dense1(x))\n",
        "        \n",
        "        x = self.batch_norm2(x)\n",
        "        x = self.dropout2(x)\n",
        "        x = F.relu(self.dense2(x))\n",
        "        \n",
        "        x = self.batch_norm3(x)\n",
        "        x = self.dropout3(x)\n",
        "        x = self.dense3(x)\n",
        "        \n",
        "        return x"
      ],
      "execution_count": null,
      "outputs": []
    },
    {
      "cell_type": "code",
      "metadata": {
        "id": "YLQjndf7Rnzh"
      },
      "source": [
        "def run_training(fold_num, seed, train, test, target_cols):\n",
        "    \n",
        "    seed_everything(seed)\n",
        "    \n",
        "    print(\"FOLDS : \", fold_num)\n",
        "    \n",
        "    train_idx = train[train.fold != fold_num].index\n",
        "    valid_idx = train[train.fold == fold_num].index\n",
        "\n",
        "    ## model\n",
        "    X_train, y_train = train[feature_col].values[train_idx,], train[['Survived']].values[train_idx,].astype(float)\n",
        "    X_valid, y_valid = train[feature_col].values[valid_idx,], train[['Survived']].values[valid_idx,].astype(float)\n",
        "    \n",
        "    train_dataset = TitanicDataset(X_train, y_train)\n",
        "    valid_dataset = TitanicDataset(X_valid, y_valid)\n",
        "    trainloader = torch.utils.data.DataLoader(train_dataset, batch_size=BATCH_SIZE, shuffle=True)\n",
        "    validloader = torch.utils.data.DataLoader(valid_dataset, batch_size=BATCH_SIZE, shuffle=False)\n",
        "    \n",
        "    model = Model(\n",
        "        num_features=num_features,\n",
        "        num_targets=num_targets,\n",
        "        hidden_size=hidden_size\n",
        "    )\n",
        "    \n",
        "    model.to(DEVICE)\n",
        "    \n",
        "    optimizer = torch.optim.Adam(model.parameters(), lr=LEARNING_RATE, weight_decay=WEIGHT_DECAY)        \n",
        "    scheduler = optim.lr_scheduler.OneCycleLR(optimizer=optimizer, pct_start=0.1, div_factor=1e3, \n",
        "                                          max_lr=1e-2, epochs=EPOCHS, steps_per_epoch=len(trainloader))\n",
        "    \n",
        "    loss_fn = nn.BCEWithLogitsLoss()\n",
        "    loss_tr = nn.BCEWithLogitsLoss()\n",
        "    \n",
        "    early_stopping_steps = EARLY_STOPPING_STEPS\n",
        "    early_step = 0\n",
        "   \n",
        "    oof = np.zeros((len(train), num_targets))\n",
        "    predictions = np.zeros((len(test), num_targets))\n",
        "    \n",
        "    best_loss = np.inf\n",
        "    \n",
        "    for epoch in range(EPOCHS):\n",
        "        \n",
        "        train_loss = train_fn(model, optimizer,scheduler, loss_tr, trainloader, DEVICE)\n",
        "        valid_loss, valid_preds = valid_fn(model, loss_fn, validloader, DEVICE)\n",
        "        print(f\"seed{seed}, FOLD: {fold_num}, EPOCH: {epoch}, train_loss: {train_loss}, valid_loss: {valid_loss}\")\n",
        "        \n",
        "        if valid_loss < best_loss:\n",
        "            print('Update best loss')\n",
        "            best_loss = valid_loss\n",
        "            oof[valid_idx] = valid_preds\n",
        "            torch.save(model.state_dict(), f\"FOLD{fold_num}_seed{seed}_.pth\")\n",
        "        \n",
        "        elif(EARLY_STOP == True):\n",
        "            early_step += 1\n",
        "            if (early_step >= early_stopping_steps):\n",
        "                print(f'Early Stop epoch{epoch} early_step{early_step}')\n",
        "                break\n",
        "            \n",
        "    \n",
        "    #--------------------- PREDICTION---------------------\n",
        "    x_test = test[feature_col].values\n",
        "    testdataset = TestDataset(x_test)\n",
        "    testloader = torch.utils.data.DataLoader(testdataset, batch_size=BATCH_SIZE, shuffle=False)\n",
        "\n",
        "    model = Model(\n",
        "        num_features=num_features,\n",
        "        num_targets=num_targets,\n",
        "        hidden_size=hidden_size,\n",
        "\n",
        "    )\n",
        "\n",
        "    model.load_state_dict(torch.load(f\"FOLD{fold_num}_seed{seed}_.pth\"))\n",
        "    model.to(DEVICE)\n",
        "\n",
        "    predictions = inference_fn(model, testloader, DEVICE)\n",
        "    \n",
        "    return oof, predictions"
      ],
      "execution_count": null,
      "outputs": []
    },
    {
      "cell_type": "code",
      "metadata": {
        "id": "5TaILYolRqCO"
      },
      "source": [
        "def run_k_fold(NFOLDS, seed):\n",
        "    oof = np.zeros((len(train), len(target_cols)))\n",
        "    predictions = np.zeros((len(test), len(target_cols)))\n",
        "\n",
        "    for fold_num in range(NFOLDS):\n",
        "        oof_, pred_ = run_training(fold_num, seed, train, test, target_cols)\n",
        "\n",
        "        predictions += pred_ / NFOLDS\n",
        "        oof += oof_\n",
        "        \n",
        "    return oof, predictions"
      ],
      "execution_count": null,
      "outputs": []
    },
    {
      "cell_type": "code",
      "metadata": {
        "colab": {
          "base_uri": "https://localhost:8080/"
        },
        "id": "ZcOXJxMxRrmj",
        "outputId": "937e2787-fa8b-4a58-ef64-21ea7b80e80e"
      },
      "source": [
        "%%time\n",
        "SEED = [33]\n",
        "oof = np.zeros((len(train), len(target_cols)))\n",
        "predictions = np.zeros((len(test), len(target_cols)))\n",
        "\n",
        "print(\"######################## Training ############################\")\n",
        "for seed in SEED:\n",
        "    oof_, predictions_ = run_k_fold(NFOLDS, seed)\n",
        "    oof += oof_ / len(SEED)\n",
        "    predictions += predictions_ / len(SEED)"
      ],
      "execution_count": null,
      "outputs": [
        {
          "output_type": "stream",
          "text": [
            "######################## Training ############################\n",
            "FOLDS :  0\n",
            "seed33, FOLD: 0, EPOCH: 0, train_loss: 0.7023162345091502, valid_loss: 0.6454835832118988\n",
            "Update best loss\n",
            "seed33, FOLD: 0, EPOCH: 1, train_loss: 0.529826154311498, valid_loss: 0.5778319835662842\n",
            "Update best loss\n",
            "seed33, FOLD: 0, EPOCH: 2, train_loss: 0.5730529725551605, valid_loss: 0.5215478986501694\n",
            "Update best loss\n",
            "seed33, FOLD: 0, EPOCH: 3, train_loss: 0.4841535836458206, valid_loss: 0.45016705989837646\n",
            "Update best loss\n",
            "seed33, FOLD: 0, EPOCH: 4, train_loss: 0.5152178953091303, valid_loss: 0.47253502905368805\n",
            "seed33, FOLD: 0, EPOCH: 5, train_loss: 0.49520688752333325, valid_loss: 0.44771456718444824\n",
            "Update best loss\n",
            "seed33, FOLD: 0, EPOCH: 6, train_loss: 0.4765167087316513, valid_loss: 0.4593144804239273\n",
            "seed33, FOLD: 0, EPOCH: 7, train_loss: 0.49099599321683246, valid_loss: 0.4489288181066513\n",
            "seed33, FOLD: 0, EPOCH: 8, train_loss: 0.48385824263095856, valid_loss: 0.44169244170188904\n",
            "Update best loss\n",
            "seed33, FOLD: 0, EPOCH: 9, train_loss: 0.4717719455560048, valid_loss: 0.46594496071338654\n",
            "seed33, FOLD: 0, EPOCH: 10, train_loss: 0.4614622841278712, valid_loss: 0.43726690113544464\n",
            "Update best loss\n",
            "seed33, FOLD: 0, EPOCH: 11, train_loss: 0.4679505228996277, valid_loss: 0.43230850994586945\n",
            "Update best loss\n",
            "seed33, FOLD: 0, EPOCH: 12, train_loss: 0.46880031128724414, valid_loss: 0.43883077800273895\n",
            "seed33, FOLD: 0, EPOCH: 13, train_loss: 0.45167429745197296, valid_loss: 0.4319639056921005\n",
            "Update best loss\n",
            "seed33, FOLD: 0, EPOCH: 14, train_loss: 0.48842598497867584, valid_loss: 0.4282722622156143\n",
            "Update best loss\n",
            "seed33, FOLD: 0, EPOCH: 15, train_loss: 0.44444969296455383, valid_loss: 0.4290851056575775\n",
            "seed33, FOLD: 0, EPOCH: 16, train_loss: 0.46922671298185986, valid_loss: 0.4317138195037842\n",
            "seed33, FOLD: 0, EPOCH: 17, train_loss: 0.47013812760512036, valid_loss: 0.43064212799072266\n",
            "seed33, FOLD: 0, EPOCH: 18, train_loss: 0.4364204903443654, valid_loss: 0.4296056479215622\n",
            "seed33, FOLD: 0, EPOCH: 19, train_loss: 0.46065885821978253, valid_loss: 0.4295998513698578\n",
            "Early Stop epoch19 early_step10\n",
            "FOLDS :  1\n",
            "seed33, FOLD: 1, EPOCH: 0, train_loss: 0.6890522539615631, valid_loss: 0.6176857054233551\n",
            "Update best loss\n",
            "seed33, FOLD: 1, EPOCH: 1, train_loss: 0.5304927428563436, valid_loss: 0.5154601186513901\n",
            "Update best loss\n",
            "seed33, FOLD: 1, EPOCH: 2, train_loss: 0.5154813776413599, valid_loss: 0.4924434870481491\n",
            "Update best loss\n",
            "seed33, FOLD: 1, EPOCH: 3, train_loss: 0.5169822623332342, valid_loss: 0.45685142278671265\n",
            "Update best loss\n",
            "seed33, FOLD: 1, EPOCH: 4, train_loss: 0.46194473405679065, valid_loss: 0.4376147538423538\n",
            "Update best loss\n",
            "seed33, FOLD: 1, EPOCH: 5, train_loss: 0.48296408355236053, valid_loss: 0.43515948951244354\n",
            "Update best loss\n",
            "seed33, FOLD: 1, EPOCH: 6, train_loss: 0.4957260737816493, valid_loss: 0.43201956152915955\n",
            "Update best loss\n",
            "seed33, FOLD: 1, EPOCH: 7, train_loss: 0.4614766736825307, valid_loss: 0.4222458004951477\n",
            "Update best loss\n",
            "seed33, FOLD: 1, EPOCH: 8, train_loss: 0.48490765194098157, valid_loss: 0.41831275820732117\n",
            "Update best loss\n",
            "seed33, FOLD: 1, EPOCH: 9, train_loss: 0.46470142404238385, valid_loss: 0.4340643435716629\n",
            "seed33, FOLD: 1, EPOCH: 10, train_loss: 0.46720007558663684, valid_loss: 0.43732286989688873\n",
            "seed33, FOLD: 1, EPOCH: 11, train_loss: 0.46289555231730145, valid_loss: 0.430982306599617\n",
            "seed33, FOLD: 1, EPOCH: 12, train_loss: 0.46081339319547016, valid_loss: 0.4327332526445389\n",
            "seed33, FOLD: 1, EPOCH: 13, train_loss: 0.447118620077769, valid_loss: 0.42236532270908356\n",
            "seed33, FOLD: 1, EPOCH: 14, train_loss: 0.44640689094861347, valid_loss: 0.41521331667900085\n",
            "Update best loss\n",
            "seed33, FOLD: 1, EPOCH: 15, train_loss: 0.44012056291103363, valid_loss: 0.42013855278491974\n",
            "seed33, FOLD: 1, EPOCH: 16, train_loss: 0.4688205122947693, valid_loss: 0.42885224521160126\n",
            "seed33, FOLD: 1, EPOCH: 17, train_loss: 0.4596000115076701, valid_loss: 0.4309900104999542\n",
            "seed33, FOLD: 1, EPOCH: 18, train_loss: 0.46243780354658764, valid_loss: 0.4346456229686737\n",
            "seed33, FOLD: 1, EPOCH: 19, train_loss: 0.44376419981320697, valid_loss: 0.4354190528392792\n",
            "Early Stop epoch19 early_step10\n",
            "FOLDS :  2\n",
            "seed33, FOLD: 2, EPOCH: 0, train_loss: 0.6944460471471151, valid_loss: 0.6410660445690155\n",
            "Update best loss\n",
            "seed33, FOLD: 2, EPOCH: 1, train_loss: 0.5493018527825674, valid_loss: 0.5301609933376312\n",
            "Update best loss\n",
            "seed33, FOLD: 2, EPOCH: 2, train_loss: 0.5076448222001394, valid_loss: 0.5208264291286469\n",
            "Update best loss\n",
            "seed33, FOLD: 2, EPOCH: 3, train_loss: 0.5036722620328268, valid_loss: 0.4733971357345581\n",
            "Update best loss\n",
            "seed33, FOLD: 2, EPOCH: 4, train_loss: 0.4818802773952484, valid_loss: 0.4462987631559372\n",
            "Update best loss\n",
            "seed33, FOLD: 2, EPOCH: 5, train_loss: 0.5045230686664581, valid_loss: 0.44628100097179413\n",
            "Update best loss\n",
            "seed33, FOLD: 2, EPOCH: 6, train_loss: 0.49386703471342724, valid_loss: 0.4457109868526459\n",
            "Update best loss\n",
            "seed33, FOLD: 2, EPOCH: 7, train_loss: 0.4761124551296234, valid_loss: 0.4481079429388046\n",
            "seed33, FOLD: 2, EPOCH: 8, train_loss: 0.47903065880139667, valid_loss: 0.44136878848075867\n",
            "Update best loss\n",
            "seed33, FOLD: 2, EPOCH: 9, train_loss: 0.48118043939272565, valid_loss: 0.43873292207717896\n",
            "Update best loss\n",
            "seed33, FOLD: 2, EPOCH: 10, train_loss: 0.5023148506879807, valid_loss: 0.44621551036834717\n",
            "seed33, FOLD: 2, EPOCH: 11, train_loss: 0.4667537212371826, valid_loss: 0.44704195857048035\n",
            "seed33, FOLD: 2, EPOCH: 12, train_loss: 0.4692966689666112, valid_loss: 0.4455297440290451\n",
            "seed33, FOLD: 2, EPOCH: 13, train_loss: 0.449724684158961, valid_loss: 0.4419248104095459\n",
            "seed33, FOLD: 2, EPOCH: 14, train_loss: 0.46291300157705945, valid_loss: 0.4399779736995697\n",
            "seed33, FOLD: 2, EPOCH: 15, train_loss: 0.46315384407838184, valid_loss: 0.4364119917154312\n",
            "Update best loss\n",
            "seed33, FOLD: 2, EPOCH: 16, train_loss: 0.4964621464411418, valid_loss: 0.43527282774448395\n",
            "Update best loss\n",
            "seed33, FOLD: 2, EPOCH: 17, train_loss: 0.4724873701731364, valid_loss: 0.434087872505188\n",
            "Update best loss\n",
            "seed33, FOLD: 2, EPOCH: 18, train_loss: 0.4818376849095027, valid_loss: 0.43305830657482147\n",
            "Update best loss\n",
            "seed33, FOLD: 2, EPOCH: 19, train_loss: 0.46160849928855896, valid_loss: 0.43322233855724335\n",
            "seed33, FOLD: 2, EPOCH: 20, train_loss: 0.47170918186505634, valid_loss: 0.43169544637203217\n",
            "Update best loss\n",
            "seed33, FOLD: 2, EPOCH: 21, train_loss: 0.4668233046929042, valid_loss: 0.43012626469135284\n",
            "Update best loss\n",
            "seed33, FOLD: 2, EPOCH: 22, train_loss: 0.47768906752268475, valid_loss: 0.42996662855148315\n",
            "Update best loss\n",
            "seed33, FOLD: 2, EPOCH: 23, train_loss: 0.46505885819594067, valid_loss: 0.4310358315706253\n",
            "seed33, FOLD: 2, EPOCH: 24, train_loss: 0.46817829211552936, valid_loss: 0.43008187413215637\n",
            "FOLDS :  3\n",
            "seed33, FOLD: 3, EPOCH: 0, train_loss: 0.6942206819852194, valid_loss: 0.6388961970806122\n",
            "Update best loss\n",
            "seed33, FOLD: 3, EPOCH: 1, train_loss: 0.5658425390720367, valid_loss: 0.47360265254974365\n",
            "Update best loss\n",
            "seed33, FOLD: 3, EPOCH: 2, train_loss: 0.5194869240125021, valid_loss: 0.528945803642273\n",
            "seed33, FOLD: 3, EPOCH: 3, train_loss: 0.5081381797790527, valid_loss: 0.45649944245815277\n",
            "Update best loss\n",
            "seed33, FOLD: 3, EPOCH: 4, train_loss: 0.48119673629601795, valid_loss: 0.4352576434612274\n",
            "Update best loss\n",
            "seed33, FOLD: 3, EPOCH: 5, train_loss: 0.4724477181831996, valid_loss: 0.4572460502386093\n",
            "seed33, FOLD: 3, EPOCH: 6, train_loss: 0.49225257833798725, valid_loss: 0.4484975337982178\n",
            "seed33, FOLD: 3, EPOCH: 7, train_loss: 0.4891910453637441, valid_loss: 0.4338794946670532\n",
            "Update best loss\n",
            "seed33, FOLD: 3, EPOCH: 8, train_loss: 0.48648391167322796, valid_loss: 0.43557290732860565\n",
            "seed33, FOLD: 3, EPOCH: 9, train_loss: 0.48007427155971527, valid_loss: 0.4471270591020584\n",
            "seed33, FOLD: 3, EPOCH: 10, train_loss: 0.48965803782145184, valid_loss: 0.45834778249263763\n",
            "seed33, FOLD: 3, EPOCH: 11, train_loss: 0.4663243144750595, valid_loss: 0.44227108359336853\n",
            "seed33, FOLD: 3, EPOCH: 12, train_loss: 0.47626230617364246, valid_loss: 0.43485209345817566\n",
            "seed33, FOLD: 3, EPOCH: 13, train_loss: 0.4387945383787155, valid_loss: 0.4419545531272888\n",
            "seed33, FOLD: 3, EPOCH: 14, train_loss: 0.4840599596500397, valid_loss: 0.449591264128685\n",
            "Early Stop epoch14 early_step10\n",
            "FOLDS :  4\n",
            "seed33, FOLD: 4, EPOCH: 0, train_loss: 0.6994796991348267, valid_loss: 0.6231309473514557\n",
            "Update best loss\n",
            "seed33, FOLD: 4, EPOCH: 1, train_loss: 0.5766010681788126, valid_loss: 0.4579494595527649\n",
            "Update best loss\n",
            "seed33, FOLD: 4, EPOCH: 2, train_loss: 0.5495148499806722, valid_loss: 0.48358382284641266\n",
            "seed33, FOLD: 4, EPOCH: 3, train_loss: 0.5377612262964249, valid_loss: 0.41175703704357147\n",
            "Update best loss\n",
            "seed33, FOLD: 4, EPOCH: 4, train_loss: 0.5005016674598058, valid_loss: 0.36975710093975067\n",
            "Update best loss\n",
            "seed33, FOLD: 4, EPOCH: 5, train_loss: 0.5089628398418427, valid_loss: 0.37176649272441864\n",
            "seed33, FOLD: 4, EPOCH: 6, train_loss: 0.489324688911438, valid_loss: 0.3786740303039551\n",
            "seed33, FOLD: 4, EPOCH: 7, train_loss: 0.4863359034061432, valid_loss: 0.3637722432613373\n",
            "Update best loss\n",
            "seed33, FOLD: 4, EPOCH: 8, train_loss: 0.4997854183117549, valid_loss: 0.36677996814250946\n",
            "seed33, FOLD: 4, EPOCH: 9, train_loss: 0.5062433828910192, valid_loss: 0.36891867220401764\n",
            "seed33, FOLD: 4, EPOCH: 10, train_loss: 0.485576589902242, valid_loss: 0.3762977123260498\n",
            "seed33, FOLD: 4, EPOCH: 11, train_loss: 0.4777717739343643, valid_loss: 0.3626386523246765\n",
            "Update best loss\n",
            "seed33, FOLD: 4, EPOCH: 12, train_loss: 0.48461492359638214, valid_loss: 0.3551134616136551\n",
            "Update best loss\n",
            "seed33, FOLD: 4, EPOCH: 13, train_loss: 0.4620244900385539, valid_loss: 0.3492182344198227\n",
            "Update best loss\n",
            "seed33, FOLD: 4, EPOCH: 14, train_loss: 0.4833379288514455, valid_loss: 0.3454257696866989\n",
            "Update best loss\n",
            "seed33, FOLD: 4, EPOCH: 15, train_loss: 0.4744505484898885, valid_loss: 0.34766441583633423\n",
            "seed33, FOLD: 4, EPOCH: 16, train_loss: 0.4934303859869639, valid_loss: 0.3506386876106262\n",
            "seed33, FOLD: 4, EPOCH: 17, train_loss: 0.4756796360015869, valid_loss: 0.3491799086332321\n",
            "seed33, FOLD: 4, EPOCH: 18, train_loss: 0.4886540373166402, valid_loss: 0.3482569307088852\n",
            "Early Stop epoch18 early_step10\n",
            "CPU times: user 6.41 s, sys: 67 ms, total: 6.47 s\n",
            "Wall time: 6.76 s\n"
          ],
          "name": "stdout"
        }
      ]
    },
    {
      "cell_type": "code",
      "metadata": {
        "colab": {
          "base_uri": "https://localhost:8080/"
        },
        "id": "94thu4YjRtYd",
        "outputId": "30509ee1-26bf-4f4c-d665-7c8fd106ac9c"
      },
      "source": [
        "print('ROC-AUC')\n",
        "print(roc_auc_score(train['Survived'].ravel(), oof.ravel()))\n",
        "print('Accuracy')\n",
        "print(accuracy_score(train['Survived'].ravel(), (oof > 0.5).astype('int').ravel()))"
      ],
      "execution_count": null,
      "outputs": [
        {
          "output_type": "stream",
          "text": [
            "ROC-AUC\n",
            "0.8643732890209738\n",
            "Accuracy\n",
            "0.8249158249158249\n"
          ],
          "name": "stdout"
        }
      ]
    },
    {
      "cell_type": "code",
      "metadata": {
        "colab": {
          "base_uri": "https://localhost:8080/",
          "height": 281
        },
        "id": "FhihfXeRRv70",
        "outputId": "0fbac71e-75ad-4e33-e189-e145a77f896f"
      },
      "source": [
        "plt.hist(predictions);\n",
        "plt.xlim(0.0,1.0)\n",
        "plt.title('Output proba hist');"
      ],
      "execution_count": null,
      "outputs": [
        {
          "output_type": "display_data",
          "data": {
            "image/png": "[encoded data removed]",
            "text/plain": [
              "<Figure size 432x288 with 1 Axes>"
            ]
          },
          "metadata": {
            "tags": [],
            "needs_background": "light"
          }
        }
      ]
    },
    {
      "cell_type": "code",
      "metadata": {
        "id": "uAHZzJgbRx8C"
      },
      "source": [
        "# sub['Survived'] = (predictions > 0.5).astype('int')\n",
        "# sub.to_csv(\"submission.csv\", index=False)"
      ],
      "execution_count": null,
      "outputs": []
    }
  ]
}