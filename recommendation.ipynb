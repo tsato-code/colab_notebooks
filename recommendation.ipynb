{
  "nbformat": 4,
  "nbformat_minor": 0,
  "metadata": {
    "colab": {
      "name": "recommendation.ipynb",
      "provenance": [],
      "collapsed_sections": [],
      "authorship_tag": "ABX9TyNiaRSa5oEsLO2/dUkFzFP2",
      "include_colab_link": true
    },
    "kernelspec": {
      "name": "python3",
      "display_name": "Python 3"
    }
  },
  "cells": [
    {
      "cell_type": "markdown",
      "metadata": {
        "id": "view-in-github",
        "colab_type": "text"
      },
      "source": [
        "<a href=\"https://colab.research.google.com/github/tsato-code/colab_notebooks/blob/main/recommendation.ipynb\" target=\"_parent\"><img src=\"https://colab.research.google.com/assets/colab-badge.svg\" alt=\"Open In Colab\"/></a>"
      ]
    },
    {
      "cell_type": "code",
      "metadata": {
        "id": "xKThqvch0o_b"
      },
      "source": [
        "import os\n",
        "import numpy as np\n",
        "import pandas as pd\n",
        "from scipy.spatial.distance import correlation\n",
        "from scipy.spatial.distance import cosine\n",
        "from scipy.spatial.distance import jaccard"
      ],
      "execution_count": 29,
      "outputs": []
    },
    {
      "cell_type": "code",
      "metadata": {
        "colab": {
          "base_uri": "https://localhost:8080/"
        },
        "id": "mXFiIWQG6sH3",
        "outputId": "4725f217-07c7-414a-ef9a-93cf97c0dee0"
      },
      "source": [
        "u = np.array([1, 2, 3])\n",
        "v = np.array([-1, -2, -3])"
      ],
      "execution_count": 3,
      "outputs": [
        {
          "output_type": "execute_result",
          "data": {
            "text/plain": [
              "-1.0"
            ]
          },
          "metadata": {
            "tags": []
          },
          "execution_count": 3
        }
      ]
    },
    {
      "cell_type": "code",
      "metadata": {
        "colab": {
          "base_uri": "https://localhost:8080/"
        },
        "id": "KC6IiANg7AK-",
        "outputId": "3651c9d8-21a5-4b4a-f1f9-8331ac5450af"
      },
      "source": [
        "print(1 - correlation(u, v))  # ピアソンの相関係数による類以度\n",
        "print(1 - cosine(u, v))  # cosine類以度\n",
        "print(1 - jaccard(u, v))  # Jaccard係数による類以度"
      ],
      "execution_count": 9,
      "outputs": [
        {
          "output_type": "stream",
          "text": [
            "-1.0\n",
            "-1.0\n",
            "0.0\n"
          ],
          "name": "stdout"
        }
      ]
    },
    {
      "cell_type": "code",
      "metadata": {
        "colab": {
          "base_uri": "https://localhost:8080/"
        },
        "id": "pU6NtEUt_zFY",
        "outputId": "deb3a0ca-2994-41bb-f856-72ef903da05e"
      },
      "source": [
        "from google.colab import drive\n",
        "drive.mount('/content/drive')"
      ],
      "execution_count": 18,
      "outputs": [
        {
          "output_type": "stream",
          "text": [
            "Mounted at /content/drive\n"
          ],
          "name": "stdout"
        }
      ]
    },
    {
      "cell_type": "code",
      "metadata": {
        "colab": {
          "base_uri": "https://localhost:8080/"
        },
        "id": "gq4Ea8R1-5jV",
        "outputId": "bf93e005-56f5-451a-8e40-578984aa49f7"
      },
      "source": [
        "%cd /content/drive/MyDrive/works/colab_notebooks/"
      ],
      "execution_count": 22,
      "outputs": [
        {
          "output_type": "stream",
          "text": [
            "/content/drive/MyDrive/works/colab_notebooks\n"
          ],
          "name": "stdout"
        }
      ]
    },
    {
      "cell_type": "code",
      "metadata": {
        "colab": {
          "base_uri": "https://localhost:8080/"
        },
        "id": "Xku5z-v67i8i",
        "outputId": "24d14bb9-d217-4af3-8250-2e6d3e98acb3"
      },
      "source": [
        "!wget http://files.grouplens.org/papers/ml-100k.zip\n",
        "!unzip ml-100k.zip"
      ],
      "execution_count": 23,
      "outputs": [
        {
          "output_type": "stream",
          "text": [
            "--2021-01-19 14:17:13--  http://files.grouplens.org/papers/ml-100k.zip\n",
            "Resolving files.grouplens.org (files.grouplens.org)... 128.101.65.152\n",
            "Connecting to files.grouplens.org (files.grouplens.org)|128.101.65.152|:80... connected.\n",
            "HTTP request sent, awaiting response... 200 OK\n",
            "Length: 4924029 (4.7M) [application/zip]\n",
            "Saving to: ‘ml-100k.zip’\n",
            "\n",
            "ml-100k.zip         100%[===================>]   4.70M  12.2MB/s    in 0.4s    \n",
            "\n",
            "2021-01-19 14:17:14 (12.2 MB/s) - ‘ml-100k.zip’ saved [4924029/4924029]\n",
            "\n",
            "Archive:  ml-100k.zip\n",
            "   creating: ml-100k/\n",
            "  inflating: ml-100k/allbut.pl       \n",
            "  inflating: ml-100k/mku.sh          \n",
            "  inflating: ml-100k/README          \n",
            "  inflating: ml-100k/u.data          \n",
            "  inflating: ml-100k/u.genre         \n",
            "  inflating: ml-100k/u.info          \n",
            "  inflating: ml-100k/u.item          \n",
            "  inflating: ml-100k/u.occupation    \n",
            "  inflating: ml-100k/u.user          \n",
            "  inflating: ml-100k/u1.base         \n",
            "  inflating: ml-100k/u1.test         \n",
            "  inflating: ml-100k/u2.base         \n",
            "  inflating: ml-100k/u2.test         \n",
            "  inflating: ml-100k/u3.base         \n",
            "  inflating: ml-100k/u3.test         \n",
            "  inflating: ml-100k/u4.base         \n",
            "  inflating: ml-100k/u4.test         \n",
            "  inflating: ml-100k/u5.base         \n",
            "  inflating: ml-100k/u5.test         \n",
            "  inflating: ml-100k/ua.base         \n",
            "  inflating: ml-100k/ua.test         \n",
            "  inflating: ml-100k/ub.base         \n",
            "  inflating: ml-100k/ub.test         \n"
          ],
          "name": "stdout"
        }
      ]
    },
    {
      "cell_type": "code",
      "metadata": {
        "colab": {
          "base_uri": "https://localhost:8080/"
        },
        "id": "NFWy3qI1ARyR",
        "outputId": "34cd6a1f-a762-4653-919f-277e8f7085e7"
      },
      "source": [
        "for dirname, _, filenames in os.walk('/content/drive/MyDrive/works/colab_notebooks/ml-100k'):\n",
        "    for filename in filenames:\n",
        "        print(os.path.join(dirname, filename))"
      ],
      "execution_count": 28,
      "outputs": [
        {
          "output_type": "stream",
          "text": [
            "/content/drive/MyDrive/works/colab_notebooks/ml-100k/allbut.pl\n",
            "/content/drive/MyDrive/works/colab_notebooks/ml-100k/mku.sh\n",
            "/content/drive/MyDrive/works/colab_notebooks/ml-100k/README\n",
            "/content/drive/MyDrive/works/colab_notebooks/ml-100k/u.data\n",
            "/content/drive/MyDrive/works/colab_notebooks/ml-100k/u.genre\n",
            "/content/drive/MyDrive/works/colab_notebooks/ml-100k/u.info\n",
            "/content/drive/MyDrive/works/colab_notebooks/ml-100k/u.item\n",
            "/content/drive/MyDrive/works/colab_notebooks/ml-100k/u.occupation\n",
            "/content/drive/MyDrive/works/colab_notebooks/ml-100k/u.user\n",
            "/content/drive/MyDrive/works/colab_notebooks/ml-100k/u1.base\n",
            "/content/drive/MyDrive/works/colab_notebooks/ml-100k/u1.test\n",
            "/content/drive/MyDrive/works/colab_notebooks/ml-100k/u2.base\n",
            "/content/drive/MyDrive/works/colab_notebooks/ml-100k/u2.test\n",
            "/content/drive/MyDrive/works/colab_notebooks/ml-100k/u3.base\n",
            "/content/drive/MyDrive/works/colab_notebooks/ml-100k/u3.test\n",
            "/content/drive/MyDrive/works/colab_notebooks/ml-100k/u4.base\n",
            "/content/drive/MyDrive/works/colab_notebooks/ml-100k/u4.test\n",
            "/content/drive/MyDrive/works/colab_notebooks/ml-100k/u5.base\n",
            "/content/drive/MyDrive/works/colab_notebooks/ml-100k/u5.test\n",
            "/content/drive/MyDrive/works/colab_notebooks/ml-100k/ua.base\n",
            "/content/drive/MyDrive/works/colab_notebooks/ml-100k/ua.test\n",
            "/content/drive/MyDrive/works/colab_notebooks/ml-100k/ub.base\n",
            "/content/drive/MyDrive/works/colab_notebooks/ml-100k/ub.test\n"
          ],
          "name": "stdout"
        }
      ]
    },
    {
      "cell_type": "code",
      "metadata": {
        "colab": {
          "base_uri": "https://localhost:8080/",
          "height": 204
        },
        "id": "G7J1E2CRAi34",
        "outputId": "56eaf00e-a346-4bf4-a70e-fa52c0dff12f"
      },
      "source": [
        "u_cols = ['user_id', 'age', 'sex', 'occupation', 'zip_code']\n",
        "users = pd.read_csv('ml-100k/u.user', sep='|', names=u_cols)\n",
        "users.head()"
      ],
      "execution_count": 30,
      "outputs": [
        {
          "output_type": "execute_result",
          "data": {
            "text/html": [
              "<div>\n",
              "<style scoped>\n",
              "    .dataframe tbody tr th:only-of-type {\n",
              "        vertical-align: middle;\n",
              "    }\n",
              "\n",
              "    .dataframe tbody tr th {\n",
              "        vertical-align: top;\n",
              "    }\n",
              "\n",
              "    .dataframe thead th {\n",
              "        text-align: right;\n",
              "    }\n",
              "</style>\n",
              "<table border=\"1\" class=\"dataframe\">\n",
              "  <thead>\n",
              "    <tr style=\"text-align: right;\">\n",
              "      <th></th>\n",
              "      <th>user_id</th>\n",
              "      <th>age</th>\n",
              "      <th>sex</th>\n",
              "      <th>occupation</th>\n",
              "      <th>zip_code</th>\n",
              "    </tr>\n",
              "  </thead>\n",
              "  <tbody>\n",
              "    <tr>\n",
              "      <th>0</th>\n",
              "      <td>1</td>\n",
              "      <td>24</td>\n",
              "      <td>M</td>\n",
              "      <td>technician</td>\n",
              "      <td>85711</td>\n",
              "    </tr>\n",
              "    <tr>\n",
              "      <th>1</th>\n",
              "      <td>2</td>\n",
              "      <td>53</td>\n",
              "      <td>F</td>\n",
              "      <td>other</td>\n",
              "      <td>94043</td>\n",
              "    </tr>\n",
              "    <tr>\n",
              "      <th>2</th>\n",
              "      <td>3</td>\n",
              "      <td>23</td>\n",
              "      <td>M</td>\n",
              "      <td>writer</td>\n",
              "      <td>32067</td>\n",
              "    </tr>\n",
              "    <tr>\n",
              "      <th>3</th>\n",
              "      <td>4</td>\n",
              "      <td>24</td>\n",
              "      <td>M</td>\n",
              "      <td>technician</td>\n",
              "      <td>43537</td>\n",
              "    </tr>\n",
              "    <tr>\n",
              "      <th>4</th>\n",
              "      <td>5</td>\n",
              "      <td>33</td>\n",
              "      <td>F</td>\n",
              "      <td>other</td>\n",
              "      <td>15213</td>\n",
              "    </tr>\n",
              "  </tbody>\n",
              "</table>\n",
              "</div>"
            ],
            "text/plain": [
              "   user_id  age sex  occupation zip_code\n",
              "0        1   24   M  technician    85711\n",
              "1        2   53   F       other    94043\n",
              "2        3   23   M      writer    32067\n",
              "3        4   24   M  technician    43537\n",
              "4        5   33   F       other    15213"
            ]
          },
          "metadata": {
            "tags": []
          },
          "execution_count": 30
        }
      ]
    },
    {
      "cell_type": "code",
      "metadata": {
        "colab": {
          "base_uri": "https://localhost:8080/"
        },
        "id": "aKgqaLVOBYFT",
        "outputId": "ada40219-5914-4e61-aa53-89a0cebc59bf"
      },
      "source": [
        "print(users.shape)"
      ],
      "execution_count": 31,
      "outputs": [
        {
          "output_type": "stream",
          "text": [
            "(943, 5)\n"
          ],
          "name": "stdout"
        }
      ]
    },
    {
      "cell_type": "code",
      "metadata": {
        "colab": {
          "base_uri": "https://localhost:8080/",
          "height": 204
        },
        "id": "CR83DBvmBczO",
        "outputId": "24c53cd6-b720-4362-e05d-a520ad32ee51"
      },
      "source": [
        "r_cols = ['user_id', 'movie_id', 'rating', 'unix_timestamp']\n",
        "ratings = pd.read_csv('ml-100k/u.data', sep='\\t', names=r_cols)\n",
        "ratings['date'] = pd.to_datetime(ratings['unix_timestamp'], unit='s')\n",
        "ratings.head()"
      ],
      "execution_count": 33,
      "outputs": [
        {
          "output_type": "execute_result",
          "data": {
            "text/html": [
              "<div>\n",
              "<style scoped>\n",
              "    .dataframe tbody tr th:only-of-type {\n",
              "        vertical-align: middle;\n",
              "    }\n",
              "\n",
              "    .dataframe tbody tr th {\n",
              "        vertical-align: top;\n",
              "    }\n",
              "\n",
              "    .dataframe thead th {\n",
              "        text-align: right;\n",
              "    }\n",
              "</style>\n",
              "<table border=\"1\" class=\"dataframe\">\n",
              "  <thead>\n",
              "    <tr style=\"text-align: right;\">\n",
              "      <th></th>\n",
              "      <th>user_id</th>\n",
              "      <th>movie_id</th>\n",
              "      <th>rating</th>\n",
              "      <th>unix_timestamp</th>\n",
              "      <th>date</th>\n",
              "    </tr>\n",
              "  </thead>\n",
              "  <tbody>\n",
              "    <tr>\n",
              "      <th>0</th>\n",
              "      <td>196</td>\n",
              "      <td>242</td>\n",
              "      <td>3</td>\n",
              "      <td>881250949</td>\n",
              "      <td>1997-12-04 15:55:49</td>\n",
              "    </tr>\n",
              "    <tr>\n",
              "      <th>1</th>\n",
              "      <td>186</td>\n",
              "      <td>302</td>\n",
              "      <td>3</td>\n",
              "      <td>891717742</td>\n",
              "      <td>1998-04-04 19:22:22</td>\n",
              "    </tr>\n",
              "    <tr>\n",
              "      <th>2</th>\n",
              "      <td>22</td>\n",
              "      <td>377</td>\n",
              "      <td>1</td>\n",
              "      <td>878887116</td>\n",
              "      <td>1997-11-07 07:18:36</td>\n",
              "    </tr>\n",
              "    <tr>\n",
              "      <th>3</th>\n",
              "      <td>244</td>\n",
              "      <td>51</td>\n",
              "      <td>2</td>\n",
              "      <td>880606923</td>\n",
              "      <td>1997-11-27 05:02:03</td>\n",
              "    </tr>\n",
              "    <tr>\n",
              "      <th>4</th>\n",
              "      <td>166</td>\n",
              "      <td>346</td>\n",
              "      <td>1</td>\n",
              "      <td>886397596</td>\n",
              "      <td>1998-02-02 05:33:16</td>\n",
              "    </tr>\n",
              "  </tbody>\n",
              "</table>\n",
              "</div>"
            ],
            "text/plain": [
              "   user_id  movie_id  rating  unix_timestamp                date\n",
              "0      196       242       3       881250949 1997-12-04 15:55:49\n",
              "1      186       302       3       891717742 1998-04-04 19:22:22\n",
              "2       22       377       1       878887116 1997-11-07 07:18:36\n",
              "3      244        51       2       880606923 1997-11-27 05:02:03\n",
              "4      166       346       1       886397596 1998-02-02 05:33:16"
            ]
          },
          "metadata": {
            "tags": []
          },
          "execution_count": 33
        }
      ]
    },
    {
      "cell_type": "code",
      "metadata": {
        "colab": {
          "base_uri": "https://localhost:8080/"
        },
        "id": "Vuk4osExCEzu",
        "outputId": "daecb9ad-c3c4-4d8b-f33e-598764d856f3"
      },
      "source": [
        "ratings.shape"
      ],
      "execution_count": 35,
      "outputs": [
        {
          "output_type": "execute_result",
          "data": {
            "text/plain": [
              "(100000, 5)"
            ]
          },
          "metadata": {
            "tags": []
          },
          "execution_count": 35
        }
      ]
    },
    {
      "cell_type": "code",
      "metadata": {
        "colab": {
          "base_uri": "https://localhost:8080/",
          "height": 204
        },
        "id": "CUnMtWlJCJlh",
        "outputId": "0cb87fc3-5e93-4743-8281-19e44d184917"
      },
      "source": [
        "m_cols = ['movie_id', 'title', 'release_date', 'video_release_date', 'imdb_url']\n",
        "movies = pd.read_csv('ml-100k/u.item', sep='|', names=m_cols, usecols=range(5) ,encoding='latin1')\n",
        "movies.head()"
      ],
      "execution_count": 38,
      "outputs": [
        {
          "output_type": "execute_result",
          "data": {
            "text/html": [
              "<div>\n",
              "<style scoped>\n",
              "    .dataframe tbody tr th:only-of-type {\n",
              "        vertical-align: middle;\n",
              "    }\n",
              "\n",
              "    .dataframe tbody tr th {\n",
              "        vertical-align: top;\n",
              "    }\n",
              "\n",
              "    .dataframe thead th {\n",
              "        text-align: right;\n",
              "    }\n",
              "</style>\n",
              "<table border=\"1\" class=\"dataframe\">\n",
              "  <thead>\n",
              "    <tr style=\"text-align: right;\">\n",
              "      <th></th>\n",
              "      <th>movie_id</th>\n",
              "      <th>title</th>\n",
              "      <th>release_date</th>\n",
              "      <th>video_release_date</th>\n",
              "      <th>imdb_url</th>\n",
              "    </tr>\n",
              "  </thead>\n",
              "  <tbody>\n",
              "    <tr>\n",
              "      <th>0</th>\n",
              "      <td>1</td>\n",
              "      <td>Toy Story (1995)</td>\n",
              "      <td>01-Jan-1995</td>\n",
              "      <td>NaN</td>\n",
              "      <td>http://us.imdb.com/M/title-exact?Toy%20Story%2...</td>\n",
              "    </tr>\n",
              "    <tr>\n",
              "      <th>1</th>\n",
              "      <td>2</td>\n",
              "      <td>GoldenEye (1995)</td>\n",
              "      <td>01-Jan-1995</td>\n",
              "      <td>NaN</td>\n",
              "      <td>http://us.imdb.com/M/title-exact?GoldenEye%20(...</td>\n",
              "    </tr>\n",
              "    <tr>\n",
              "      <th>2</th>\n",
              "      <td>3</td>\n",
              "      <td>Four Rooms (1995)</td>\n",
              "      <td>01-Jan-1995</td>\n",
              "      <td>NaN</td>\n",
              "      <td>http://us.imdb.com/M/title-exact?Four%20Rooms%...</td>\n",
              "    </tr>\n",
              "    <tr>\n",
              "      <th>3</th>\n",
              "      <td>4</td>\n",
              "      <td>Get Shorty (1995)</td>\n",
              "      <td>01-Jan-1995</td>\n",
              "      <td>NaN</td>\n",
              "      <td>http://us.imdb.com/M/title-exact?Get%20Shorty%...</td>\n",
              "    </tr>\n",
              "    <tr>\n",
              "      <th>4</th>\n",
              "      <td>5</td>\n",
              "      <td>Copycat (1995)</td>\n",
              "      <td>01-Jan-1995</td>\n",
              "      <td>NaN</td>\n",
              "      <td>http://us.imdb.com/M/title-exact?Copycat%20(1995)</td>\n",
              "    </tr>\n",
              "  </tbody>\n",
              "</table>\n",
              "</div>"
            ],
            "text/plain": [
              "   movie_id  ...                                           imdb_url\n",
              "0         1  ...  http://us.imdb.com/M/title-exact?Toy%20Story%2...\n",
              "1         2  ...  http://us.imdb.com/M/title-exact?GoldenEye%20(...\n",
              "2         3  ...  http://us.imdb.com/M/title-exact?Four%20Rooms%...\n",
              "3         4  ...  http://us.imdb.com/M/title-exact?Get%20Shorty%...\n",
              "4         5  ...  http://us.imdb.com/M/title-exact?Copycat%20(1995)\n",
              "\n",
              "[5 rows x 5 columns]"
            ]
          },
          "metadata": {
            "tags": []
          },
          "execution_count": 38
        }
      ]
    },
    {
      "cell_type": "code",
      "metadata": {
        "colab": {
          "base_uri": "https://localhost:8080/"
        },
        "id": "wv1crn3iCxEU",
        "outputId": "a045687b-e7fb-48e3-ecb1-e231a91b4eb1"
      },
      "source": [
        "movies.shape"
      ],
      "execution_count": 39,
      "outputs": [
        {
          "output_type": "execute_result",
          "data": {
            "text/plain": [
              "(1682, 5)"
            ]
          },
          "metadata": {
            "tags": []
          },
          "execution_count": 39
        }
      ]
    },
    {
      "cell_type": "code",
      "metadata": {
        "colab": {
          "base_uri": "https://localhost:8080/"
        },
        "id": "lNvptmthC-Xk",
        "outputId": "f0eb95ac-b38b-4171-cfcd-fba1e8c2d4ed"
      },
      "source": [
        "# 最も評価された作品トップ10\n",
        "movie_rating = pd.merge(movies, ratings)\n",
        "lens = pd.merge(movie_rating, users)\n",
        "lens.title.value_counts()[:10]"
      ],
      "execution_count": 41,
      "outputs": [
        {
          "output_type": "execute_result",
          "data": {
            "text/plain": [
              "Star Wars (1977)                 583\n",
              "Contact (1997)                   509\n",
              "Fargo (1996)                     508\n",
              "Return of the Jedi (1983)        507\n",
              "Liar Liar (1997)                 485\n",
              "English Patient, The (1996)      481\n",
              "Scream (1996)                    478\n",
              "Toy Story (1995)                 452\n",
              "Air Force One (1997)             431\n",
              "Independence Day (ID4) (1996)    429\n",
              "Name: title, dtype: int64"
            ]
          },
          "metadata": {
            "tags": []
          },
          "execution_count": 41
        }
      ]
    },
    {
      "cell_type": "code",
      "metadata": {
        "colab": {
          "base_uri": "https://localhost:8080/",
          "height": 266
        },
        "id": "GW9jdc6wDTMA",
        "outputId": "cd0ec02a-a2bc-401a-9b06-76f5d7fd7857"
      },
      "source": [
        "# 評価値が高い作品トップ10\n",
        "movie_stats = lens.groupby('title').agg({'rating': [np.size, np.mean]})\n",
        "movie_stats.sort_values(by=[('rating', 'mean')], ascending=False).head()"
      ],
      "execution_count": 55,
      "outputs": [
        {
          "output_type": "execute_result",
          "data": {
            "text/html": [
              "<div>\n",
              "<style scoped>\n",
              "    .dataframe tbody tr th:only-of-type {\n",
              "        vertical-align: middle;\n",
              "    }\n",
              "\n",
              "    .dataframe tbody tr th {\n",
              "        vertical-align: top;\n",
              "    }\n",
              "\n",
              "    .dataframe thead tr th {\n",
              "        text-align: left;\n",
              "    }\n",
              "\n",
              "    .dataframe thead tr:last-of-type th {\n",
              "        text-align: right;\n",
              "    }\n",
              "</style>\n",
              "<table border=\"1\" class=\"dataframe\">\n",
              "  <thead>\n",
              "    <tr>\n",
              "      <th></th>\n",
              "      <th colspan=\"2\" halign=\"left\">rating</th>\n",
              "    </tr>\n",
              "    <tr>\n",
              "      <th></th>\n",
              "      <th>size</th>\n",
              "      <th>mean</th>\n",
              "    </tr>\n",
              "    <tr>\n",
              "      <th>title</th>\n",
              "      <th></th>\n",
              "      <th></th>\n",
              "    </tr>\n",
              "  </thead>\n",
              "  <tbody>\n",
              "    <tr>\n",
              "      <th>They Made Me a Criminal (1939)</th>\n",
              "      <td>1</td>\n",
              "      <td>5.0</td>\n",
              "    </tr>\n",
              "    <tr>\n",
              "      <th>Marlene Dietrich: Shadow and Light (1996)</th>\n",
              "      <td>1</td>\n",
              "      <td>5.0</td>\n",
              "    </tr>\n",
              "    <tr>\n",
              "      <th>Saint of Fort Washington, The (1993)</th>\n",
              "      <td>2</td>\n",
              "      <td>5.0</td>\n",
              "    </tr>\n",
              "    <tr>\n",
              "      <th>Someone Else's America (1995)</th>\n",
              "      <td>1</td>\n",
              "      <td>5.0</td>\n",
              "    </tr>\n",
              "    <tr>\n",
              "      <th>Star Kid (1997)</th>\n",
              "      <td>3</td>\n",
              "      <td>5.0</td>\n",
              "    </tr>\n",
              "  </tbody>\n",
              "</table>\n",
              "</div>"
            ],
            "text/plain": [
              "                                           rating     \n",
              "                                             size mean\n",
              "title                                                 \n",
              "They Made Me a Criminal (1939)                  1  5.0\n",
              "Marlene Dietrich: Shadow and Light (1996)       1  5.0\n",
              "Saint of Fort Washington, The (1993)            2  5.0\n",
              "Someone Else's America (1995)                   1  5.0\n",
              "Star Kid (1997)                                 3  5.0"
            ]
          },
          "metadata": {
            "tags": []
          },
          "execution_count": 55
        }
      ]
    },
    {
      "cell_type": "code",
      "metadata": {
        "colab": {
          "base_uri": "https://localhost:8080/",
          "height": 421
        },
        "id": "xFIdjY5FD2fz",
        "outputId": "7bb6a9a7-0ba7-40a4-c8a3-4bb1f39c376e"
      },
      "source": [
        "# ノイズを除去（評価件数100件以上のもの）\n",
        "atleast100 = movie_stats[('rating', 'size')] >= 100\n",
        "movie_stats[atleast100].sort_values(by=[('rating', 'mean')], ascending=False).head(10)"
      ],
      "execution_count": 62,
      "outputs": [
        {
          "output_type": "execute_result",
          "data": {
            "text/html": [
              "<div>\n",
              "<style scoped>\n",
              "    .dataframe tbody tr th:only-of-type {\n",
              "        vertical-align: middle;\n",
              "    }\n",
              "\n",
              "    .dataframe tbody tr th {\n",
              "        vertical-align: top;\n",
              "    }\n",
              "\n",
              "    .dataframe thead tr th {\n",
              "        text-align: left;\n",
              "    }\n",
              "\n",
              "    .dataframe thead tr:last-of-type th {\n",
              "        text-align: right;\n",
              "    }\n",
              "</style>\n",
              "<table border=\"1\" class=\"dataframe\">\n",
              "  <thead>\n",
              "    <tr>\n",
              "      <th></th>\n",
              "      <th colspan=\"2\" halign=\"left\">rating</th>\n",
              "    </tr>\n",
              "    <tr>\n",
              "      <th></th>\n",
              "      <th>size</th>\n",
              "      <th>mean</th>\n",
              "    </tr>\n",
              "    <tr>\n",
              "      <th>title</th>\n",
              "      <th></th>\n",
              "      <th></th>\n",
              "    </tr>\n",
              "  </thead>\n",
              "  <tbody>\n",
              "    <tr>\n",
              "      <th>Close Shave, A (1995)</th>\n",
              "      <td>112</td>\n",
              "      <td>4.491071</td>\n",
              "    </tr>\n",
              "    <tr>\n",
              "      <th>Schindler's List (1993)</th>\n",
              "      <td>298</td>\n",
              "      <td>4.466443</td>\n",
              "    </tr>\n",
              "    <tr>\n",
              "      <th>Wrong Trousers, The (1993)</th>\n",
              "      <td>118</td>\n",
              "      <td>4.466102</td>\n",
              "    </tr>\n",
              "    <tr>\n",
              "      <th>Casablanca (1942)</th>\n",
              "      <td>243</td>\n",
              "      <td>4.456790</td>\n",
              "    </tr>\n",
              "    <tr>\n",
              "      <th>Shawshank Redemption, The (1994)</th>\n",
              "      <td>283</td>\n",
              "      <td>4.445230</td>\n",
              "    </tr>\n",
              "    <tr>\n",
              "      <th>Rear Window (1954)</th>\n",
              "      <td>209</td>\n",
              "      <td>4.387560</td>\n",
              "    </tr>\n",
              "    <tr>\n",
              "      <th>Usual Suspects, The (1995)</th>\n",
              "      <td>267</td>\n",
              "      <td>4.385768</td>\n",
              "    </tr>\n",
              "    <tr>\n",
              "      <th>Star Wars (1977)</th>\n",
              "      <td>583</td>\n",
              "      <td>4.358491</td>\n",
              "    </tr>\n",
              "    <tr>\n",
              "      <th>12 Angry Men (1957)</th>\n",
              "      <td>125</td>\n",
              "      <td>4.344000</td>\n",
              "    </tr>\n",
              "    <tr>\n",
              "      <th>Citizen Kane (1941)</th>\n",
              "      <td>198</td>\n",
              "      <td>4.292929</td>\n",
              "    </tr>\n",
              "  </tbody>\n",
              "</table>\n",
              "</div>"
            ],
            "text/plain": [
              "                                 rating          \n",
              "                                   size      mean\n",
              "title                                            \n",
              "Close Shave, A (1995)               112  4.491071\n",
              "Schindler's List (1993)             298  4.466443\n",
              "Wrong Trousers, The (1993)          118  4.466102\n",
              "Casablanca (1942)                   243  4.456790\n",
              "Shawshank Redemption, The (1994)    283  4.445230\n",
              "Rear Window (1954)                  209  4.387560\n",
              "Usual Suspects, The (1995)          267  4.385768\n",
              "Star Wars (1977)                    583  4.358491\n",
              "12 Angry Men (1957)                 125  4.344000\n",
              "Citizen Kane (1941)                 198  4.292929"
            ]
          },
          "metadata": {
            "tags": []
          },
          "execution_count": 62
        }
      ]
    },
    {
      "cell_type": "code",
      "metadata": {
        "colab": {
          "base_uri": "https://localhost:8080/",
          "height": 282
        },
        "id": "z1OWlGpDF8dP",
        "outputId": "5409ef3b-245e-4f98-b87c-74c39bd070bc"
      },
      "source": [
        "# ヒストグラム（ユーザーがいくつの映画をレビューしたか）\n",
        "from matplotlib import pyplot as plt\n",
        "plt.style.use('ggplot')\n",
        "lens.groupby('user_id').size().sort_values(ascending=False).hist()\n",
        "plt.xlabel('number of reviews')\n",
        "plt.ylabel('count of users')\n",
        "plt.show()"
      ],
      "execution_count": 72,
      "outputs": [
        {
          "output_type": "display_data",
          "data": {
            "image/png": "[encoded data removed]",
            "text/plain": [
              "<Figure size 432x288 with 1 Axes>"
            ]
          },
          "metadata": {
            "tags": []
          }
        }
      ]
    },
    {
      "cell_type": "code",
      "metadata": {
        "colab": {
          "base_uri": "https://localhost:8080/",
          "height": 297
        },
        "id": "w_nqHez5Mq_P",
        "outputId": "84116dc4-ee26-431c-95d9-fb8244ee91c4"
      },
      "source": [
        "# ユーザの評価数と評価値平均\n",
        "user_stats = lens.groupby('user_id').agg({'rating': [np.size, np.mean]})\n",
        "user_stats['rating'].describe()"
      ],
      "execution_count": 74,
      "outputs": [
        {
          "output_type": "execute_result",
          "data": {
            "text/html": [
              "<div>\n",
              "<style scoped>\n",
              "    .dataframe tbody tr th:only-of-type {\n",
              "        vertical-align: middle;\n",
              "    }\n",
              "\n",
              "    .dataframe tbody tr th {\n",
              "        vertical-align: top;\n",
              "    }\n",
              "\n",
              "    .dataframe thead th {\n",
              "        text-align: right;\n",
              "    }\n",
              "</style>\n",
              "<table border=\"1\" class=\"dataframe\">\n",
              "  <thead>\n",
              "    <tr style=\"text-align: right;\">\n",
              "      <th></th>\n",
              "      <th>size</th>\n",
              "      <th>mean</th>\n",
              "    </tr>\n",
              "  </thead>\n",
              "  <tbody>\n",
              "    <tr>\n",
              "      <th>count</th>\n",
              "      <td>943.000000</td>\n",
              "      <td>943.000000</td>\n",
              "    </tr>\n",
              "    <tr>\n",
              "      <th>mean</th>\n",
              "      <td>106.044539</td>\n",
              "      <td>3.588191</td>\n",
              "    </tr>\n",
              "    <tr>\n",
              "      <th>std</th>\n",
              "      <td>100.931743</td>\n",
              "      <td>0.445233</td>\n",
              "    </tr>\n",
              "    <tr>\n",
              "      <th>min</th>\n",
              "      <td>20.000000</td>\n",
              "      <td>1.491954</td>\n",
              "    </tr>\n",
              "    <tr>\n",
              "      <th>25%</th>\n",
              "      <td>33.000000</td>\n",
              "      <td>3.323054</td>\n",
              "    </tr>\n",
              "    <tr>\n",
              "      <th>50%</th>\n",
              "      <td>65.000000</td>\n",
              "      <td>3.620690</td>\n",
              "    </tr>\n",
              "    <tr>\n",
              "      <th>75%</th>\n",
              "      <td>148.000000</td>\n",
              "      <td>3.869565</td>\n",
              "    </tr>\n",
              "    <tr>\n",
              "      <th>max</th>\n",
              "      <td>737.000000</td>\n",
              "      <td>4.869565</td>\n",
              "    </tr>\n",
              "  </tbody>\n",
              "</table>\n",
              "</div>"
            ],
            "text/plain": [
              "             size        mean\n",
              "count  943.000000  943.000000\n",
              "mean   106.044539    3.588191\n",
              "std    100.931743    0.445233\n",
              "min     20.000000    1.491954\n",
              "25%     33.000000    3.323054\n",
              "50%     65.000000    3.620690\n",
              "75%    148.000000    3.869565\n",
              "max    737.000000    4.869565"
            ]
          },
          "metadata": {
            "tags": []
          },
          "execution_count": 74
        }
      ]
    },
    {
      "cell_type": "code",
      "metadata": {
        "colab": {
          "base_uri": "https://localhost:8080/"
        },
        "id": "r0F0TUBINMNU",
        "outputId": "b0bd17f8-1d8d-418e-e335-c0233ad5fa88"
      },
      "source": [
        "from sklearn.feature_extraction import DictVectorizer\n",
        "\n",
        "train = [\n",
        "    {'user':'1', 'item': '5', 'age': 19},\n",
        "    {'user':'2', 'item': '43', 'age': 22},\n",
        "    {'user':'3', 'item': '10', 'age': 55},\n",
        "    {'user':'4', 'item': '10', 'age': 20},\n",
        "]\n",
        "\n",
        "v = DictVectorizer()\n",
        "X = v.fit_transform(train)\n",
        "print(X.toarray())"
      ],
      "execution_count": 77,
      "outputs": [
        {
          "output_type": "stream",
          "text": [
            "[[19.  0.  0.  1.  1.  0.  0.  0.]\n",
            " [22.  0.  1.  0.  0.  1.  0.  0.]\n",
            " [55.  1.  0.  0.  0.  0.  1.  0.]\n",
            " [20.  1.  0.  0.  0.  0.  0.  1.]]\n"
          ],
          "name": "stdout"
        }
      ]
    },
    {
      "cell_type": "code",
      "metadata": {
        "colab": {
          "base_uri": "https://localhost:8080/"
        },
        "id": "Fmqs1o-DQ0p3",
        "outputId": "327a94e9-f8c3-40b4-f1dc-c7d2143ca2c9"
      },
      "source": [
        "!pip install fastFM"
      ],
      "execution_count": 80,
      "outputs": [
        {
          "output_type": "stream",
          "text": [
            "Requirement already satisfied: fastFM in /usr/local/lib/python3.6/dist-packages (0.2.11)\n",
            "Requirement already satisfied: scipy in /usr/local/lib/python3.6/dist-packages (from fastFM) (1.4.1)\n",
            "Requirement already satisfied: scikit-learn in /usr/local/lib/python3.6/dist-packages (from fastFM) (0.22.2.post1)\n",
            "Requirement already satisfied: cython in /usr/local/lib/python3.6/dist-packages (from fastFM) (0.29.21)\n",
            "Requirement already satisfied: numpy in /usr/local/lib/python3.6/dist-packages (from fastFM) (1.19.5)\n",
            "Requirement already satisfied: joblib>=0.11 in /usr/local/lib/python3.6/dist-packages (from scikit-learn->fastFM) (1.0.0)\n"
          ],
          "name": "stdout"
        }
      ]
    },
    {
      "cell_type": "code",
      "metadata": {
        "id": "QE3weT4rRGhl"
      },
      "source": [
        "from fastFM import als"
      ],
      "execution_count": 81,
      "outputs": []
    },
    {
      "cell_type": "code",
      "metadata": {
        "colab": {
          "base_uri": "https://localhost:8080/"
        },
        "id": "YBGrXEGvRTKr",
        "outputId": "3a503391-744d-473d-ef96-ba8743f6f2d4"
      },
      "source": [
        "y = np.array([5.0, 1.0, 2.0, 4.0])\n",
        "fm = als.FMRegression(n_iter=1000, init_stdev=00.1, rank=2, l2_reg_w=0.1, l2_reg_V=0.5)\n",
        "fm.fit(X, y)\n",
        "fm.predict(v.transform({'user': '5', 'item': '10', 'age': 24}))"
      ],
      "execution_count": 85,
      "outputs": [
        {
          "output_type": "execute_result",
          "data": {
            "text/plain": [
              "array([3.62713759])"
            ]
          },
          "metadata": {
            "tags": []
          },
          "execution_count": 85
        }
      ]
    },
    {
      "cell_type": "code",
      "metadata": {
        "id": "2aBjZxNHTQ4P"
      },
      "source": [
        "def load_data(filename, path='ml-100k/'):\n",
        "    data = []\n",
        "    y = []\n",
        "    with open(path+filename) as f:\n",
        "        for line in f:\n",
        "            (user, movieid, rating, ts) = line.split('\\t')\n",
        "            data.append({'user_id': str(user), 'movie_id': str(movieid)})\n",
        "            y.append(float(rating))\n",
        "    \n",
        "    return (data, np.array(y))\n",
        "\n",
        "\n",
        "(dev_data, y_dev) = load_data('ua.base')\n",
        "(test_data, y_test) = load_data('ua.test')"
      ],
      "execution_count": 87,
      "outputs": []
    },
    {
      "cell_type": "code",
      "metadata": {
        "colab": {
          "base_uri": "https://localhost:8080/"
        },
        "id": "5yzLYXd5UsbT",
        "outputId": "ff865a22-375d-435d-ef14-3f88b1626aa3"
      },
      "source": [
        "from sklearn.model_selection import train_test_split\n",
        "\n",
        "v = DictVectorizer()\n",
        "X_dev = v.fit_transform(dev_data)\n",
        "X_test = v.transform(test_data)\n",
        "print(np.std(y_test))\n",
        "X_train, X_dev_test, y_train, y_dev_test = train_test_split(X_dev, y_dev, test_size=0.1, random_state=42)"
      ],
      "execution_count": 90,
      "outputs": [
        {
          "output_type": "stream",
          "text": [
            "1.120180145761465\n"
          ],
          "name": "stdout"
        }
      ]
    },
    {
      "cell_type": "code",
      "metadata": {
        "id": "4cq22lxHVOKW"
      },
      "source": [
        "from sklearn.metrics import mean_squared_error\n",
        "from fastFM import mcmc\n",
        "\n",
        "n_iter = 300\n",
        "step_size = 1\n",
        "seed = 123\n",
        "rank = 4\n",
        "\n",
        "fm = mcmc.FMRegression(n_iter=0, rank=rank, random_state=seed)\n",
        "fm.fit_predict(X_train, y_train, X_dev_test)\n",
        "\n",
        "rmse_dev_test = []\n",
        "rmse_test = []\n",
        "hyper_param = np.zeros((n_iter-1, 3+2*rank), dtype=np.float64)\n",
        "\n",
        "for nr, i in enumerate(range(1, n_iter)):\n",
        "    fm.random_state = i * seed\n",
        "    y_pred = fm.fit_predict(X_train, y_train, X_dev_test, n_more_iter=step_size)\n",
        "    rmse_test.append(np.sqrt(mean_squared_error(y_pred, y_dev_test)))\n",
        "    hyper_param[nr, :] = fm.hyper_param_\n",
        "\n",
        "values = np.arange(1, n_iter)\n",
        "x = values * step_size\n",
        "burn_in = 5\n",
        "x = x[burn_in:]"
      ],
      "execution_count": 102,
      "outputs": []
    },
    {
      "cell_type": "code",
      "metadata": {
        "colab": {
          "base_uri": "https://localhost:8080/",
          "height": 500
        },
        "id": "QNgxMEkrW9Pb",
        "outputId": "4251c797-eff0-4a7e-8249-e54c456d196b"
      },
      "source": [
        "fig, axes = plt.subplots(nrows=2, ncols=2, sharex=True, figsize=(15, 8))\n",
        "axes[0, 0].plot(x, rmse_test[burn_in:], label='dev test rmse', color='r')\n",
        "axes[0, 0].legend()\n",
        "axes[0, 1].plot(x, hyper_param[burn_in:, 0], label='alpha', color='b')\n",
        "axes[0, 1].legend()\n",
        "axes[1, 0].plot(x, hyper_param[burn_in:, 1], label='lambda_w', color='g')\n",
        "axes[1, 0].legend()\n",
        "axes[1, 1].plot(x, hyper_param[burn_in:, 3], label='mu_w', color='g')\n",
        "axes[1, 1].legend()\n",
        "plt.plot()"
      ],
      "execution_count": 103,
      "outputs": [
        {
          "output_type": "execute_result",
          "data": {
            "text/plain": [
              "[]"
            ]
          },
          "metadata": {
            "tags": []
          },
          "execution_count": 103
        },
        {
          "output_type": "display_data",
          "data": {
            "image/png": "[encoded data removed]",
            "text/plain": [
              "<Figure size 1080x576 with 4 Axes>"
            ]
          },
          "metadata": {
            "tags": []
          }
        }
      ]
    }
  ]
}