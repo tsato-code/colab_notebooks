{
  "nbformat": 4,
  "nbformat_minor": 0,
  "metadata": {
    "colab": {
      "name": "multioutputregressor_lightgbm.ipynb",
      "provenance": [],
      "authorship_tag": "ABX9TyNn+kcASMCHY/jcQZv9SYRb",
      "include_colab_link": true
    },
    "kernelspec": {
      "name": "python3",
      "display_name": "Python 3"
    },
    "language_info": {
      "name": "python"
    }
  },
  "cells": [
    {
      "cell_type": "markdown",
      "metadata": {
        "id": "view-in-github",
        "colab_type": "text"
      },
      "source": [
        "<a href=\"https://colab.research.google.com/github/tsato-code/colab_notebooks/blob/main/multioutputregressor_lightgbm.ipynb\" target=\"_parent\"><img src=\"https://colab.research.google.com/assets/colab-badge.svg\" alt=\"Open In Colab\"/></a>"
      ]
    },
    {
      "cell_type": "code",
      "metadata": {
        "id": "Vg3IprGAAC87"
      },
      "source": [
        "import lightgbm as lgb\n",
        "import pandas as pd\n",
        "import numpy as np\n",
        "from sklearn.datasets import load_boston\n",
        "from sklearn.metrics import mean_squared_error\n",
        "from sklearn.model_selection import train_test_split\n",
        "from sklearn.multioutput import MultiOutputRegressor\n",
        "from sklearn import preprocessing"
      ],
      "execution_count": 1,
      "outputs": []
    },
    {
      "cell_type": "code",
      "metadata": {
        "id": "OZyh1yyWCM7N"
      },
      "source": [
        "# データセット\n",
        "boston = load_boston()\n",
        "df = pd.DataFrame(boston.data, columns=boston.feature_names)"
      ],
      "execution_count": 2,
      "outputs": []
    },
    {
      "cell_type": "code",
      "metadata": {
        "id": "XZ2u2FgKCPg6"
      },
      "source": [
        "# 正解データ\n",
        "price = boston.target\n",
        "crim = df['CRIM'].values\n",
        "df2 = df.drop('CRIM', axis=1)"
      ],
      "execution_count": 3,
      "outputs": []
    },
    {
      "cell_type": "code",
      "metadata": {
        "colab": {
          "base_uri": "https://localhost:8080/"
        },
        "id": "LSkrrYlPCZQ1",
        "outputId": "62bc1c96-dad3-4a8d-cfb5-c2b4b2259310"
      },
      "source": [
        "# 正規化\n",
        "sc = preprocessing.StandardScaler()\n",
        "sc.fit(df2)\n",
        "X = sc.transform(df2)\n",
        "\n",
        "# priceとcrimをつないで正解データとする (=y)\n",
        "y = np.array([price, crim]).T\n",
        "\n",
        "# モデル学習用データのサイズの確認\n",
        "print(X.shape)\n",
        "print(y.shape)"
      ],
      "execution_count": 4,
      "outputs": [
        {
          "output_type": "stream",
          "text": [
            "(506, 12)\n",
            "(506, 2)\n"
          ],
          "name": "stdout"
        }
      ]
    },
    {
      "cell_type": "code",
      "metadata": {
        "colab": {
          "base_uri": "https://localhost:8080/"
        },
        "id": "nxjusztSDKQ4",
        "outputId": "581e305d-4a57-42a0-f4b1-f84121296248"
      },
      "source": [
        "# 訓練データとテストデータに分割する\n",
        "X_train, X_test, y_train, y_test = train_test_split(X, y)\n",
        "print(X_train.shape, X_test.shape)\n",
        "print(y_train.shape, y_test.shape)"
      ],
      "execution_count": 5,
      "outputs": [
        {
          "output_type": "stream",
          "text": [
            "(379, 12) (127, 12)\n",
            "(379, 2) (127, 2)\n"
          ],
          "name": "stdout"
        }
      ]
    },
    {
      "cell_type": "code",
      "metadata": {
        "id": "slC99l1RDCKC"
      },
      "source": [
        "# lgbデータセット\n",
        "lgb_train = lgb.Dataset(X_train, y_train)\n",
        "lgb_eval = lgb.Dataset(X_test, y_test, reference=lgb_train)\n",
        "\n",
        "# LightGBM のハイパーパラメータ\n",
        "lgbm_params = {\n",
        "    'objective': 'regressor'\n",
        "}"
      ],
      "execution_count": 6,
      "outputs": []
    },
    {
      "cell_type": "code",
      "metadata": {
        "colab": {
          "base_uri": "https://localhost:8080/"
        },
        "id": "PCsCC1kvCkpd",
        "outputId": "f0d34943-e711-46a7-bf6a-d1dbd94aeb7f"
      },
      "source": [
        "# 多値予測モデルの生成\n",
        "mor = MultiOutputRegressor(lgb.LGBMRegressor())\n",
        "\n",
        "# 学習\n",
        "mor.fit(X_train, y_train)\n",
        "\n",
        "# 予測\n",
        "y_pred = mor.predict(X_test)\n",
        "\n",
        "# 予測結果のサイズ\n",
        "print(y_pred.shape)\n",
        "\n",
        "# 予測結果\n",
        "print(y_pred[:5,])"
      ],
      "execution_count": 7,
      "outputs": [
        {
          "output_type": "stream",
          "text": [
            "(127, 2)\n",
            "[[19.66690357  0.93913577]\n",
            " [22.3505095   0.13136284]\n",
            " [22.54444639  0.17166952]\n",
            " [ 9.94058369 14.10038351]\n",
            " [17.35378836  0.28635781]]\n"
          ],
          "name": "stdout"
        }
      ]
    },
    {
      "cell_type": "code",
      "metadata": {
        "colab": {
          "base_uri": "https://localhost:8080/"
        },
        "id": "55zbC_HVEZoH",
        "outputId": "2393ed59-3365-4793-ddd0-345d08c686c3"
      },
      "source": [
        "# RMSE\n",
        "mse1 = mean_squared_error(y_test[:,0], y_pred[:,0])\n",
        "rmse1 = np.sqrt(mse1)\n",
        "print(rmse1)\n",
        "\n",
        "mse2 = mean_squared_error(y_test[:,1], y_pred[:,1])\n",
        "rmse2 = np.sqrt(mse2)\n",
        "print(rmse2)"
      ],
      "execution_count": 8,
      "outputs": [
        {
          "output_type": "stream",
          "text": [
            "3.351356531952076\n",
            "5.711845739307236\n"
          ],
          "name": "stdout"
        }
      ]
    }
  ]
}