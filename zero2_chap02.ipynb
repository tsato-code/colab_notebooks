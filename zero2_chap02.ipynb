{
  "nbformat": 4,
  "nbformat_minor": 0,
  "metadata": {
    "colab": {
      "name": "zero2_chap02.ipynb",
      "provenance": [],
      "collapsed_sections": [],
      "mount_file_id": "1ar07fUg7K0n7WTo9iSBoJKhzu3-Q5qDg",
      "authorship_tag": "ABX9TyPcNzhe6LL+DT4P7+dtHhym",
      "include_colab_link": true
    },
    "kernelspec": {
      "name": "python3",
      "display_name": "Python 3"
    }
  },
  "cells": [
    {
      "cell_type": "markdown",
      "metadata": {
        "id": "view-in-github",
        "colab_type": "text"
      },
      "source": [
        "<a href=\"https://colab.research.google.com/github/tsato-code/colab_notebooks/blob/main/zero2_chap02.ipynb\" target=\"_parent\"><img src=\"https://colab.research.google.com/assets/colab-badge.svg\" alt=\"Open In Colab\"/></a>"
      ]
    },
    {
      "cell_type": "code",
      "metadata": {
        "id": "NLjwCaM_BkxU"
      },
      "source": [
        "import pickle\n",
        "import os\n",
        "import matplotlib.pyplot as plt\n",
        "import numpy as np\n",
        "import urllib.request"
      ],
      "execution_count": null,
      "outputs": []
    },
    {
      "cell_type": "code",
      "metadata": {
        "id": "5pWyEnqTBnPd"
      },
      "source": [
        "def preprocess(text):\n",
        "    text = text.lower()\n",
        "    text = text.replace('.', ' .')\n",
        "    words = text.split()\n",
        "\n",
        "    word_to_id = {}\n",
        "    id_to_word = {}\n",
        "    for word in words:\n",
        "        if word not in word_to_id:\n",
        "            new_id = len(word_to_id)\n",
        "            word_to_id[word] = new_id\n",
        "            id_to_word[new_id] = word\n",
        "    \n",
        "    corpus = np.array([word_to_id[w] for w in words])\n",
        "\n",
        "    return corpus, word_to_id, id_to_word"
      ],
      "execution_count": null,
      "outputs": []
    },
    {
      "cell_type": "code",
      "metadata": {
        "colab": {
          "base_uri": "https://localhost:8080/"
        },
        "id": "MIhnu0g5CMov",
        "outputId": "07849cac-c44c-4d20-eda6-342e7e47e65a"
      },
      "source": [
        "text = 'You say goobye and I say hello.'\n",
        "corpus, word_to_id, id_to_word = preprocess(text)\n",
        "\n",
        "print(corpus)\n",
        "print(word_to_id)\n",
        "print(id_to_word)"
      ],
      "execution_count": null,
      "outputs": [
        {
          "output_type": "stream",
          "text": [
            "[0 1 2 3 4 1 5 6]\n",
            "{'you': 0, 'say': 1, 'goobye': 2, 'and': 3, 'i': 4, 'hello': 5, '.': 6}\n",
            "{0: 'you', 1: 'say', 2: 'goobye', 3: 'and', 4: 'i', 5: 'hello', 6: '.'}\n"
          ],
          "name": "stdout"
        }
      ]
    },
    {
      "cell_type": "code",
      "metadata": {
        "id": "cGSWs9V8CT5U"
      },
      "source": [
        "def create_co_matrix(corpus, vocab_size, window_size=1):\n",
        "    corpus_size = len(corpus)\n",
        "    co_matrix = np.zeros((vocab_size, vocab_size), dtype=np.int32)\n",
        "\n",
        "    for idx, word_id in enumerate(corpus):\n",
        "        for i in range(1, window_size + 1):\n",
        "            left_idx = idx - i\n",
        "            right_idx = idx + i\n",
        "\n",
        "            if left_idx >= 0:\n",
        "                left_word_id = corpus[left_idx]\n",
        "                co_matrix[word_id, left_word_id] += 1\n",
        "\n",
        "            if right_idx < corpus_size:\n",
        "                right_word_id = corpus[right_idx]\n",
        "                co_matrix[word_id, right_word_id] += 1\n",
        "    \n",
        "    return co_matrix\n",
        "\n",
        "\n",
        "def cos_similarity(x, y, eps=1e-8):\n",
        "    nx = x / (np.sqrt(np.sum(x**2)) + eps)\n",
        "    ny = y / (np.sqrt(np.sum(y**2)) + eps)\n",
        "    return np.dot(nx, ny)"
      ],
      "execution_count": null,
      "outputs": []
    },
    {
      "cell_type": "code",
      "metadata": {
        "colab": {
          "base_uri": "https://localhost:8080/"
        },
        "id": "PDL5CbXVNKa-",
        "outputId": "c93a91f9-5fcd-41dc-b85a-aae1f881fcb7"
      },
      "source": [
        "vocab_size = len(word_to_id)\n",
        "C = create_co_matrix(corpus, vocab_size)\n",
        "\n",
        "c0 = C[word_to_id['you']]\n",
        "c1 = C[word_to_id['i']]\n",
        "print(cos_similarity(c0, c1))"
      ],
      "execution_count": null,
      "outputs": [
        {
          "output_type": "stream",
          "text": [
            "0.7071067691154799\n"
          ],
          "name": "stdout"
        }
      ]
    },
    {
      "cell_type": "code",
      "metadata": {
        "id": "_QcGw90zNz6v"
      },
      "source": [
        "def most_similar(query, word_to_id, id_to_word, word_matrix, top=5):\n",
        "    if query not in word_to_id:\n",
        "        print(f'{query} is not found')\n",
        "        return\n",
        "    \n",
        "    print(f'\\n[query] {query}')\n",
        "    query_id = word_to_id[query]\n",
        "    query_vec = word_matrix[query_id]\n",
        "\n",
        "    vocab_size = len(id_to_word)\n",
        "    similarity = np.zeros(vocab_size)\n",
        "    for i in range(vocab_size):\n",
        "        similarity[i] = cos_similarity(word_matrix[i], query_vec)\n",
        "    \n",
        "    count = 0\n",
        "    for i in (-1 * similarity).argsort():\n",
        "        if id_to_word[i] == query:\n",
        "            continue\n",
        "        print(f' {id_to_word[i]}: {similarity[i]}')\n",
        "\n",
        "        count += 1\n",
        "        if count >= top:\n",
        "            return"
      ],
      "execution_count": null,
      "outputs": []
    },
    {
      "cell_type": "code",
      "metadata": {
        "colab": {
          "base_uri": "https://localhost:8080/"
        },
        "id": "F5CYRPtBN9jB",
        "outputId": "3ee2dd00-525f-4194-9a72-94b570fbfcd6"
      },
      "source": [
        "most_similar('you', word_to_id, id_to_word, C, top=5)"
      ],
      "execution_count": null,
      "outputs": [
        {
          "output_type": "stream",
          "text": [
            "\n",
            "[query] you\n",
            " goobye: 0.7071067691154799\n",
            " i: 0.7071067691154799\n",
            " hello: 0.7071067691154799\n",
            " say: 0.0\n",
            " and: 0.0\n"
          ],
          "name": "stdout"
        }
      ]
    },
    {
      "cell_type": "code",
      "metadata": {
        "id": "B4NViolwUK8G"
      },
      "source": [
        "def ppmi(C, verbose=False, eps=1e-8):\n",
        "    M = np.zeros_like(C, dtype=np.float32)\n",
        "    N = np.sum(C)\n",
        "    S = np.sum(C, axis=0)\n",
        "    total = C.shape[0] * C.shape[1]\n",
        "    cnt = 0\n",
        "\n",
        "    for i in range(C.shape[0]):\n",
        "        for j in range(C.shape[1]):\n",
        "            pmi = np.log2(C[i, j] * N / (S[j]*S[i]) + eps)\n",
        "            M[i, j] = max(0, pmi)\n",
        "\n",
        "            if verbose:\n",
        "                cnt += 1\n",
        "    \n",
        "                if cnt % (total//100 + 1) == 0:\n",
        "                    print(f'{100*cnt/total:.1f} done')\n",
        "    \n",
        "    return M"
      ],
      "execution_count": null,
      "outputs": []
    },
    {
      "cell_type": "code",
      "metadata": {
        "colab": {
          "base_uri": "https://localhost:8080/"
        },
        "id": "h79G86WxV9B_",
        "outputId": "11080530-eafc-4f2c-af52-479c78a9ca19"
      },
      "source": [
        "W = ppmi(C)\n",
        "np.set_printoptions(precision=3)\n",
        "print('covariance matrix')\n",
        "print(C)\n",
        "print('-'*50)\n",
        "print('PPMI')\n",
        "print(W)"
      ],
      "execution_count": null,
      "outputs": [
        {
          "output_type": "stream",
          "text": [
            "covariance matrix\n",
            "[[0 1 0 0 0 0 0]\n",
            " [1 0 1 0 1 1 0]\n",
            " [0 1 0 1 0 0 0]\n",
            " [0 0 1 0 1 0 0]\n",
            " [0 1 0 1 0 0 0]\n",
            " [0 1 0 0 0 0 1]\n",
            " [0 0 0 0 0 1 0]]\n",
            "--------------------------------------------------\n",
            "PPMI\n",
            "[[0.    1.807 0.    0.    0.    0.    0.   ]\n",
            " [1.807 0.    0.807 0.    0.807 0.807 0.   ]\n",
            " [0.    0.807 0.    1.807 0.    0.    0.   ]\n",
            " [0.    0.    1.807 0.    1.807 0.    0.   ]\n",
            " [0.    0.807 0.    1.807 0.    0.    0.   ]\n",
            " [0.    0.807 0.    0.    0.    0.    2.807]\n",
            " [0.    0.    0.    0.    0.    2.807 0.   ]]\n"
          ],
          "name": "stdout"
        }
      ]
    },
    {
      "cell_type": "code",
      "metadata": {
        "id": "5mAHC2EMV_TS"
      },
      "source": [
        "U, S, V = np.linalg.svd(W)"
      ],
      "execution_count": null,
      "outputs": []
    },
    {
      "cell_type": "code",
      "metadata": {
        "colab": {
          "base_uri": "https://localhost:8080/"
        },
        "id": "r7CPhEM7WMX-",
        "outputId": "b1f55bb8-a0ec-4a8f-8959-eef52244a9f3"
      },
      "source": [
        "print(U[0, :2])"
      ],
      "execution_count": null,
      "outputs": [
        {
          "output_type": "stream",
          "text": [
            "[0.    0.341]\n"
          ],
          "name": "stdout"
        }
      ]
    },
    {
      "cell_type": "code",
      "metadata": {
        "colab": {
          "base_uri": "https://localhost:8080/",
          "height": 265
        },
        "id": "atNV63foXkLe",
        "outputId": "4b480be8-df38-401e-bfbb-64eda3166e38"
      },
      "source": [
        "for word, word_id in word_to_id.items():\n",
        "    plt.annotate(word, (U[word_id, 0], U[word_id, 1]))\n",
        "plt.scatter(U[:, 0], U[:, 1], alpha=0.5)\n",
        "plt.show()"
      ],
      "execution_count": null,
      "outputs": [
        {
          "output_type": "display_data",
          "data": {
            "image/png": "[encoded data removed]",
            "text/plain": [
              "<Figure size 432x288 with 1 Axes>"
            ]
          },
          "metadata": {
            "tags": [],
            "needs_background": "light"
          }
        }
      ]
    },
    {
      "cell_type": "code",
      "metadata": {
        "id": "K_aAtqg0XlQV"
      },
      "source": [
        "class Ptb:\n",
        "    def __init__(self):\n",
        "        self.url_base = 'https://raw.githubusercontent.com/tomsercu/lstm/master/data/'\n",
        "        self.key_file = {\n",
        "            'train':'ptb.train.txt',\n",
        "            'test':'ptb.test.txt',\n",
        "            'valid':'ptb.valid.txt'\n",
        "        }\n",
        "        self.save_file = {\n",
        "            'train': 'ptb.train.npy',\n",
        "            'test': 'ptb.test.npy',\n",
        "            'valid': 'ptb.valid.npy'\n",
        "        }\n",
        "        self.vocab_file = 'ptb.vocab.pkl'\n",
        "        self.dataset_dir = os.path.dirname(os.path.abspath('/content/drive/MyDrive/Colab Notebooks/zero2_chap02.ipynb'))\n",
        "\n",
        "    \n",
        "    def _download(self, file_name):\n",
        "        file_path = self.dataset_dir + '/' + file_name\n",
        "        if os.path.exists(file_path):\n",
        "            return\n",
        "\n",
        "        print('Downloading ' + file_name + ' ... ')\n",
        "\n",
        "        try:\n",
        "            urllib.request.urlretrieve(self.url_base + file_name, file_path)\n",
        "        except urllib.error.URLError:\n",
        "            import ssl\n",
        "            ssl._create_default_https_context = ssl._create_unverified_context\n",
        "            urllib.request.urlretrieve(self.url_base + file_name, file_path)\n",
        "\n",
        "        print('Done')\n",
        "\n",
        "\n",
        "    def load_vocab(self):\n",
        "        vocab_path = self.dataset_dir + '/' + self.vocab_file\n",
        "\n",
        "        if os.path.exists(vocab_path):\n",
        "            with open(vocab_path, 'rb') as f:\n",
        "                word_to_id, id_to_word = pickle.load(f)\n",
        "            return word_to_id, id_to_word\n",
        "        \n",
        "        word_to_id = {}\n",
        "        id_to_word = {}\n",
        "        data_type = 'train'\n",
        "        file_name = self.key_file[data_type]\n",
        "        file_path = self.dataset_dir + '/' + file_name\n",
        "\n",
        "        self._download(file_name)\n",
        "\n",
        "        words = open(file_path).read().replace('\\n', '<eos>').strip().split()\n",
        "\n",
        "        for i, word in enumerate(words):\n",
        "            if word not in word_to_id:\n",
        "                tmp_id = len(word_to_id)\n",
        "                word_to_id[word] = tmp_id\n",
        "                id_to_word[tmp_id] = word\n",
        "        \n",
        "        with open(vocab_path, 'wb') as f:\n",
        "            pickle.dump((word_to_id, id_to_word), f)\n",
        "\n",
        "        return word_to_id, id_to_word\n",
        "\n",
        "    \n",
        "    def load_data(self, data_type='train'):\n",
        "        if data_type == 'val': data_type = 'valid'\n",
        "        save_path = self.dataset_dir + '/' + self.save_file[data_type]\n",
        "\n",
        "        word_to_id, id_to_word = self.load_vocab()\n",
        "\n",
        "        if os.path.exists(save_path):\n",
        "            corpus = np.load(save_path)\n",
        "            return corpus, word_to_id, id_to_word\n",
        "\n",
        "        file_name = self.key_file[data_type]\n",
        "        file_path = self.dataset_dir + '/' + file_name\n",
        "        self._download(file_name)\n",
        "\n",
        "        words = open(file_path).read().replace('\\n', '<eos>').strip().split()\n",
        "        corpus = np.array([word_to_id[w] for w in words])\n",
        "\n",
        "        np.save(save_path, corpus)\n",
        "        return corpus, word_to_id, id_to_word"
      ],
      "execution_count": null,
      "outputs": []
    },
    {
      "cell_type": "code",
      "metadata": {
        "id": "2t2JOfPsnVKm"
      },
      "source": [
        "ptb = Ptb()\n",
        "for data_type in ('train', 'val', 'test'):\n",
        "    ptb.load_data(data_type)"
      ],
      "execution_count": null,
      "outputs": []
    },
    {
      "cell_type": "code",
      "metadata": {
        "colab": {
          "base_uri": "https://localhost:8080/"
        },
        "id": "4YlQE9_UjY6P",
        "outputId": "c63b5336-4458-45c4-9412-d6d8e4c9eb15"
      },
      "source": [
        "%%time\n",
        "window_size = 2\n",
        "wordvec_size = 100\n",
        "corpus, word_to_id, id_to_word = Ptb().load_data('train')\n",
        "vocab_size = len(word_to_id)\n",
        "\n",
        "print('counting  co-occurrence ...')\n",
        "C = create_co_matrix(corpus, vocab_size, window_size)\n",
        "print('calculating PPMI ...')\n",
        "W = ppmi(C, verbose=True)\n",
        "\n",
        "print('calculating SVD ...')\n",
        "try:\n",
        "    # truncated SVD (fast!)\n",
        "    from sklearn.utils.extmath import randomized_svd\n",
        "    U, S, V = randomized_svd(W, n_components=wordvec_size, n_iter=5,\n",
        "                             random_state=None)\n",
        "except ImportError:\n",
        "    # SVD (slow)\n",
        "    U, S, V = np.linalg.svd(W)"
      ],
      "execution_count": null,
      "outputs": [
        {
          "output_type": "stream",
          "text": [
            "counting  co-occurrence ...\n",
            "calculating PPMI ...\n",
            "1.0 done\n",
            "2.0 done\n",
            "3.0 done\n",
            "4.0 done\n",
            "5.0 done\n",
            "6.0 done\n",
            "7.0 done\n",
            "8.0 done\n",
            "9.0 done\n",
            "10.0 done\n",
            "11.0 done\n",
            "12.0 done\n",
            "13.0 done\n",
            "14.0 done\n",
            "15.0 done\n",
            "16.0 done\n",
            "17.0 done\n",
            "18.0 done\n",
            "19.0 done\n",
            "20.0 done\n",
            "21.0 done\n",
            "22.0 done\n",
            "23.0 done\n",
            "24.0 done\n",
            "25.0 done\n",
            "26.0 done\n",
            "27.0 done\n",
            "28.0 done\n",
            "29.0 done\n",
            "30.0 done\n",
            "31.0 done\n",
            "32.0 done\n",
            "33.0 done\n",
            "34.0 done\n",
            "35.0 done\n",
            "36.0 done\n",
            "37.0 done\n",
            "38.0 done\n",
            "39.0 done\n",
            "40.0 done\n",
            "41.0 done\n",
            "42.0 done\n",
            "43.0 done\n",
            "44.0 done\n",
            "45.0 done\n",
            "46.0 done\n",
            "47.0 done\n",
            "48.0 done\n",
            "49.0 done\n",
            "50.0 done\n",
            "51.0 done\n",
            "52.0 done\n",
            "53.0 done\n",
            "54.0 done\n",
            "55.0 done\n",
            "56.0 done\n",
            "57.0 done\n",
            "58.0 done\n",
            "59.0 done\n",
            "60.0 done\n",
            "61.0 done\n",
            "62.0 done\n",
            "63.0 done\n",
            "64.0 done\n",
            "65.0 done\n",
            "66.0 done\n",
            "67.0 done\n",
            "68.0 done\n",
            "69.0 done\n",
            "70.0 done\n",
            "71.0 done\n",
            "72.0 done\n",
            "73.0 done\n",
            "74.0 done\n",
            "75.0 done\n",
            "76.0 done\n",
            "77.0 done\n",
            "78.0 done\n",
            "79.0 done\n",
            "80.0 done\n",
            "81.0 done\n",
            "82.0 done\n",
            "83.0 done\n",
            "84.0 done\n",
            "85.0 done\n",
            "86.0 done\n",
            "87.0 done\n",
            "88.0 done\n",
            "89.0 done\n",
            "90.0 done\n",
            "91.0 done\n",
            "92.0 done\n",
            "93.0 done\n",
            "94.0 done\n",
            "95.0 done\n",
            "96.0 done\n",
            "97.0 done\n",
            "98.0 done\n",
            "99.0 done\n",
            "calculating SVD ...\n",
            "CPU times: user 9min 16s, sys: 2.51 s, total: 9min 19s\n",
            "Wall time: 9min 14s\n"
          ],
          "name": "stdout"
        }
      ]
    },
    {
      "cell_type": "code",
      "metadata": {
        "colab": {
          "base_uri": "https://localhost:8080/"
        },
        "id": "G8KMsvKvl8mB",
        "outputId": "933dd4ee-41f1-44fa-9dc3-95a8980ebc9b"
      },
      "source": [
        "%%time\n",
        "word_vecs = U[:, :wordvec_size]\n",
        "\n",
        "querys = ['you', 'year', 'car', 'toyota']\n",
        "for query in querys:\n",
        "    most_similar(query, word_to_id, id_to_word, word_vecs, top=5)"
      ],
      "execution_count": null,
      "outputs": [
        {
          "output_type": "stream",
          "text": [
            "\n",
            "[query] you\n",
            " i: 0.7182652354240417\n",
            " we: 0.6270021200180054\n",
            " 've: 0.5716179013252258\n",
            " do: 0.5598205924034119\n",
            " 'll: 0.5540858507156372\n",
            "\n",
            "[query] year\n",
            " month: 0.7013973593711853\n",
            " earlier: 0.6302028298377991\n",
            " quarter: 0.605720579624176\n",
            " last: 0.5910311341285706\n",
            " next: 0.5647600889205933\n",
            "\n",
            "[query] car\n",
            " luxury: 0.647039532661438\n",
            " auto: 0.5764955878257751\n",
            " truck: 0.500117838382721\n",
            " corsica: 0.4579145312309265\n",
            " cars: 0.441764235496521\n",
            "\n",
            "[query] toyota\n",
            " motor: 0.7586854696273804\n",
            " nissan: 0.6616930365562439\n",
            " honda: 0.6334963440895081\n",
            " motors: 0.6171403527259827\n",
            " chevrolet: 0.5849233269691467\n",
            "CPU times: user 1.72 s, sys: 213 ms, total: 1.93 s\n",
            "Wall time: 1.63 s\n"
          ],
          "name": "stdout"
        }
      ]
    }
  ]
}